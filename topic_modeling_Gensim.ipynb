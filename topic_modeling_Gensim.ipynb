{
  "cells": [
    {
      "cell_type": "code",
      "execution_count": null,
      "metadata": {
        "id": "AlxSeb8o9b_g"
      },
      "outputs": [],
      "source": [
        "import warnings\n",
        "warnings.filterwarnings('ignore')\n",
        "import spacy\n",
        "spacy.load('en')\n",
        "from spacy.lang.en import English\n",
        "parser = English()\n",
        "\n",
        "def tokenize(text):\n",
        "    lda_tokens = []\n",
        "    tokens = parser(text)\n",
        "    for token in tokens:\n",
        "        if token.orth_.isspace():\n",
        "            continue\n",
        "        elif token.like_url:\n",
        "            lda_tokens.append('URL')\n",
        "        elif token.orth_.startswith('@'):\n",
        "            lda_tokens.append('SCREEN_NAME')\n",
        "        else:\n",
        "            lda_tokens.append(token.lower_)\n",
        "    return lda_tokens"
      ]
    },
    {
      "cell_type": "code",
      "execution_count": null,
      "metadata": {
        "colab": {
          "base_uri": "https://localhost:8080/"
        },
        "id": "opl98hJZ9b_s",
        "outputId": "3adc3a87-ba83-436a-a6ce-cbfbf8e4710d"
      },
      "outputs": [
        {
          "output_type": "stream",
          "name": "stdout",
          "text": [
            "[nltk_data] Downloading package wordnet to /root/nltk_data...\n",
            "[nltk_data]   Package wordnet is already up-to-date!\n"
          ]
        },
        {
          "output_type": "execute_result",
          "data": {
            "text/plain": [
              "True"
            ]
          },
          "metadata": {},
          "execution_count": 57
        }
      ],
      "source": [
        "import nltk\n",
        "nltk.download('wordnet')"
      ]
    },
    {
      "cell_type": "code",
      "execution_count": null,
      "metadata": {
        "id": "icHyFlwA9b_v"
      },
      "outputs": [],
      "source": [
        "from nltk.corpus import wordnet as wn\n",
        "def get_lemma(word):\n",
        "    lemma = wn.morphy(word)\n",
        "    if lemma is None:\n",
        "        return word\n",
        "    else:\n",
        "        return lemma\n",
        "    \n",
        "from nltk.stem.wordnet import WordNetLemmatizer\n",
        "def get_lemma2(word):\n",
        "    return WordNetLemmatizer().lemmatize(word)"
      ]
    },
    {
      "cell_type": "code",
      "execution_count": null,
      "metadata": {
        "colab": {
          "base_uri": "https://localhost:8080/"
        },
        "id": "JLhlu_Az9b_w",
        "outputId": "0e39678a-1b88-4792-b114-4ec9f4b96083"
      },
      "outputs": [
        {
          "output_type": "stream",
          "name": "stdout",
          "text": [
            "dogs dog dog\n",
            "ran run ran\n",
            "discouraged discourage discouraged\n"
          ]
        }
      ],
      "source": [
        "for w in ['dogs', 'ran', 'discouraged']:\n",
        "    print(w, get_lemma(w), get_lemma2(w))"
      ]
    },
    {
      "cell_type": "code",
      "execution_count": null,
      "metadata": {
        "colab": {
          "base_uri": "https://localhost:8080/"
        },
        "id": "OEe5lEEt9b_y",
        "outputId": "5deedc1a-5e3a-4205-f1d3-7b93332d2bef"
      },
      "outputs": [
        {
          "output_type": "stream",
          "name": "stdout",
          "text": [
            "[nltk_data] Downloading package stopwords to /root/nltk_data...\n",
            "[nltk_data]   Package stopwords is already up-to-date!\n"
          ]
        }
      ],
      "source": [
        "nltk.download('stopwords')\n",
        "en_stop = set(nltk.corpus.stopwords.words('english'))"
      ]
    },
    {
      "cell_type": "code",
      "execution_count": null,
      "metadata": {
        "id": "Mh2rnsWq9b_z"
      },
      "outputs": [],
      "source": [
        "def prepare_text_for_lda(text):\n",
        "    tokens = tokenize(text)\n",
        "    tokens = [token for token in tokens if len(token) > 4]\n",
        "    tokens = [token for token in tokens if token not in en_stop]\n",
        "    tokens = [get_lemma(token) for token in tokens]\n",
        "    return tokens"
      ]
    },
    {
      "cell_type": "code",
      "source": [
        "!pip install pycld2"
      ],
      "metadata": {
        "id": "9p_EKsaxFCaj",
        "colab": {
          "base_uri": "https://localhost:8080/"
        },
        "outputId": "232467b5-12ab-460c-b6b6-683adef12f73"
      },
      "execution_count": null,
      "outputs": [
        {
          "output_type": "stream",
          "name": "stdout",
          "text": [
            "Requirement already satisfied: pycld2 in /usr/local/lib/python3.7/dist-packages (0.41)\n"
          ]
        }
      ]
    },
    {
      "cell_type": "code",
      "source": [
        "import json\n",
        "import pickle\n",
        "import pandas as pd\n",
        "import re\n",
        "import pycld2 as cld2\n",
        "#with open('22gpt3.json') as f:\n",
        "    # returns JSON object as\n",
        "    # a dictionary\n",
        "    #data = json.load(f)\n",
        "data=pd.read_csv('/content/profs_for_graph.csv',index_col=False)\n",
        "test_data=[]\n",
        "other_data=[]\n",
        "data=data.drop('Unnamed: 0',axis=1)\n",
        "print(data.head())\n",
        "# Iterating through the json\n",
        "# list\n",
        "data = data.reset_index()  # make sure indexes pair with number of rows\n",
        "for index, row in data.iterrows():\n",
        "    #c=data[k]['content']\n",
        "    if pd.notnull(row['text']) is True:\n",
        "      c=row['text']\n",
        "      c=(c.encode('ascii','ignore')).decode()\n",
        "      c= re.sub('[!,*)@#%(&$_?.^]', '', c)\n",
        "      c= re.sub('\\n','',c)\n",
        "      c= re.sub('\\t','',c)\n",
        "      c= re.sub(r'http\\S+', '', c)\n",
        "      _,_,details=cld2.detect(c)\n",
        "      if details[0][1]=='en' and details[0][2]>90:\n",
        "          test_data.append(c)\n",
        "            # other_data.append({'name':data[k]['user']['username'],\n",
        "            # 'verified':data[k]['user']['verified'],\n",
        "            # 'retweets':data[k]['retweetCount'],\n",
        "            # 'likes':data[k]['likeCount']})\n",
        "\n",
        "csv_data=pd.DataFrame(test_data)\n",
        "csv_data.to_csv('profs.csv',index=False)"
      ],
      "metadata": {
        "id": "uBZmnWRADdDI",
        "colab": {
          "base_uri": "https://localhost:8080/"
        },
        "outputId": "1c234d16-cd0a-4eef-acad-672722bc7256"
      },
      "execution_count": null,
      "outputs": [
        {
          "output_type": "stream",
          "name": "stdout",
          "text": [
            "             id  timestamp_utc                 local_time user_screen_name  \\\n",
            "0  1.518949e+18            NaN  2022-04-26T13:43:37+00:00        beenwrekt   \n",
            "1           NaN            NaN                        NaN              NaN   \n",
            "2  1.518948e+18            NaN  2022-04-26T13:40:26+00:00        beenwrekt   \n",
            "3           NaN            NaN                        NaN              NaN   \n",
            "4  1.518942e+18            NaN  2022-04-26T13:16:52+00:00        beenwrekt   \n",
            "\n",
            "                                                text  possibly_sensitive  \\\n",
            "0  @schmangee He traces out a repeated pattern in...                 0.0   \n",
            "1                                                NaN                 NaN   \n",
            "2  @schmangee Sadly, I find Tim Wu's arguments of...                 0.0   \n",
            "3                                                NaN                 NaN   \n",
            "4  @Bernstein Importantly, in the intervening yea...                 0.0   \n",
            "\n",
            "   retweet_count  like_count  reply_count lang  ...  place_type  \\\n",
            "0            0.0         3.0          1.0   en  ...         NaN   \n",
            "1            NaN         NaN          NaN  NaN  ...         NaN   \n",
            "2            0.0         0.0          1.0   en  ...         NaN   \n",
            "3            NaN         NaN          NaN  NaN  ...         NaN   \n",
            "4            0.0         2.0          0.0   en  ...         NaN   \n",
            "\n",
            "   place_coordinates  links  domains  media_urls  media_files  media_types  \\\n",
            "0                NaN    NaN      NaN         NaN          NaN          NaN   \n",
            "1                NaN    NaN      NaN         NaN          NaN          NaN   \n",
            "2                NaN    NaN      NaN         NaN          NaN          NaN   \n",
            "3                NaN    NaN      NaN         NaN          NaN          NaN   \n",
            "4                NaN    NaN      NaN         NaN          NaN          NaN   \n",
            "\n",
            "   mentioned_names  mentioned_ids hashtags  \n",
            "0              NaN            NaN      NaN  \n",
            "1              NaN            NaN      NaN  \n",
            "2              NaN            NaN      NaN  \n",
            "3              NaN            NaN      NaN  \n",
            "4              NaN            NaN      NaN  \n",
            "\n",
            "[5 rows x 55 columns]\n"
          ]
        }
      ]
    },
    {
      "cell_type": "code",
      "execution_count": null,
      "metadata": {
        "colab": {
          "base_uri": "https://localhost:8080/"
        },
        "id": "ZzsG-N_l9b_0",
        "outputId": "e48cd872-9f25-41eb-fc78-2bf52cb0481e"
      },
      "outputs": [
        {
          "output_type": "stream",
          "name": "stdout",
          "text": [
            "['neurips', '841io', 'lustmord', 'tribute', 'influence', 'interest', 'career']\n",
            "['ifihadastick', 'wespegden', 'exactly', 'finding', 'implausible', 'suggest', 'upstream', 'error']\n",
            "['anya1anya', 'available', 'online', 'means', 'preprint']\n",
            "['angrycardio', 'winner', 'whoever', 'close', 'oclock']\n",
            "['bergerbell', 'wespegden', 'devious', 'engineer', 'permanent', 'republicnan', 'control', 'explain', '1/348']\n",
            "['ocramzyo', 'big', 'mistake', 'thinking', 'machine', 'learning', 'automate', 'things', 'people']\n",
            "['boehninglab', 'reddit', 'downvotes']\n",
            "['ajlamesa', 'agree', 'first', 'point', 'concede', 'end', 'mandatory', 'masking']\n",
            "['zartmo3', 'schmangee', 'keegantweets', 'ajlamesa', 'clarify', 'argument', 'embracing', 'oster', 'group', 'epidemiologist', 'quote', 'later', 'article', 'tweet', 'disagree', 'twitter', 'article']\n",
            "['thenickfoy', 'tweet', 'nail']\n",
            "['plot', 'design', 'using', 'rectangular', 'block', 'single', 'section', 'foundation', 'paper', 'pieceable', 'plottertwitter', 'axidraw', 'quilting', 'foundationpaperpiecing']\n",
            "['article', 'audio', 'visual', 'slideshows', 'chi2020', 'mackenzie', 'leake', 'valentina']\n",
            "['need', 'balance', 'research', 'development', 'trade', 'effort', 'mindshare', 'virtuous', 'reward', 'cycle', 'travel', 'found', 'incentive', 'compsci', 'different', 'discipline']\n",
            "['though', 'appreciate', 'underlie', 'sentiment', 'position', 'seem', 'imply', 'blatant', 'violation', 'american', 'disability', 'exception', 'color', 'vision', 'deficiency', 'visualization', 'overdue', 'seriously', 'attending', 'accessibility', 'include']\n",
            "['seattle', 'friend', 'visualization', 'final', 'project', 'showcase', 'allen', 'center', 'atrium', 'visualization', 'astronomy', 'genomics', 'public', 'health', 'machine', 'learning']\n",
            "['stanford', 'advisee', 'finish', 'thanks', 'arvindsatya', 'skairam', 'diana', 'spence', 'seankandel', 'jcchuang', 'mbostock']\n",
            "['decision', 'future', 'already', 'arrive', 'mrgeepoet', 'brilliant', 'thought', 'provoke', 'odisummit2020', 'datafutures']\n",
            "['whatever', 'college', 'great', 'advice', 'academic', 'director', 'anyone', 'coming', 'interview', 'uniofoxford', 'oxinterview']\n",
            "['kudos', 'odihq', 'realise', 'potential', 'opendata']\n",
            "['trylks', 'doctorow', 'ponzi', 'oligopoly', 'perfectly', 'together', 'actually', 'explain', 'article', 'please', 'refer']\n",
            "['great', 'interview', 'academic', 'confirm', 'kahneman', 'saying', 'noise', 'human', 'judgement', 'looking', 'substantial', 'experimentally', 'confirm', 'degree', 'randomness', 'paper', 'acceptance', 'decision', 'algorithm', 'however']\n",
            "['trylks', 'jenheemstra', 'literally', 'every', 'stuff', 'learn', 'papers', 'book', 'better', 'advisor', 'knowing', 'crucial', 'advisor', 'might', 'better']\n",
            "['shahigautam', 'please', 'position']\n",
            "['might', 'miss', 'invitation', 'letter', 'would', 'great', 'conference', 'announce', 'upfront', 'visibility', 'names', 'buddy', 'reviewer', 'among', 'think', 'reviewer', 'names', 'fellow', 'reviewer']\n",
            "['xiaoweizhou5', 'attract', 'humility', 'depth', 'postdoc', 'surpass', 'expectation', 'learn', 'continue', 'steady', 'output', 'influential', 'papers', 'amaze', 'prepare', 'zhejiang', 'undergraduate', 'research']\n",
            "['docmilanfar', 'lreyzin', 'colleague', 'show', 'similar', 'satisfaction', 'could', 'inspire', 'young', 'academia']\n",
            "['ccanonne', 'algorithm', 'classic', 'textbook']\n",
            "['francoisfleuret', 'idiapch', 'unigeen', 'congratulations', 'francois', 'thank', 'lecture']\n",
            "['thanks', 'mlittmancs', 'definitely', 'project']\n",
            "['january', 'monthly', 'newsletter', 'computer', 'information', 'science', 'engineering', 'directorate', 'please', 'share', 'subscribe']\n",
            "['jlowepower', 'seeing', 'modsim', 'today', 'agree', 'background', 'sometimes', 'adjust', 'webcam', 'snooze', 'background', 'definitely', 'visible']\n",
            "['thanks', 'message', 'nsfcise', 'announcement', 'looking', 'forward', 'advocate', 'research', 'community', 'probably', 'tweet', 'follow', 'martonosigroup', 'group', 'research', 'result', 'papers', 'star']\n",
            "['jeffdean', 'uwcse', 'susan', 'inspiration', 'bring', 'clear', 'thinking', 'vision', 'precision', 'model', 'things', 'balance', 'lifelong', 'learning', 'decade', 'talk', 'grateful']\n",
            "['justinesherry', 'land', 'driver', 'truck', 'airport']\n",
            "['aasheeshkolli', 'welcome', 'gender', 'wrong']\n",
            "['paper', 'write', 'unusual', 'student', 'author', 'author', 'prof', 'different', 'university', 'first', 'paper', 'sigmetrics', 'person']\n",
            "['bensasse', 'belief', 'remain', 'senate', 'fervently', 'tweet']\n",
            "['kudos', 'indeed', 'celestekidd', 'spiantado', 'taking', 'courageous', 'stand', 'university', 'realize', 'tenure', 'shield', 'protect', 'harasser']\n",
            "['realbillms', 'vjchidambaram', 'delete', 'nothing']\n",
            "['tcuarch', 'chair', 'election', 'underway', 'profdavidwood', 'running', 'platform', 'merging', 'tcuarch', 'unify', 'research', 'community', 'improve', 'already', 'tcuarch', 'member', 'please', 'member', 'tcuarch']\n",
            "['future', 'arguably', 'better', 'place', 'plopesresearch', 'uchicagocs', 'amaze', 'deserve', 'award', 'super', 'person', 'congrats', 'pedro']\n",
            "['track', 'easily', 'could', 'great', 'lesson', 'capture', 'allure', 'ultra', 'distance', 'running', 'running', 'offer', 'lesson', 'transfer', 'thanks', 'damienlane1']\n",
            "['happy', 'diwali', 'chicago', 'morning', 'festival', 'light', 'first', 'sighting', 'millenium', 'treesouthsideruns']\n",
            "['angel', 'baking', 'cookie', 'mile', 'weather', 'weekend', 'southsideruns']\n",
            "['another', 'reason', 'hotcrp', 'conference', 'program', 'committee', 'chair', 'hotcrp', 'feature', '-xexd', 'bustamantefe']\n",
            "['working', 'management', 'important', 'skill', 'publish', 'management', 'productivity', 'tactics', 'unstructured', 'revise', 'earlier', 'writeup', 'favorite', 'recommendation']\n",
            "['extremely', 'quiet', 'running', 'stateway', 'taylor', 'parks', 'morning', 'historical', 'significance', 'place', 'reflection', 'stop', 'speak', 'black', 'member', 'chicagopolice', 'target', 'violence', 'complicate', 'learn']\n",
            "['september', 'boston', 'really', 'looking', 'forward', 'bostonmarathon', 'truly', 'lifetime', 'experience']\n",
            "['protect', 'throw', 'privacy', 'window', 'digitaltrends', 'iamsimonhill', 'talks', 'devices', 'protect', 'privacy', 'risk', 'install', 'learn', 'whether']\n",
            "['really', 'excite', 'guest', 'lecture', 'great', 'group', 'sic', 'student', 'uctnews', 'detecting', 'disinformation', 'social', 'medium', 'already', 'expert', 'working', 'problem', 'general', 'election', 'thanks', 'visseho09']\n",
            "['study', 'security', 'privacy', 'vulnerability', 'devices', 'princetoncs', 'smart', 'develop', 'harness', 'study', 'suggest', 'devices', 'harness', 'kashhill']\n",
            "['erinkburrell', 'deductible']\n",
            "['victorasal', 'couple', 'week', 'finally', 'haircut', 'would', 'beard']\n",
            "['black', 'senate', 'nojoke']\n",
            "['least', 'communism', 'russia', 'least', 'florida', 'vote']\n",
            "['danbri', 'links', 'model', 'link', 'stuff']\n",
            "['pecphd']\n",
            "['victorasal', 'spell']\n",
            "['eivindelseth', 'victorasal', 'academicchatter', 'either', 'try', 'practice', 'speaking', 'current', 'president']\n",
            "['excite', 'member', 'council', 'samp;t', 'policy', 'become', 'important', 'govts', 'around', 'world']\n",
            "['franberman', 'wamcroundtable', 'joecdonahue', 'terrygipsonny', 'r2croak', 'alanchartock', 'eccariusv', 'enckj', 'tboug', 'sarahladuke', 'bite', 'cancel', 'today', 'health', 'would', 'great', 'together', 'photo', 'rosemary', 'would', 'right']\n",
            "['michaelannedye']\n",
            "['gleemie', 'though', 'user', 'think', 'feature']\n",
            "['leave']\n",
            "['siobhcroo', 'probably', 'study', 'example']\n",
            "['great', 'visualization', 'explainer']\n",
            "['inadequate', 'insult', 'questions-', 'dozens', 'aware', 'concern', 'serious', 'urgent', 'enough-', 'stand', 'previous', 'investigation-', 'keeping', 'faculty']\n",
            "['rossdahlke', 'annenbergpenn', 'thanks', 'excite', 'stick', 'around', 'stanford', 'large', 'new', 'student']\n",
            "['arvindsatya1', 'thanks', 'arvind', 'remember', 'reassure', 'stress', 'school', 'everything', 'would', 'still', 'appreciate', 'reassurance', 'years', 'later']\n",
            "['nikhgarg', 'consider', 'level', 'consider', 'vaccination']\n",
            "['false', 'negativeseems', 'miserable', 'retrospect', 'ironman', 'triathlon', 'yesterday', 'friend', 'without', 'training']\n",
            "['conservative', 'doubling', 'undermine', 'press', 'white', 'house', 'bypass', 'medium', 'power', 'manipulate', 'distort', 'message', 'unleash', 'flurry', 'attack', 'aim', 'distract', 'agenda']\n",
            "['cizcg', 'clothes']\n",
            "['lizhoffmanbmc', 'trishgreenhalgh', 'tweet', 'condolence']\n",
            "['nicolacullum', 'alexis', 'talking', 'partner', 'moira', 'mostespecially', 'dress', 'thing', 'could', 'start', 'inhsr']\n",
            "['sotonstreets', 'southamptoncc', 'great', 'system', 'completely', 'transform', 'cycling', 'walking', 'white', 'lane', 'southamptoncc']\n",
            "['suzypuss', 'bbcradio4', 'really', 'enjoy', 'conversation']\n",
            "['cizcg', 'matthancock', 'think']\n",
            "['gillyhjjones', 'wonderful', 'congratulations', 'gilly']\n",
            "['nicolacullum', 'aliciaoc55', 'worth', 'attending', 'dance', '5rhythms', 'dancing']\n",
            "['nicolacullum', 'clahrcgm', 'pmw777', 'ruthboaden', 'romankislov', 'ajlittlewood', 'fantastic', 'stimulate', 'organise', 'thank']\n",
            "['katelippiett', 'awgilbert11']\n",
            "['remind', 'great', 'paper', 'pandatrial', 'result', 'categorisation', 'depression', 'stand', 'question', 'cfd1951', 'cizcg', 'tonykendrick', 'lewisglynn69']\n",
            "['outstanding', 'example', 'estimate', 'negative', 'genetic', 'correlation', 'alcohol', 'consumption', 'common', 'disease', 'pretty', 'drive', 'bias']\n",
            "['aamas2022', 'award', 'harisazizk', 'realization', 'virtual', 'format', 'aamas', 'social', 'activity', 'traditional', 'soccer', 'since', 'aamas07', 'peterstonetx', 'conitzer', 'lborovc', 'others', 'gettogether', 'boston', 'aamas', 'researcher', 'instead']\n",
            "['university', 'initiative', 'harvard', 'kempner', 'institute', 'study', 'natural', 'artificial', 'intelligence']\n",
            "['great', 'change', 'motivation', 'research', 'aminrahimian', 'paper', 'interest', 'latest', 'change', 'brwilder', 'collaboration', 'amulyayadav19', 'ericricephd']\n",
            "['arpitabiswas777', 'ijcai2021', 'paper', 'learning', 'policy', 'restless', 'multiarmed', 'bandit', 'public', 'health', 'intervention', 'fooobar', 'varakantham', 'aiforsocialgood', 'group', 'google', 'research', 'india', 'aiforsocialimpact', 'ijcaiconf']\n",
            "['absolutely', 'thrill', 'michaelminalab', 'speaker', 'aiforsocialimpact', 'seminar', 'series', 'hcrcs', 'cov-2', 'pandemic', 'prevent', 'similar', 'global', 'catastrophe', 'future']\n",
            "['today', 'final', 'seminar', 'semester', 'aiforsocialimpact', 'seminar', 'series', 'harvard', 'center', 'research', 'computation', 'society', 'hcrcs', 'seralinardi', 'seminar', 'lesson', 'imperfect', 'attempt', 'serve', 'academia']\n",
            "['forward', 'present', 'raise', 'summit', 'raiseaisummit', 'wednesday', 'interest', 'aiforsocialgood', 'google', 'research', 'india', 'particularly', 'public', 'health', 'stepssession']\n",
            "['great', 'explanation', 'joint', 'raviiitm', 'rbcdsaiiitm', 'looking', 'forward', 'continue', 'collaboration']\n",
            "['thank', 'sriram', 'wonderful', 'kickoff', 'societal', 'workshop', 'thank', 'host', 'event', 'msftresearch', 'india', 'coorganizing', 'excite', 'terms', 'type', 'research', 'collaboration', 'going', 'follow']\n",
            "['important', 'group', 'decision', 'making', 'agree', 'procedure', 'antony', 'jameson', 'keynote', 'intrsworkshop', 'recsys2021']\n",
            "['great', 'major', 'science', 'scipitt', 'pittdins', 'officially', 'start', 'great', 'opportunity', 'double', 'majors']\n",
            "['interest', 'conclusion', 'iui2021', 'paper', 'think', 'point', 'illusion', 'explanatory', 'depth', 'explainable', 'enough', 'explain', 'user', 'guide', 'truly', 'understand', 'explanation']\n",
            "['another', 'piece', 'journalism', 'theatlantic', 'write', 'ischools', 'professor', 'zeynep', 'discussion', 'threat', 'democracy', 'emerge', 'situation', 'beyond']\n",
            "['publish', 'present', 'asist2020', 'today', 'asistorg', 'grapevine', 'profilebased', 'exploratory', 'search', 'recommendation', 'system', 'finding', 'research', 'advisor', 'behnamrahdari', 'peterpaws', 'dbabichenko', 'littleton', 'patel', 'fawcett']\n",
            "['really', 'interest', 'actnext', 'using', 'student', 'modeling', 'framework', 'alinavdav', 'edm20', 'keynote', 'really', 'attention']\n",
            "['traditional', 'weekly', 'message', 'association']\n",
            "['colleague', 'receive', 'james', 'umuai', 'paper', 'award', 'recsys2019', 'dinner', 'congrats']\n",
            "['first', 'register', 'early']\n",
            "['honor', 'elect', 'acmsigweb', 'chair', 'looking', 'forward', 'colleague', 'eelcoherder', 'milenadobreva']\n",
            "['khushboo', 'thaker', 'present', 'building', 'student', 'model', 'reading', 'itextbooks2019', 'pawslab']\n",
            "['slide', 'keynote', 'umap2019', 'fairumap', 'workshop', 'interface', 'control', 'transparent', 'recommendation', 'peterpaws', 'control', 'transparency', 'slideshare']\n",
            "['simon', 'distinguish', 'lecture', 'future', 'higher', 'education', 'three', 'force', 'capacity', 'transform', 'america', 'college', 'university']\n",
            "['sebruder', 'really', 'paper', 'immediate', 'positive', 'application']\n",
            "['communism', 'eastern', 'europe', 'experience', 'firsthand', 'handful', 'extremist', 'million', 'happen', 'ukraine', 'feel', 'dream', 'heart', 'people', 'suffer', 'action', 'extremist', 'leader']\n",
            "['paradox', 'underrepresented', 'group', 'produce', 'innovative', 'likely', 'adopt', 'paradox', 'research', 'underrepresented', 'group', 'chance', 'bring', 'innovative', 'idea']\n",
            "['decadent', 'first', 'world', 'problem\"\"inspiring', 'saurabh', 'roguerad', 'talking', 'numerous', 'place', 'world', 'access', 'afford', 'medical', 'michiganai20symposium']\n",
            "['world', 'python', 'tutorial', 'attempt', 'entertain', 'group', '12yrs', 'teaching', 'python', 'madlibs', 'secret', 'code', 'drawing', 'rockpaperscissors', 'amp;other', 'stuff', 'python', 'colab', 'enjoy']\n",
            "['great', 'karen', 'spark', 'jones', 'remember', 'seminal', 'contribution', 'receive', 'lifetime', 'achievement', 'award', 'fortunate', 'yearher', 'slogan', 'computing', 'important']\n",
            "['company', 'diversity', 'invest', 'iteven', 'fewer', 'invest', 'significantlywhile', 'difficulty', 'raising', 'million', 'researchit', 'prove', 'challenge', 'raise', 'thousand', 'gender', 'techmany', 'offer', 'pizza', 'sorry']\n",
            "['shock']\n",
            "['notably', 'separation', 'oblivious', 'aware', 'adversary', 'sample', 'access', 'distribution', 'create', 'shadow', 'datasets', 'train', 'model', 'knowledge', 'exact', 'training', 'significant', 'difference']\n",
            "['excellent', 'opportunity', 'imdeasoftware', 'amaze', 'place', 'sabbatical']\n",
            "['malhanahnah', 'update', 'review', 'either', 'disappoint']\n",
            "['thejonullman', 'aaroth', 'paper', 'lower', 'bound', 'thanks']\n",
            "['decision', 'author', 'comment', 'blame', 'conference', 'ieeessp', 'rememberthe', 'conference', 'cabal', 'sitting', 'somewhere', 'member', 'community', 'mistake', 'adapt', 'think', 'chair', 'handle', 'admirably']\n",
            "['thesamli']\n",
            "['maxwelld90', 'thank', 'david']\n",
            "['striking', 'memoir', 'cryptography', 'pioneer', 'simmons']\n",
            "['topic', 'cambridge', 'security', 'group', 'three', 'paper', 'thursday', 'network', 'layer', 'attack', 'bitcoin']\n",
            "['science']\n",
            "['something', 'security', 'engineer', 'attention', 'background']\n",
            "['neurips2022', 'add', 'reviewer', 'chair', 'nomination', 'group', 'openreview', 'thank', 'review', 'later', 'invite', 'please', 'contact', 'nominate']\n",
            "['benajibayassine']\n",
            "['every', 'bayesian', 'approximately', 'bayesian', 'every', 'frequentist', 'subjectively', 'frequentist']\n",
            "['central', 'understanding', 'thermofluidic', 'process', 'extraction', 'physical', 'descriptor', 'highly', 'transient', 'droplet', 'population', 'learning', 'harness', 'descriptor', 'quantify', 'thermal', 'performance']\n",
            "['rock', 'definitely', 'perfect', 'better']\n",
            "['prescientdesign', 'growing', 'working', 'tackle', 'greatest', 'challenge', 'genentech']\n",
            "['srchvrs', 'leonyin', 'certainly', 'perfect', 'better', 'alternative']\n",
            "['srchvrs', 'leonyin', 'certainly', 'debug', 'beyond', 'provide', 'evidence', 'claim', 'favor', 'store', 'brand', 'product', 'search', 'product', 'ranking']\n",
            "['bernhardsson', 'wallet']\n",
            "['inkeun', 'hyeyoungyou', 'things', 'research', 'topic', 'korean']\n",
            "['asayeed', 'guilty', 'prove', 'guilty', 'school', 'please']\n",
            "['complete', 'trinity', 'email', 'google', 'devices', 'apple', 'browser']\n",
            "['nlpers', 'mlers', 'boring']\n",
            "['joaogui1', 'lintool', 'author', 'mistake', 'goyal', 'redpony', 'bergkirkpatrick']\n",
            "['actually', 'matter', 'unless', 'come', 'together', 'legislation', 'allow', 'protect', 'venue']\n",
            "[]\n",
            "['regret']\n",
            "['zhoubolei', 'yotamnitzan', 'thanks', 'zhoubolei', 'mention']\n",
            "['second', 'edition', 'wide', 'person', 'challenge', 'place', 'seoul', 'korea', 'conjunction', 'iccv2019', 'excite', 'challenge', 'great', 'prize', 'check']\n",
            "['looking', 'motivate', 'postdoc', 'interest', 'image', 'processing', 'computer', 'vision', 'learning', 'candidate', 'strong', 'system', 'building', 'capability', 'welcome', 'apply', 'please', 'contact', 'interest', 'ccloy']\n",
            "['video', 'portrait', 'siggraph', 'youtube']\n",
            "['brandybruja', 'thought', 'mean', 'reading', 'wonder', 'going', 'lace']\n",
            "['sibinmohan', 'think', 'artist', 'going', 'akhilesh']\n",
            "['seattlesingh', 'try', 'hiroki', 'greenlake', 'amaze', 'sushi', 'place', 'across', 'telling', 'given', 'seattle', 'singh', 'already']\n",
            "['sorishapragyan', 'freedomsutra', 'washprobs', 'works', 'theory', 'practice', 'front']\n",
            "['dev14e', 'johnregehr', 'summer', 'begin']\n",
            "['shekhargupta', 'comedy', 'rehne', 'please', 'take', 'courage']\n",
            "['tweetatakk', 'jhasomesh', 'shriramkmurthi', 'crispy', 'think', 'flavor', 'texture', 'conflict']\n",
            "['vinitbhavi', 'derekobrienmp', 'remember', 'certain', 'barack']\n",
            "['profjayfo', 'syardi', 'kurtluther', 'first', 'indesign', 'something', 'thinking', 'fancy', 'mjskay', 'move', 'page', 'update', 'never', 'search']\n",
            "['priyashmita', 'mohankapur', 'critical']\n",
            "['ps5share', 'ghostoftsushima']\n",
            "['ps5share', 'ghostoftsushima']\n",
            "['instagram']\n",
            "['vscocam', 'instagram']\n",
            "['instagram']\n",
            "['check', 'buildsys', 'paper', 'occupancy', 'sensing', 'journey', 'crossing', 'valley', 'death', 'research', 'practice', 'combine', 'power', 'superheros', 'paper', 'presentation', 'buildsys2020', 'sensys2020']\n",
            "['anonymous', 'review', 'prevent', 'retaliation', 'prevent', 'favouritism', 'emergence', 'clique', 'wherein', 'researcher', 'accept', 'others', 'papers']\n",
            "['thanksmarkgatissfor', 'beautifully', 'candid', 'interview', 'attitudemag', 'earth', 'touching', 'brave', 'never', 'doubt']\n",
            "['bayesfordays', 'haldaume3', 'definitely', 'domain', 'submit', 'paper', 'review']\n",
            "['social', 'network', 'impact', 'user', 'activity', 'timalthoff', 'present', 'findings', 'bigdatamed', 'activity', 'pokemongo']\n",
            "['interest', 'clinical', 'wearable', 'devices', 'mhealthconnect', 'tuesday', '04/18', 'mobilizecenter']\n",
            "['markgatiss', 'sorry', 'dream', 'mycroft', 'aspect', 'singing']\n",
            "['healingmachine', 'tomcopley', 'markgatiss', 'andrewcwarrilo', 'greenhouse', 'though', 'perpetual', 'twilight', 'almost', 'make']\n",
            "['tomorrow', '11:00', '12:00', 'host', 'bird', 'feather', 'social', 'application', 'rocketchat', 'channel', 'application', 'facilitate', 'continue', 'interaction', 'session']\n",
            "['meet', 'austen', 'towards', 'human', 'robot', 'discussion', 'literary', 'metaphor', 'report', 'findings', 'regard', 'usability', 'human', 'robot', 'discussion', 'system', 'poster', 'present', 'iaiedsociety', 'aied19']\n",
            "['potluck', 'tuesday', 'naturally', 'prepare', 'contribution', 'wecantallbechefs', 'everypartyneedsplates']\n",
            "['elinorcarmi', 'bucket']\n",
            "['disastrid', 'happening', 'tiktok']\n",
            "['watch', 'record', 'talks', 'jazoff', 'alxndrt', 'hcid2019', 'cityunihcid', 'lovely', 'resonance', 'amaze', 'talks', 'thank']\n",
            "['sampower825', 'control']\n",
            "['adhabb', 'ulivolz', 'valerieamos', 'adventure']\n",
            "['matemkeng', 'deepindaba', 'awesome', 'congrats', 'award']\n"
          ]
        }
      ],
      "source": [
        "import random\n",
        "text_data = []\n",
        "with open('profs.csv') as f:\n",
        "    for line in f:\n",
        "        tokens = prepare_text_for_lda(line)\n",
        "        if random.random() > .99:\n",
        "            print(tokens)\n",
        "            text_data.append(tokens)"
      ]
    },
    {
      "cell_type": "code",
      "execution_count": null,
      "metadata": {
        "id": "M8od-pKv9b_2"
      },
      "outputs": [],
      "source": [
        "from gensim import corpora\n",
        "dictionary = corpora.Dictionary(text_data)"
      ]
    },
    {
      "cell_type": "code",
      "execution_count": null,
      "metadata": {
        "id": "WjL4RQK29b_3"
      },
      "outputs": [],
      "source": [
        "corpus = [dictionary.doc2bow(text) for text in text_data]"
      ]
    },
    {
      "cell_type": "code",
      "execution_count": null,
      "metadata": {
        "id": "jcR_xOFw9b_4"
      },
      "outputs": [],
      "source": [
        "import pickle\n",
        "pickle.dump(corpus, open('corpus.pkl', 'wb'))\n",
        "dictionary.save('dictionary.gensim')"
      ]
    },
    {
      "cell_type": "markdown",
      "metadata": {
        "id": "S8s2TQdb9b_5"
      },
      "source": [
        "### Try 5 topics"
      ]
    },
    {
      "cell_type": "code",
      "execution_count": null,
      "metadata": {
        "id": "7oYh13Yr9b_7"
      },
      "outputs": [],
      "source": [
        "import gensim\n",
        "NUM_TOPICS = 5\n",
        "ldamodel = gensim.models.ldamodel.LdaModel(corpus, num_topics = NUM_TOPICS, id2word=dictionary, passes=15)\n",
        "ldamodel.save('model5.gensim')"
      ]
    },
    {
      "cell_type": "code",
      "execution_count": null,
      "metadata": {
        "id": "zH_qG8eY9b_8",
        "outputId": "02446923-f4cd-43bb-931a-8ef7765f9d7f",
        "colab": {
          "base_uri": "https://localhost:8080/"
        }
      },
      "outputs": [
        {
          "output_type": "stream",
          "name": "stdout",
          "text": [
            "(0, '0.009*\"great\" + 0.005*\"thank\" + 0.005*\"excite\" + 0.005*\"thanks\"')\n",
            "(1, '0.010*\"devices\" + 0.008*\"author\" + 0.006*\"study\" + 0.006*\"chair\"')\n",
            "(2, '0.009*\"research\" + 0.007*\"please\" + 0.007*\"tcuarch\" + 0.007*\"interest\"')\n",
            "(3, '0.010*\"great\" + 0.010*\"research\" + 0.007*\"paper\" + 0.007*\"would\"')\n",
            "(4, '0.011*\"paper\" + 0.008*\"seminar\" + 0.006*\"group\" + 0.006*\"review\"')\n"
          ]
        }
      ],
      "source": [
        "topics = ldamodel.print_topics(num_words=4)\n",
        "for topic in topics:\n",
        "    print(topic)"
      ]
    },
    {
      "cell_type": "code",
      "execution_count": null,
      "metadata": {
        "id": "_3jE7LqI9b_-",
        "outputId": "90e4050f-d49d-4db6-f5b6-012caf71d190",
        "colab": {
          "base_uri": "https://localhost:8080/"
        }
      },
      "outputs": [
        {
          "output_type": "stream",
          "name": "stdout",
          "text": [
            "[(35, 1), (36, 1), (187, 1), (948, 1)]\n",
            "[(0, 0.040160708), (1, 0.040175147), (2, 0.34663936), (3, 0.040600535), (4, 0.5324243)]\n"
          ]
        }
      ],
      "source": [
        "new_doc = 'Practical Bayesian Optimization of Machine Learning Algorithms'\n",
        "new_doc = prepare_text_for_lda(new_doc)\n",
        "new_doc_bow = dictionary.doc2bow(new_doc)\n",
        "print(new_doc_bow)\n",
        "print(ldamodel.get_document_topics(new_doc_bow))"
      ]
    },
    {
      "cell_type": "code",
      "execution_count": null,
      "metadata": {
        "id": "04saAAsz9b__",
        "outputId": "c9012299-cde1-4b0e-b449-0feff6dd0bd5",
        "colab": {
          "base_uri": "https://localhost:8080/"
        }
      },
      "outputs": [
        {
          "output_type": "stream",
          "name": "stdout",
          "text": [
            "(0, '0.004*\"looking\" + 0.004*\"interest\" + 0.004*\"thank\" + 0.004*\"learning\"')\n",
            "(1, '0.007*\"paper\" + 0.006*\"really\" + 0.005*\"please\" + 0.005*\"better\"')\n",
            "(2, '0.010*\"research\" + 0.009*\"great\" + 0.008*\"group\" + 0.005*\"paper\"')\n"
          ]
        }
      ],
      "source": [
        "ldamodel = gensim.models.ldamodel.LdaModel(corpus, num_topics = 3, id2word=dictionary, passes=15)\n",
        "ldamodel.save('model3.gensim')\n",
        "topics = ldamodel.print_topics(num_words=4)\n",
        "for topic in topics:\n",
        "    print(topic)"
      ]
    },
    {
      "cell_type": "code",
      "execution_count": null,
      "metadata": {
        "id": "EG4CUV5l9b__",
        "outputId": "3539d806-00d7-46f4-849d-d5f35600c4e8",
        "colab": {
          "base_uri": "https://localhost:8080/"
        }
      },
      "outputs": [
        {
          "output_type": "stream",
          "name": "stdout",
          "text": [
            "(0, '0.010*\"group\" + 0.010*\"python\" + 0.007*\"every\" + 0.007*\"nicolacullum\"')\n",
            "(1, '0.015*\"challenge\" + 0.011*\"great\" + 0.008*\"place\" + 0.008*\"devices\"')\n",
            "(2, '0.014*\"tcuarch\" + 0.011*\"great\" + 0.011*\"first\" + 0.011*\"research\"')\n",
            "(3, '0.010*\"paper\" + 0.010*\"definitely\" + 0.010*\"congrats\" + 0.010*\"award\"')\n",
            "(4, '0.011*\"thanks\" + 0.011*\"student\" + 0.011*\"great\" + 0.011*\"vision\"')\n",
            "(5, '0.009*\"application\" + 0.009*\"award\" + 0.009*\"instagram\" + 0.006*\"important\"')\n",
            "(6, '0.008*\"control\" + 0.008*\"please\" + 0.008*\"protect\" + 0.008*\"learn\"')\n",
            "(7, '0.011*\"really\" + 0.011*\"advisor\" + 0.007*\"would\" + 0.007*\"activity\"')\n",
            "(8, '0.019*\"paper\" + 0.008*\"author\" + 0.008*\"stand\" + 0.008*\"least\"')\n",
            "(9, '0.012*\"reviewer\" + 0.009*\"research\" + 0.009*\"paper\" + 0.009*\"later\"')\n"
          ]
        }
      ],
      "source": [
        "ldamodel = gensim.models.ldamodel.LdaModel(corpus, num_topics = 10, id2word=dictionary, passes=15)\n",
        "ldamodel.save('model10.gensim')\n",
        "topics = ldamodel.print_topics(num_words=4)\n",
        "for topic in topics:\n",
        "    print(topic)"
      ]
    },
    {
      "cell_type": "markdown",
      "metadata": {
        "id": "Sqkg3iCg9cAA"
      },
      "source": [
        "### pyLDAvis"
      ]
    },
    {
      "cell_type": "code",
      "execution_count": null,
      "metadata": {
        "id": "67HKVSgb9cAA"
      },
      "outputs": [],
      "source": [
        "dictionary = gensim.corpora.Dictionary.load('dictionary.gensim')\n",
        "corpus = pickle.load(open('corpus.pkl', 'rb'))\n",
        "lda = gensim.models.ldamodel.LdaModel.load('model5.gensim')"
      ]
    },
    {
      "cell_type": "code",
      "source": [
        "!pip install pyLDAvis\n",
        "!pip install pyLDAvis.gensim"
      ],
      "metadata": {
        "id": "b2aqciT7FnFX",
        "colab": {
          "base_uri": "https://localhost:8080/"
        },
        "outputId": "10d5ef2f-93bd-4f45-ce8c-4bd2ed7a6999"
      },
      "execution_count": null,
      "outputs": [
        {
          "output_type": "stream",
          "name": "stdout",
          "text": [
            "Requirement already satisfied: pyLDAvis in /usr/local/lib/python3.7/dist-packages (3.3.1)\n",
            "Requirement already satisfied: future in /usr/local/lib/python3.7/dist-packages (from pyLDAvis) (0.16.0)\n",
            "Requirement already satisfied: jinja2 in /usr/local/lib/python3.7/dist-packages (from pyLDAvis) (2.11.3)\n",
            "Requirement already satisfied: pandas>=1.2.0 in /usr/local/lib/python3.7/dist-packages (from pyLDAvis) (1.3.5)\n",
            "Requirement already satisfied: setuptools in /usr/local/lib/python3.7/dist-packages (from pyLDAvis) (57.4.0)\n",
            "Requirement already satisfied: scipy in /usr/local/lib/python3.7/dist-packages (from pyLDAvis) (1.4.1)\n",
            "Requirement already satisfied: numpy>=1.20.0 in /usr/local/lib/python3.7/dist-packages (from pyLDAvis) (1.21.6)\n",
            "Requirement already satisfied: sklearn in /usr/local/lib/python3.7/dist-packages (from pyLDAvis) (0.0)\n",
            "Requirement already satisfied: scikit-learn in /usr/local/lib/python3.7/dist-packages (from pyLDAvis) (1.0.2)\n",
            "Requirement already satisfied: funcy in /usr/local/lib/python3.7/dist-packages (from pyLDAvis) (1.17)\n",
            "Requirement already satisfied: joblib in /usr/local/lib/python3.7/dist-packages (from pyLDAvis) (1.1.0)\n",
            "Requirement already satisfied: gensim in /usr/local/lib/python3.7/dist-packages (from pyLDAvis) (3.6.0)\n",
            "Requirement already satisfied: numexpr in /usr/local/lib/python3.7/dist-packages (from pyLDAvis) (2.8.1)\n",
            "Requirement already satisfied: python-dateutil>=2.7.3 in /usr/local/lib/python3.7/dist-packages (from pandas>=1.2.0->pyLDAvis) (2.8.2)\n",
            "Requirement already satisfied: pytz>=2017.3 in /usr/local/lib/python3.7/dist-packages (from pandas>=1.2.0->pyLDAvis) (2022.1)\n",
            "Requirement already satisfied: six>=1.5 in /usr/local/lib/python3.7/dist-packages (from python-dateutil>=2.7.3->pandas>=1.2.0->pyLDAvis) (1.15.0)\n",
            "Requirement already satisfied: smart-open>=1.2.1 in /usr/local/lib/python3.7/dist-packages (from gensim->pyLDAvis) (6.0.0)\n",
            "Requirement already satisfied: MarkupSafe>=0.23 in /usr/local/lib/python3.7/dist-packages (from jinja2->pyLDAvis) (2.0.1)\n",
            "Requirement already satisfied: packaging in /usr/local/lib/python3.7/dist-packages (from numexpr->pyLDAvis) (21.3)\n",
            "Requirement already satisfied: pyparsing!=3.0.5,>=2.0.2 in /usr/local/lib/python3.7/dist-packages (from packaging->numexpr->pyLDAvis) (3.0.8)\n",
            "Requirement already satisfied: threadpoolctl>=2.0.0 in /usr/local/lib/python3.7/dist-packages (from scikit-learn->pyLDAvis) (3.1.0)\n",
            "\u001b[31mERROR: Could not find a version that satisfies the requirement pyLDAvis.gensim (from versions: none)\u001b[0m\n",
            "\u001b[31mERROR: No matching distribution found for pyLDAvis.gensim\u001b[0m\n"
          ]
        }
      ]
    },
    {
      "cell_type": "code",
      "source": [
        "import warnings\n",
        "warnings.filterwarnings('ignore')"
      ],
      "metadata": {
        "id": "bWEKtCp3SmN6"
      },
      "execution_count": null,
      "outputs": []
    },
    {
      "cell_type": "code",
      "execution_count": null,
      "metadata": {
        "id": "FyKjyoUe9cAB",
        "outputId": "6b0713c0-b7e3-4f1f-9b33-6fc4698b7477",
        "colab": {
          "base_uri": "https://localhost:8080/",
          "height": 861
        }
      },
      "outputs": [
        {
          "output_type": "execute_result",
          "data": {
            "text/plain": [
              "<IPython.core.display.HTML object>"
            ],
            "text/html": [
              "\n",
              "<link rel=\"stylesheet\" type=\"text/css\" href=\"https://cdn.jsdelivr.net/gh/bmabey/pyLDAvis@3.3.1/pyLDAvis/js/ldavis.v1.0.0.css\">\n",
              "\n",
              "\n",
              "<div id=\"ldavis_el611406418203072805182391827\"></div>\n",
              "<script type=\"text/javascript\">\n",
              "\n",
              "var ldavis_el611406418203072805182391827_data = {\"mdsDat\": {\"x\": [0.04742574028048664, 0.038175606503319214, 0.08062073199848248, -0.09283736298438242, -0.07338471579790586], \"y\": [0.025896868589344813, -0.11411299528366965, 0.0692350667209018, 0.054527664850637925, -0.035546604877214734], \"topics\": [1, 2, 3, 4, 5], \"cluster\": [1, 1, 1, 1, 1], \"Freq\": [20.524735098461193, 18.051541981217905, 20.80446506741429, 22.230936285088493, 18.38832156781812]}, \"tinfo\": {\"Term\": [\"devices\", \"author\", \"seminar\", \"tcuarch\", \"research\", \"great\", \"would\", \"privacy\", \"aiforsocialimpact\", \"study\", \"review\", \"conference\", \"python\", \"instagram\", \"tweet\", \"interest\", \"first\", \"award\", \"amaze\", \"control\", \"paper\", \"chair\", \"important\", \"running\", \"visualization\", \"already\", \"reviewer\", \"protect\", \"really\", \"world\", \"python\", \"instagram\", \"southamptoncc\", \"guilty\", \"black\", \"zhoubolei\", \"senate\", \"ps5share\", \"ghostoftsushima\", \"something\", \"building\", \"welcome\", \"important\", \"running\", \"visseho09\", \"uctnews\", \"expert\", \"taylor\", \"problem\", \"general\", \"historical\", \"quiet\", \"disinformation\", \"stop\", \"reflection\", \"complicate\", \"drawing\", \"parks\", \"extremely\", \"chicagopolice\", \"excite\", \"tweet\", \"agree\", \"victorasal\", \"prevent\", \"lesson\", \"working\", \"advisor\", \"stuff\", \"thank\", \"great\", \"system\", \"model\", \"learn\", \"world\", \"papers\", \"thanks\", \"group\", \"better\", \"student\", \"really\", \"first\", \"member\", \"devices\", \"author\", \"privacy\", \"robot\", \"product\", \"hotcrp\", \"certainly\", \"srchvrs\", \"leonyin\", \"example\", \"study\", \"conference\", \"towards\", \"literary\", \"metaphor\", \"iaiedsociety\", \"report\", \"regard\", \"meet\", \"poster\", \"austen\", \"usability\", \"aied19\", \"grateful\", \"precision\", \"jeffdean\", \"decade\", \"lifelong\", \"evidence\", \"inspiration\", \"chair\", \"discussion\", \"mistake\", \"human\", \"background\", \"lecture\", \"science\", \"harness\", \"first\", \"control\", \"university\", \"protect\", \"tuesday\", \"student\", \"paper\", \"great\", \"definitely\", \"security\", \"tcuarch\", \"seattle\", \"bayesian\", \"frequentist\", \"consider\", \"publish\", \"position\", \"management\", \"visualization\", \"already\", \"fawcett\", \"asist2020\", \"asistorg\", \"grapevine\", \"dbabichenko\", \"littleton\", \"profilebased\", \"merging\", \"patel\", \"platform\", \"profdavidwood\", \"behnamrahdari\", \"exploratory\", \"underway\", \"unify\", \"improve\", \"star\", \"epidemiologist\", \"twitter\", \"announcement\", \"recommendation\", \"community\", \"every\", \"message\", \"please\", \"interest\", \"really\", \"place\", \"research\", \"protect\", \"article\", \"world\", \"thanks\", \"member\", \"tweet\", \"amaze\", \"group\", \"paper\", \"science\", \"project\", \"names\", \"paradox\", \"underrepresented\", \"change\", \"innovative\", \"experience\", \"extremist\", \"boston\", \"aamas\", \"descriptor\", \"check\", \"power\", \"would\", \"reviewer\", \"upfront\", \"letter\", \"visibility\", \"invitation\", \"miss\", \"among\", \"announce\", \"buddy\", \"fellow\", \"produce\", \"steady\", \"chance\", \"raiseaisummit\", \"idea\", \"likely\", \"particularly\", \"forward\", \"award\", \"amaze\", \"talks\", \"person\", \"continue\", \"interview\", \"congrats\", \"remember\", \"collaboration\", \"together\", \"though\", \"research\", \"great\", \"think\", \"challenge\", \"paper\", \"looking\", \"health\", \"seminar\", \"aiforsocialimpact\", \"similar\", \"network\", \"wespegden\", \"least\", \"sorry\", \"invest\", \"academia\", \"hcrcs\", \"series\", \"confirm\", \"review\", \"ijcaiconf\", \"fooobar\", \"multiarmed\", \"restless\", \"varakantham\", \"ijcai2021\", \"arpitabiswas777\", \"bandit\", \"intervention\", \"thrill\", \"axidraw\", \"absolutely\", \"global\", \"insult\", \"inadequate\", \"michaelminalab\", \"faculty\", \"cizcg\", \"application\", \"stand\", \"activity\", \"paper\", \"control\", \"social\", \"group\", \"learning\", \"think\", \"research\", \"great\", \"practice\", \"either\", \"user\", \"definitely\", \"gender\"], \"Freq\": [3.0, 2.0, 2.0, 2.0, 8.0, 9.0, 3.0, 2.0, 2.0, 2.0, 2.0, 2.0, 2.0, 2.0, 3.0, 5.0, 4.0, 3.0, 3.0, 2.0, 9.0, 3.0, 2.0, 2.0, 2.0, 2.0, 2.0, 2.0, 4.0, 2.0, 1.8736704097534014, 1.8735376931781758, 1.2881426073424818, 1.2881345421354433, 1.2881301501910165, 1.2881295912162711, 1.288124161175889, 1.2880899838628945, 1.2880799223174804, 1.2880319303429253, 1.2879707625350896, 1.287933790348369, 1.8737194398239119, 1.8731804284624358, 0.7026240679416258, 0.7026239082345558, 0.7026239082345558, 0.7026238283810207, 0.7026238283810207, 0.7026238283810207, 0.7026237485274857, 0.7026237485274857, 0.7026238283810207, 0.7026237485274857, 0.7026236686739507, 0.7026236686739507, 0.7026236686739507, 0.7026236686739507, 0.7026236686739507, 0.7026235888204156, 1.875846099168924, 1.8726666508180303, 1.2882298872562732, 1.2875388347640933, 1.2882965649580262, 1.2874612171280408, 1.2884209767656085, 1.2883305027104155, 1.2897651513208275, 1.8778231129892835, 3.043894419861402, 1.2882597524783759, 1.2898440466134404, 1.2887150773351368, 1.2881353406707936, 1.2885764515983187, 1.8752318657774465, 1.8742047896098455, 1.291365975137644, 1.2885568076287004, 1.2883459942962119, 1.2882639048621976, 1.2881476381151888, 2.899986733019951, 2.3495524781094685, 1.7903376214205582, 1.2308585544688948, 1.2308565879916602, 1.230854059663787, 1.230851109947935, 1.230850688559956, 1.230849564858679, 1.2303651091456351, 1.7914575302057418, 1.7905403090383958, 0.671375624794092, 0.671375624794092, 0.6713754141001025, 0.6713753438687727, 0.6713753438687727, 0.6713752736374429, 0.6713752736374429, 0.6713752034061131, 0.6713750629434534, 0.671374852249464, 0.6713747117868044, 0.6713745010928149, 0.6713744308614852, 0.6713743606301553, 0.6713742201674957, 0.6713741499361658, 0.6713741499361658, 0.6713740094735062, 1.7911093232725335, 1.2314774329471991, 1.2311252930595211, 1.2310873681414227, 1.2323544817938925, 1.2309327187531764, 1.2297532538003122, 1.231401583111002, 1.7908675870353201, 1.2325266890145918, 1.2319829580591866, 1.2310889132306786, 0.8579054717385779, 1.2316478141533231, 1.2307328403885311, 1.228775212301349, 0.6730533810319731, 0.6719786309918586, 2.476851443170682, 1.29739347993928, 1.2973872474166406, 1.2973865998818208, 1.2973786675802796, 1.2972540980693443, 1.2972192930727866, 1.2970913240040478, 1.8917522545738232, 1.8874707543461149, 0.7076685454162018, 0.7076685454162018, 0.7076685454162018, 0.707668383532497, 0.7076683025906445, 0.7076683025906445, 0.7076683025906445, 0.707668221648792, 0.7076681407069395, 0.7076680597650871, 0.7076680597650871, 0.7076680597650871, 0.7076678978813822, 0.7076678169395297, 0.7076678169395297, 0.7076677359976772, 0.7076676550558247, 0.7076674931721199, 0.7076674931721199, 0.7076674931721199, 1.2976305586251344, 1.2975896020477897, 1.2975295431932645, 1.2977330310103483, 2.4795817737378525, 2.476700729441402, 1.887886147932938, 1.8879873252485129, 3.0685441550689077, 1.297038873683654, 1.2986836121256349, 1.297406511577526, 1.8891548305283914, 1.2977262318947418, 1.2983880934223047, 1.2970001834781781, 1.2970575712515722, 1.294851662946488, 0.7087819815386375, 0.7084498771179953, 1.3402245842200216, 1.3402232868448, 1.3402227678947116, 1.340222248944623, 1.3402219029778972, 1.340200712515948, 1.3401923228228498, 1.3401234754444356, 1.3400054142992905, 1.3398446262635213, 1.3395835943689807, 1.3394906158114488, 2.559828042508085, 1.9500521743767993, 0.7310292482544604, 0.7310292482544604, 0.7310289887794161, 0.7310289887794161, 0.7310289887794161, 0.7310288157960533, 0.7310288157960533, 0.7310288157960533, 0.7310287293043718, 0.7310276914041948, 0.7310275184208319, 0.7310274319291504, 0.7310273454374691, 0.7310273454374691, 0.7310273454374691, 0.7310272589457876, 1.9507733420165212, 1.9504130176717045, 1.9498214145707575, 1.3404306938968573, 1.3399222957934411, 1.3406054070933358, 1.3403822585552592, 1.3412000374031328, 1.340794910367338, 1.3403465374908308, 1.340450154525178, 1.3401025444575307, 3.7783842595174546, 3.780715037348496, 1.950978846251587, 1.3404361428727871, 2.5617455630852777, 1.3409153067878816, 1.340271462711354, 2.384743805841941, 1.8177927587204106, 1.2499060904954575, 1.2499046596633678, 1.2499022272488154, 1.2498972193365017, 1.2497863298495537, 1.2495961722648392, 1.2495751390331213, 1.249522341329013, 1.249510894672296, 1.249490290690205, 1.8184978727741905, 0.6817670950314945, 0.6817670950314945, 0.6817670950314945, 0.681766880406681, 0.681766880406681, 0.681766737323472, 0.6817665942402631, 0.6817665942402631, 0.6817665942402631, 0.6817653780329869, 0.6817653780329869, 0.6817653780329869, 0.6817653064913825, 0.6817653064913825, 0.6817651634081734, 0.681765091866569, 0.681765091866569, 1.254780506175271, 1.251080231308225, 1.2503148792234708, 1.250048315205169, 3.5326122521120835, 1.248195244565862, 1.250092957166366, 1.8186041835984517, 1.250777037988428, 1.2492540603122035, 1.248937417170764, 1.248858721405833, 0.6827655296636528, 0.6827272549052547, 0.6826140760869633, 0.6825638538806166, 0.6823812081643726], \"Total\": [3.0, 2.0, 2.0, 2.0, 8.0, 9.0, 3.0, 2.0, 2.0, 2.0, 2.0, 2.0, 2.0, 2.0, 3.0, 5.0, 4.0, 3.0, 3.0, 2.0, 9.0, 3.0, 2.0, 2.0, 2.0, 2.0, 2.0, 2.0, 4.0, 2.0, 2.338987896616717, 2.3389867246398817, 1.7534634924984345, 1.7534634729633782, 1.7534631862160768, 1.7534632358761766, 1.7534631934468043, 1.7534630225579957, 1.753462905037972, 1.7534677087068724, 1.7534646146145303, 1.7534647252330653, 2.9287305727324786, 2.9287509445145377, 1.1679392386608227, 1.1679392405436944, 1.1679392453061648, 1.1679391441357656, 1.1679392048944506, 1.16793923292247, 1.1679391812109652, 1.1679391873063543, 1.1679393247998437, 1.1679392135866533, 1.1679391890741957, 1.1679391923203617, 1.167939202963252, 1.167939241998079, 1.167939248730747, 1.167939182477291, 3.507666091971635, 3.5184505421886856, 2.3129524600370384, 2.312929705923052, 2.3216147748798255, 2.3216761986859296, 2.3431941633516042, 2.3431902633891326, 2.362592624418626, 4.6850239752318155, 9.420741949268399, 2.9026789695343913, 2.9220365208799497, 2.9221453172726064, 2.9329198547607054, 2.952377184640045, 5.886068101898949, 6.441215502121218, 3.511880379653881, 3.462113313637396, 4.131751920483823, 4.021614655603679, 3.4924246021842045, 3.380336360480849, 2.8203533454338574, 2.2608655250674583, 1.7013820204664467, 1.7013820555898813, 1.7013823210180943, 1.7013824479509956, 1.7013823930824108, 1.7013824889231077, 1.7013902104494645, 2.846337747492694, 2.8700218360543404, 1.1418987205316289, 1.1418987427398115, 1.1418986790449968, 1.1418986372217155, 1.1418986675813168, 1.1418986661031465, 1.1418986723506248, 1.141898730343545, 1.1418986735451229, 1.1418987205318316, 1.1418987441803272, 1.1418986437861873, 1.1418986923520036, 1.141898683219938, 1.1418987035032375, 1.1418987374120917, 1.1418988308287594, 1.141898683312915, 3.418714384017896, 2.2695159017603856, 2.2695241721177073, 2.2695347832537927, 2.286836631218823, 2.2869029895175763, 2.2911698828044225, 2.3105293716816173, 4.021614655603679, 2.8376438964172634, 2.876580187884182, 2.8808295869256058, 1.7215431742834975, 3.462113313637396, 9.311805244239356, 9.420741949268399, 2.908797522758527, 2.2955265292577307, 2.94132771408117, 1.7618713193687527, 1.7618712429713763, 1.7618712800329188, 1.7618710152851262, 1.761875848969983, 1.761862964056609, 1.7618812153534442, 2.9371490269021847, 2.9371261374602584, 1.1721431807087483, 1.1721432263012859, 1.1721432386494874, 1.1721432010680386, 1.1721431557547928, 1.1721431876459845, 1.1721431948235965, 1.1721431536313116, 1.1721431677016723, 1.172143071133429, 1.1721431075075333, 1.1721431396770272, 1.1721431907765698, 1.1721431222819685, 1.1721431780922524, 1.1721431680132268, 1.1721432176316458, 1.1721431488280902, 1.1721431612548923, 1.172143237196277, 2.321375657676618, 2.321369271738734, 2.3473963783318488, 2.3710553472314144, 5.28968858814932, 5.3306996087266, 4.131751920483823, 4.155490213959659, 8.90813908879971, 2.8808295869256058, 2.9305674467958975, 2.9329198547607054, 5.886068101898949, 3.4924246021842045, 3.5184505421886856, 3.5894713091776955, 6.441215502121218, 9.311805244239356, 2.2911698828044225, 1.7813118282606295, 1.8008066060510164, 1.800806598814739, 1.800806475196919, 1.8008066748613092, 1.8008065441857792, 1.8008059550397757, 1.8008057635135473, 1.800802834346414, 1.8007984475729304, 1.800775649033693, 1.8007836661045182, 1.800783299883712, 3.5788232847587156, 2.978195627622487, 1.1916107454730853, 1.1916107616719085, 1.1916107712251207, 1.1916107862490148, 1.191610796397175, 1.1916107329869858, 1.191610735474975, 1.1916107409773062, 1.1916107911574898, 1.1916106843006846, 1.1916106174014627, 1.1916106997887141, 1.1916106779176339, 1.1916106779989803, 1.1916107012924484, 1.1916106452873987, 3.559312547805186, 3.581091706626531, 3.5894713091776955, 2.3603074419689745, 2.3602928826047185, 2.3689756734669674, 2.3689642275108325, 2.386370927501791, 2.3863528979322868, 2.386335559160757, 2.390541901697855, 2.3905213174796764, 8.90813908879971, 9.420741949268399, 4.69557846350485, 2.954480995816261, 9.311805244239356, 4.103757114999689, 2.958682420396518, 2.8550912735324063, 2.2868626671624144, 1.7187015555278262, 1.7187016483884403, 1.7187017152799904, 1.7187017241837355, 1.718706060430661, 1.7187133889438093, 1.7187250505307519, 1.7187290378091529, 1.7187298299392304, 1.718723722366818, 2.872356886091336, 1.1505583135460373, 1.1505583382232496, 1.1505583657978855, 1.1505583037958838, 1.1505583452461385, 1.1505582921170312, 1.1505583373822739, 1.1505583888709139, 1.150558401310443, 1.1505583688734158, 1.1505583764981981, 1.1505584389442145, 1.1505584501319972, 1.150558455926845, 1.150558422750482, 1.150558370426237, 1.1505584021083706, 2.308244074726698, 2.304208320341418, 2.3084143128595276, 2.3278833111227644, 9.311805244239356, 2.8376438964172634, 2.913409220130384, 6.441215502121218, 4.062574843886308, 4.69557846350485, 8.90813908879971, 9.420741949268399, 2.3452528243145774, 1.73605310250128, 2.3494169544763763, 2.908797522758527, 1.7360645724839903], \"Category\": [\"Default\", \"Default\", \"Default\", \"Default\", \"Default\", \"Default\", \"Default\", \"Default\", \"Default\", \"Default\", \"Default\", \"Default\", \"Default\", \"Default\", \"Default\", \"Default\", \"Default\", \"Default\", \"Default\", \"Default\", \"Default\", \"Default\", \"Default\", \"Default\", \"Default\", \"Default\", \"Default\", \"Default\", \"Default\", \"Default\", \"Topic1\", \"Topic1\", \"Topic1\", \"Topic1\", \"Topic1\", \"Topic1\", \"Topic1\", \"Topic1\", \"Topic1\", \"Topic1\", \"Topic1\", \"Topic1\", \"Topic1\", \"Topic1\", \"Topic1\", \"Topic1\", \"Topic1\", \"Topic1\", \"Topic1\", \"Topic1\", \"Topic1\", \"Topic1\", \"Topic1\", \"Topic1\", \"Topic1\", \"Topic1\", \"Topic1\", \"Topic1\", \"Topic1\", \"Topic1\", \"Topic1\", \"Topic1\", \"Topic1\", \"Topic1\", \"Topic1\", \"Topic1\", \"Topic1\", \"Topic1\", \"Topic1\", \"Topic1\", \"Topic1\", \"Topic1\", \"Topic1\", \"Topic1\", \"Topic1\", \"Topic1\", \"Topic1\", \"Topic1\", \"Topic1\", \"Topic1\", \"Topic1\", \"Topic1\", \"Topic1\", \"Topic2\", \"Topic2\", \"Topic2\", \"Topic2\", \"Topic2\", \"Topic2\", \"Topic2\", \"Topic2\", \"Topic2\", \"Topic2\", \"Topic2\", \"Topic2\", \"Topic2\", \"Topic2\", \"Topic2\", \"Topic2\", \"Topic2\", \"Topic2\", \"Topic2\", \"Topic2\", \"Topic2\", \"Topic2\", \"Topic2\", \"Topic2\", \"Topic2\", \"Topic2\", \"Topic2\", \"Topic2\", \"Topic2\", \"Topic2\", \"Topic2\", \"Topic2\", \"Topic2\", \"Topic2\", \"Topic2\", \"Topic2\", \"Topic2\", \"Topic2\", \"Topic2\", \"Topic2\", \"Topic2\", \"Topic2\", \"Topic2\", \"Topic2\", \"Topic2\", \"Topic2\", \"Topic2\", \"Topic2\", \"Topic3\", \"Topic3\", \"Topic3\", \"Topic3\", \"Topic3\", \"Topic3\", \"Topic3\", \"Topic3\", \"Topic3\", \"Topic3\", \"Topic3\", \"Topic3\", \"Topic3\", \"Topic3\", \"Topic3\", \"Topic3\", \"Topic3\", \"Topic3\", \"Topic3\", \"Topic3\", \"Topic3\", \"Topic3\", \"Topic3\", \"Topic3\", \"Topic3\", \"Topic3\", \"Topic3\", \"Topic3\", \"Topic3\", \"Topic3\", \"Topic3\", \"Topic3\", \"Topic3\", \"Topic3\", \"Topic3\", \"Topic3\", \"Topic3\", \"Topic3\", \"Topic3\", \"Topic3\", \"Topic3\", \"Topic3\", \"Topic3\", \"Topic3\", \"Topic3\", \"Topic3\", \"Topic3\", \"Topic3\", \"Topic3\", \"Topic3\", \"Topic4\", \"Topic4\", \"Topic4\", \"Topic4\", \"Topic4\", \"Topic4\", \"Topic4\", \"Topic4\", \"Topic4\", \"Topic4\", \"Topic4\", \"Topic4\", \"Topic4\", \"Topic4\", \"Topic4\", \"Topic4\", \"Topic4\", \"Topic4\", \"Topic4\", \"Topic4\", \"Topic4\", \"Topic4\", \"Topic4\", \"Topic4\", \"Topic4\", \"Topic4\", \"Topic4\", \"Topic4\", \"Topic4\", \"Topic4\", \"Topic4\", \"Topic4\", \"Topic4\", \"Topic4\", \"Topic4\", \"Topic4\", \"Topic4\", \"Topic4\", \"Topic4\", \"Topic4\", \"Topic4\", \"Topic4\", \"Topic4\", \"Topic4\", \"Topic4\", \"Topic4\", \"Topic4\", \"Topic4\", \"Topic4\", \"Topic5\", \"Topic5\", \"Topic5\", \"Topic5\", \"Topic5\", \"Topic5\", \"Topic5\", \"Topic5\", \"Topic5\", \"Topic5\", \"Topic5\", \"Topic5\", \"Topic5\", \"Topic5\", \"Topic5\", \"Topic5\", \"Topic5\", \"Topic5\", \"Topic5\", \"Topic5\", \"Topic5\", \"Topic5\", \"Topic5\", \"Topic5\", \"Topic5\", \"Topic5\", \"Topic5\", \"Topic5\", \"Topic5\", \"Topic5\", \"Topic5\", \"Topic5\", \"Topic5\", \"Topic5\", \"Topic5\", \"Topic5\", \"Topic5\", \"Topic5\", \"Topic5\", \"Topic5\", \"Topic5\", \"Topic5\", \"Topic5\", \"Topic5\", \"Topic5\", \"Topic5\", \"Topic5\"], \"logprob\": [30.0, 29.0, 28.0, 27.0, 26.0, 25.0, 24.0, 23.0, 22.0, 21.0, 20.0, 19.0, 18.0, 17.0, 16.0, 15.0, 14.0, 13.0, 12.0, 11.0, 10.0, 9.0, 8.0, 7.0, 6.0, 5.0, 4.0, 3.0, 2.0, 1.0, -5.2097, -5.2098, -5.5844, -5.5844, -5.5844, -5.5844, -5.5845, -5.5845, -5.5845, -5.5845, -5.5846, -5.5846, -5.2097, -5.21, -6.1906, -6.1906, -6.1906, -6.1906, -6.1906, -6.1906, -6.1906, -6.1906, -6.1906, -6.1906, -6.1906, -6.1906, -6.1906, -6.1906, -6.1906, -6.1906, -5.2086, -5.2103, -5.5844, -5.5849, -5.5843, -5.585, -5.5842, -5.5843, -5.5832, -5.2075, -4.7245, -5.5843, -5.5831, -5.584, -5.5844, -5.5841, -5.2089, -5.2095, -5.5819, -5.5841, -5.5843, -5.5843, -5.5844, -4.6445, -4.855, -5.1268, -5.5015, -5.5015, -5.5015, -5.5015, -5.5015, -5.5015, -5.5019, -5.1262, -5.1267, -6.1077, -6.1077, -6.1077, -6.1077, -6.1077, -6.1077, -6.1077, -6.1077, -6.1077, -6.1077, -6.1077, -6.1077, -6.1077, -6.1077, -6.1077, -6.1077, -6.1077, -6.1077, -5.1264, -5.501, -5.5013, -5.5013, -5.5003, -5.5015, -5.5024, -5.5011, -5.1265, -5.5002, -5.5006, -5.5013, -5.8625, -5.5009, -5.5016, -5.5032, -6.1052, -6.1068, -4.9442, -5.5908, -5.5908, -5.5908, -5.5908, -5.5909, -5.591, -5.5911, -5.2137, -5.2159, -6.197, -6.197, -6.197, -6.197, -6.197, -6.197, -6.197, -6.197, -6.197, -6.197, -6.197, -6.197, -6.197, -6.197, -6.197, -6.197, -6.197, -6.197, -6.197, -6.197, -5.5906, -5.5907, -5.5907, -5.5906, -4.9431, -4.9442, -5.2157, -5.2157, -4.73, -5.5911, -5.5898, -5.5908, -5.215, -5.5906, -5.5901, -5.5911, -5.5911, -5.5928, -6.1954, -6.1959, -5.6247, -5.6247, -5.6247, -5.6247, -5.6247, -5.6247, -5.6247, -5.6247, -5.6248, -5.6249, -5.6251, -5.6252, -4.9776, -5.2496, -6.2308, -6.2308, -6.2308, -6.2308, -6.2308, -6.2308, -6.2308, -6.2308, -6.2308, -6.2308, -6.2308, -6.2308, -6.2308, -6.2308, -6.2308, -6.2308, -5.2493, -5.2495, -5.2498, -5.6245, -5.6249, -5.6244, -5.6245, -5.6239, -5.6242, -5.6246, -5.6245, -5.6247, -4.5882, -4.5876, -5.2492, -5.6245, -4.9768, -5.6241, -5.6246, -4.8586, -5.1301, -5.5047, -5.5047, -5.5047, -5.5047, -5.5048, -5.5049, -5.5049, -5.505, -5.505, -5.505, -5.1297, -6.1108, -6.1108, -6.1108, -6.1108, -6.1108, -6.1108, -6.1108, -6.1108, -6.1108, -6.1108, -6.1108, -6.1108, -6.1108, -6.1108, -6.1108, -6.1108, -6.1108, -5.5008, -5.5037, -5.5043, -5.5045, -4.4657, -5.506, -5.5045, -5.1297, -5.504, -5.5052, -5.5054, -5.5055, -6.1093, -6.1094, -6.1095, -6.1096, -6.1099], \"loglift\": [30.0, 29.0, 28.0, 27.0, 26.0, 25.0, 24.0, 23.0, 22.0, 21.0, 20.0, 19.0, 18.0, 17.0, 16.0, 15.0, 14.0, 13.0, 12.0, 11.0, 10.0, 9.0, 8.0, 7.0, 6.0, 5.0, 4.0, 3.0, 2.0, 1.0, 1.3617, 1.3617, 1.2751, 1.2751, 1.2751, 1.2751, 1.2751, 1.2751, 1.2751, 1.2751, 1.275, 1.275, 1.1369, 1.1366, 1.0754, 1.0754, 1.0754, 1.0754, 1.0754, 1.0754, 1.0754, 1.0754, 1.0754, 1.0754, 1.0754, 1.0754, 1.0754, 1.0754, 1.0754, 1.0754, 0.9576, 0.9529, 0.9983, 0.9978, 0.9946, 0.9939, 0.9854, 0.9854, 0.9782, 0.6693, 0.4538, 0.7712, 0.7658, 0.7649, 0.7607, 0.7545, 0.4397, 0.349, 0.5831, 0.5952, 0.4182, 0.4452, 0.5861, 1.5587, 1.5293, 1.4786, 1.3882, 1.3882, 1.3882, 1.3882, 1.3882, 1.3882, 1.3878, 1.2489, 1.2401, 1.1808, 1.1808, 1.1808, 1.1808, 1.1808, 1.1808, 1.1808, 1.1808, 1.1808, 1.1808, 1.1808, 1.1808, 1.1808, 1.1808, 1.1808, 1.1808, 1.1808, 1.1808, 1.0655, 1.1006, 1.1003, 1.1003, 1.0937, 1.0925, 1.0897, 1.0826, 0.903, 0.878, 0.864, 0.8618, 1.0155, 0.6784, -0.3117, -0.325, 0.2483, 0.4834, 1.3981, 1.264, 1.264, 1.264, 1.264, 1.2639, 1.2639, 1.2637, 1.1301, 1.1278, 1.0654, 1.0654, 1.0654, 1.0654, 1.0654, 1.0654, 1.0654, 1.0654, 1.0654, 1.0654, 1.0654, 1.0654, 1.0654, 1.0654, 1.0654, 1.0654, 1.0654, 1.0654, 1.0654, 1.0654, 0.9884, 0.9884, 0.9772, 0.9673, 0.8123, 0.8034, 0.7868, 0.7811, 0.5042, 0.772, 0.7562, 0.7544, 0.4335, 0.58, 0.5731, 0.5521, -0.0326, -0.4029, 0.3967, 0.648, 1.2083, 1.2083, 1.2083, 1.2083, 1.2083, 1.2083, 1.2083, 1.2082, 1.2081, 1.208, 1.2078, 1.2078, 1.1686, 1.0802, 1.0151, 1.0151, 1.0151, 1.0151, 1.0151, 1.0151, 1.0151, 1.0151, 1.0151, 1.0151, 1.0151, 1.0151, 1.0151, 1.0151, 1.0151, 1.0151, 0.9023, 0.8961, 0.8934, 0.9379, 0.9375, 0.9343, 0.9342, 0.9275, 0.9272, 0.9269, 0.9252, 0.9249, 0.646, 0.5907, 0.6254, 0.7134, 0.2131, 0.3851, 0.7118, 1.5134, 1.4639, 1.375, 1.375, 1.375, 1.3749, 1.3749, 1.3747, 1.3747, 1.3746, 1.3746, 1.3746, 1.2363, 1.1701, 1.1701, 1.1701, 1.1701, 1.1701, 1.1701, 1.1701, 1.1701, 1.1701, 1.1701, 1.1701, 1.1701, 1.1701, 1.1701, 1.1701, 1.1701, 1.1701, 1.0839, 1.0827, 1.0803, 1.0717, 0.7242, 0.8722, 0.8473, 0.4288, 0.5154, 0.3694, -0.2712, -0.3272, 0.4595, 0.7602, 0.4575, 0.2438, 0.7597]}, \"token.table\": {\"Topic\": [4, 5, 5, 4, 5, 1, 3, 1, 2, 2, 5, 1, 3, 3, 4, 4, 4, 3, 1, 5, 5, 2, 3, 4, 3, 3, 2, 2, 1, 4, 5, 1, 2, 5, 3, 3, 1, 2, 3, 4, 1, 4, 4, 1, 2, 2, 3, 5, 1, 4, 5, 4, 4, 4, 1, 3, 5, 1, 4, 2, 3, 1, 2, 4, 5, 1, 4, 3, 4, 5, 2, 5, 3, 2, 2, 3, 4, 5, 4, 2, 2, 5, 1, 1, 1, 5, 3, 1, 3, 2, 2, 1, 2, 4, 4, 1, 3, 1, 4, 5, 3, 4, 1, 2, 3, 5, 2, 3, 4, 3, 1, 5, 1, 1, 5, 3, 2, 1, 2, 4, 5, 1, 3, 4, 5, 1, 2, 4, 5, 3, 4, 5, 1, 2, 2, 5, 2, 4, 5, 5, 1, 3, 3, 5, 4, 2, 1, 5, 1, 3, 4, 5, 4, 5, 5, 4, 2, 1, 2, 4, 1, 2, 3, 4, 5, 5, 1, 2, 2, 1, 5, 4, 2, 4, 2, 3, 1, 2, 3, 4, 5, 3, 2, 1, 2, 3, 3, 3, 4, 2, 5, 4, 2, 5, 1, 2, 4, 5, 4, 5, 1, 2, 3, 4, 5, 1, 3, 4, 4, 1, 4, 3, 2, 4, 1, 3, 4, 3, 1, 3, 4, 5, 3, 2, 4, 1, 4, 5, 2, 1, 5, 2, 1, 4, 2, 3, 3, 3, 4, 2, 3, 1, 3, 1, 1, 4, 1, 3, 4, 2, 3, 1, 2, 1, 4, 2, 1, 3, 4, 5, 5, 1, 5, 4, 5, 2, 1, 3, 2, 3, 3, 1, 2, 5, 5, 1, 5, 5, 1, 4, 5, 1, 5, 1, 2, 3, 5, 3, 4, 1, 1, 2, 3, 1, 2, 1, 4, 1, 2, 3, 2, 4, 1, 3, 1, 2, 4, 5, 1, 2, 3, 4, 2, 3, 4, 5, 3, 4, 5, 3, 4, 2, 2, 3, 1, 3, 3, 1, 4, 3, 3, 1, 2, 3, 4, 2, 3, 4, 5, 5, 1, 2, 4, 1, 1, 3, 1, 5, 1, 3, 1, 3, 2, 4, 1], \"Freq\": [0.5553092303848741, 0.8691431622696443, 0.5818266276454134, 0.4295747966497894, 0.4295747966497894, 0.42676858794796485, 0.42676858794796485, 0.43234783994824805, 0.43234783994824805, 0.8757343898454111, 0.8745606059858595, 0.34046886418868716, 0.6809377283773743, 0.2785925597018041, 0.5571851194036082, 0.8392002289987107, 0.8392002272465269, 0.853138053666515, 0.43398853791649733, 0.43398853791649733, 0.86914323899054, 0.3412308428844859, 0.3412308428844859, 0.3412308428844859, 0.8531380615963748, 0.8531380526088037, 0.87573444401631, 0.7091310041835691, 0.27924445446330737, 0.5584889089266147, 0.8691432094419819, 0.4372852814881781, 0.4372852814881781, 0.8691432000955097, 0.56757836532567, 0.8531381246453743, 0.28474773964213346, 0.28474773964213346, 0.28474773964213346, 0.28474773964213346, 0.5702999685770257, 0.5553078776461063, 0.8392002233714715, 0.570299504002157, 0.587757327110267, 0.5850152353615073, 0.2925076176807537, 0.2925076176807537, 0.33846892277055285, 0.33846892277055285, 0.33846892277055285, 0.8392002523788273, 0.5553066933611938, 0.5553137885591859, 0.8562089661885659, 0.4332297485127965, 0.4332297485127965, 0.4190525494879215, 0.4190525494879215, 0.4307802348270888, 0.4307802348270888, 0.8562089589726718, 0.6968588095307204, 0.3484294047653602, 0.5818270772587704, 0.4190463387210577, 0.4190463387210577, 0.5675784386737122, 0.42212337222378987, 0.42212337222378987, 0.3524050361860325, 0.3524050361860325, 0.8531381129432586, 0.8757344210411084, 0.34378467121756234, 0.34378467121756234, 0.34378467121756234, 0.34378467121756234, 0.5553162608216109, 0.8874856464204803, 0.4406226011566318, 0.4406226011566318, 0.8562088618527983, 0.8562089511704352, 0.5760192465076182, 0.5760192465076182, 0.853138117984822, 0.4260038948814597, 0.4260038948814597, 0.8757343233938044, 0.5877546455000615, 0.5701796999941388, 0.2850898499970694, 0.2850898499970694, 0.5553069153294267, 0.8562089201291108, 0.8531380874528467, 0.8562089176185712, 0.5553069743895659, 0.869143190095804, 0.8531380947806563, 0.8392001880317267, 0.24865634468648298, 0.49731268937296597, 0.24865634468648298, 0.8691432383552585, 0.28095312973193093, 0.28095312973193093, 0.5619062594638619, 0.5675783533864721, 0.5760154408134619, 0.5760154408134619, 0.8562089292075197, 0.5703000600279848, 0.8691431538182832, 0.8531380799622569, 0.8757344668387601, 0.3184462557360438, 0.10614875191201459, 0.42459500764805835, 0.10614875191201459, 0.31050040156882824, 0.15525020078441412, 0.15525020078441412, 0.31050040156882824, 0.5702998753147597, 0.43280124990239527, 0.43280124990239527, 0.5818252778661901, 0.33798828597020614, 0.33798828597020614, 0.33798828597020614, 0.8562089671169014, 0.5877573709603422, 0.4406189353777241, 0.4406189353777241, 0.8757344718731248, 0.8392002677244016, 0.8691432731843569, 0.869143256996671, 0.6828897197375239, 0.34144485986876194, 0.8531381040210232, 0.8691431745025493, 0.5553067336570249, 0.8757344365252846, 0.855071120725547, 0.8691431494407984, 0.18759263762733022, 0.37518527525466044, 0.18759263762733022, 0.8691431906985663, 0.4221254117672941, 0.4221254117672941, 0.5818305753785534, 0.8392001914885543, 0.8757344365965897, 0.34221432934531576, 0.34221432934531576, 0.34221432934531576, 0.2461493113178902, 0.2461493113178902, 0.2461493113178902, 0.2461493113178902, 0.2461493113178902, 0.5818345242394697, 0.43727259292749915, 0.43727259292749915, 0.5877573129560957, 0.4307232854288642, 0.4307232854288642, 0.8392002087971528, 0.8757343950360434, 0.8392002513198119, 0.875734390950158, 0.8531380897314264, 0.24367913889077128, 0.24367913889077128, 0.24367913889077128, 0.24367913889077128, 0.24367913889077128, 0.5675751527888296, 0.8757344449323834, 0.28633402690342635, 0.28633402690342635, 0.28633402690342635, 0.853138114488823, 0.42175312405408827, 0.42175312405408827, 0.8757344397983972, 0.8691432140288016, 0.839200184341642, 0.4406209954868618, 0.4406209954868618, 0.34222707103566846, 0.34222707103566846, 0.34222707103566846, 0.8691432175251042, 0.5553067145799165, 0.5818345498985592, 0.10739056217038462, 0.10739056217038462, 0.10739056217038462, 0.32217168651115385, 0.42956224868153847, 0.3387101096711396, 0.3387101096711396, 0.3387101096711396, 0.5553067168113351, 0.8562089225542477, 0.8392002907617655, 0.8531381042477866, 0.4236762341529593, 0.4236762341529593, 0.24064549511888414, 0.4812909902377683, 0.24064549511888414, 0.853138174534469, 0.18904704565035, 0.3780940913007, 0.18904704565035, 0.18904704565035, 0.5675810323508621, 0.8757344004569878, 0.5553139014919654, 0.4263932611582121, 0.4263932611582121, 0.4263932611582121, 0.87573442959311, 0.4307346812314129, 0.4307346812314129, 0.884616965416519, 0.8562089497546855, 0.8392002632863818, 0.5877574626548491, 0.8531381480597693, 0.8531380845072402, 0.561384022794288, 0.561384022794288, 0.3471222333102982, 0.3471222333102982, 0.5703000218055212, 0.5675768815292029, 0.8550706922823099, 0.8562089626484095, 0.8392002677816904, 0.2420280837874945, 0.484056167574989, 0.2420280837874945, 0.4307790497815698, 0.4307790497815698, 0.8562089613524159, 0.8757344497236421, 0.4190495047343895, 0.4190495047343895, 0.8757344485900174, 0.11225689114545931, 0.3367706734363779, 0.44902756458183724, 0.11225689114545931, 0.8691432643620347, 0.3481461530223656, 0.6962923060447312, 0.6715475576722316, 0.3357737788361158, 0.5877574747885501, 0.6828849696987516, 0.3414424848493758, 0.43645825109048075, 0.43645825109048075, 0.5675783407146229, 0.4356299033160617, 0.4356299033160617, 0.4356299033160617, 0.7005029991652557, 0.570299966225289, 0.5818250097139218, 0.5818345813347987, 0.34324048715519856, 0.34324048715519856, 0.34324048715519856, 0.5702984976766231, 0.5818330562873719, 0.5702998689611399, 0.5877573460650962, 0.433197799211901, 0.433197799211901, 0.8531380679065252, 0.8392003104006351, 0.856208943382486, 0.28884092154377555, 0.28884092154377555, 0.28884092154377555, 0.3513286506075705, 0.702657301215141, 0.42326382875510526, 0.42326382875510526, 0.3445093344788337, 0.3445093344788337, 0.3445093344788337, 0.4236736207406089, 0.4236736207406089, 0.856208994296501, 0.6799650343024671, 0.4268921590526204, 0.2134460795263102, 0.2134460795263102, 0.2134460795263102, 0.3397853992472097, 0.16989269962360484, 0.3397853992472097, 0.16989269962360484, 0.2129663060200649, 0.2129663060200649, 0.4259326120401298, 0.2129663060200649, 0.4183187962759097, 0.4183187962759097, 0.869143215201818, 0.41831519426192093, 0.41831519426192093, 0.8757344079818518, 0.5808741917937654, 0.5808741917937654, 0.5684320345045638, 0.2842160172522819, 0.8531381089400407, 0.856208923620448, 0.5553067549308148, 0.8531381373062751, 0.8531380966850587, 0.3476350161250093, 0.3476350161250093, 0.3476350161250093, 0.8392002202052875, 0.8757344079816963, 0.4256375174677642, 0.4256375174677642, 0.4256375174677642, 0.8691432330500982, 0.43235209329499125, 0.43235209329499125, 0.8392002020692365, 0.8562089250007693, 0.3404662108870592, 0.6809324217741184, 0.5702994680244183, 0.5818345272536671, 0.4267678776434143, 0.4267678776434143, 0.34095715175332986, 0.34095715175332986, 0.2794214523692024, 0.8382643571076073, 0.5702999524254733], \"Term\": [\"aamas\", \"absolutely\", \"academia\", \"activity\", \"activity\", \"advisor\", \"advisor\", \"agree\", \"agree\", \"aied19\", \"aiforsocialimpact\", \"already\", \"already\", \"amaze\", \"amaze\", \"among\", \"announce\", \"announcement\", \"application\", \"application\", \"arpitabiswas777\", \"article\", \"article\", \"article\", \"asist2020\", \"asistorg\", \"austen\", \"author\", \"award\", \"award\", \"axidraw\", \"background\", \"background\", \"bandit\", \"bayesian\", \"behnamrahdari\", \"better\", \"better\", \"better\", \"better\", \"black\", \"boston\", \"buddy\", \"building\", \"certainly\", \"chair\", \"chair\", \"chair\", \"challenge\", \"challenge\", \"challenge\", \"chance\", \"change\", \"check\", \"chicagopolice\", \"cizcg\", \"cizcg\", \"collaboration\", \"collaboration\", \"community\", \"community\", \"complicate\", \"conference\", \"conference\", \"confirm\", \"congrats\", \"congrats\", \"consider\", \"continue\", \"continue\", \"control\", \"control\", \"dbabichenko\", \"decade\", \"definitely\", \"definitely\", \"definitely\", \"definitely\", \"descriptor\", \"devices\", \"discussion\", \"discussion\", \"disinformation\", \"drawing\", \"either\", \"either\", \"epidemiologist\", \"every\", \"every\", \"evidence\", \"example\", \"excite\", \"excite\", \"excite\", \"experience\", \"expert\", \"exploratory\", \"extremely\", \"extremist\", \"faculty\", \"fawcett\", \"fellow\", \"first\", \"first\", \"first\", \"fooobar\", \"forward\", \"forward\", \"forward\", \"frequentist\", \"gender\", \"gender\", \"general\", \"ghostoftsushima\", \"global\", \"grapevine\", \"grateful\", \"great\", \"great\", \"great\", \"great\", \"group\", \"group\", \"group\", \"group\", \"guilty\", \"harness\", \"harness\", \"hcrcs\", \"health\", \"health\", \"health\", \"historical\", \"hotcrp\", \"human\", \"human\", \"iaiedsociety\", \"idea\", \"ijcai2021\", \"ijcaiconf\", \"important\", \"important\", \"improve\", \"inadequate\", \"innovative\", \"inspiration\", \"instagram\", \"insult\", \"interest\", \"interest\", \"interest\", \"intervention\", \"interview\", \"interview\", \"invest\", \"invitation\", \"jeffdean\", \"learn\", \"learn\", \"learn\", \"learning\", \"learning\", \"learning\", \"learning\", \"learning\", \"least\", \"lecture\", \"lecture\", \"leonyin\", \"lesson\", \"lesson\", \"letter\", \"lifelong\", \"likely\", \"literary\", \"littleton\", \"looking\", \"looking\", \"looking\", \"looking\", \"looking\", \"management\", \"meet\", \"member\", \"member\", \"member\", \"merging\", \"message\", \"message\", \"metaphor\", \"michaelminalab\", \"miss\", \"mistake\", \"mistake\", \"model\", \"model\", \"model\", \"multiarmed\", \"names\", \"network\", \"paper\", \"paper\", \"paper\", \"paper\", \"paper\", \"papers\", \"papers\", \"papers\", \"paradox\", \"parks\", \"particularly\", \"patel\", \"person\", \"person\", \"place\", \"place\", \"place\", \"platform\", \"please\", \"please\", \"please\", \"please\", \"position\", \"poster\", \"power\", \"practice\", \"practice\", \"practice\", \"precision\", \"prevent\", \"prevent\", \"privacy\", \"problem\", \"produce\", \"product\", \"profdavidwood\", \"profilebased\", \"project\", \"project\", \"protect\", \"protect\", \"ps5share\", \"publish\", \"python\", \"quiet\", \"raiseaisummit\", \"really\", \"really\", \"really\", \"recommendation\", \"recommendation\", \"reflection\", \"regard\", \"remember\", \"remember\", \"report\", \"research\", \"research\", \"research\", \"research\", \"restless\", \"review\", \"review\", \"reviewer\", \"reviewer\", \"robot\", \"running\", \"running\", \"science\", \"science\", \"seattle\", \"security\", \"security\", \"security\", \"seminar\", \"senate\", \"series\", \"similar\", \"social\", \"social\", \"social\", \"something\", \"sorry\", \"southamptoncc\", \"srchvrs\", \"stand\", \"stand\", \"star\", \"steady\", \"stop\", \"student\", \"student\", \"student\", \"study\", \"study\", \"stuff\", \"stuff\", \"system\", \"system\", \"system\", \"talks\", \"talks\", \"taylor\", \"tcuarch\", \"thank\", \"thank\", \"thank\", \"thank\", \"thanks\", \"thanks\", \"thanks\", \"thanks\", \"think\", \"think\", \"think\", \"think\", \"though\", \"though\", \"thrill\", \"together\", \"together\", \"towards\", \"tuesday\", \"tuesday\", \"tweet\", \"tweet\", \"twitter\", \"uctnews\", \"underrepresented\", \"underway\", \"unify\", \"university\", \"university\", \"university\", \"upfront\", \"usability\", \"user\", \"user\", \"user\", \"varakantham\", \"victorasal\", \"victorasal\", \"visibility\", \"visseho09\", \"visualization\", \"visualization\", \"welcome\", \"wespegden\", \"working\", \"working\", \"world\", \"world\", \"would\", \"would\", \"zhoubolei\"]}, \"R\": 30, \"lambda.step\": 0.01, \"plot.opts\": {\"xlab\": \"PC1\", \"ylab\": \"PC2\"}, \"topic.order\": [1, 2, 3, 4, 5]};\n",
              "\n",
              "function LDAvis_load_lib(url, callback){\n",
              "  var s = document.createElement('script');\n",
              "  s.src = url;\n",
              "  s.async = true;\n",
              "  s.onreadystatechange = s.onload = callback;\n",
              "  s.onerror = function(){console.warn(\"failed to load library \" + url);};\n",
              "  document.getElementsByTagName(\"head\")[0].appendChild(s);\n",
              "}\n",
              "\n",
              "if(typeof(LDAvis) !== \"undefined\"){\n",
              "   // already loaded: just create the visualization\n",
              "   !function(LDAvis){\n",
              "       new LDAvis(\"#\" + \"ldavis_el611406418203072805182391827\", ldavis_el611406418203072805182391827_data);\n",
              "   }(LDAvis);\n",
              "}else if(typeof define === \"function\" && define.amd){\n",
              "   // require.js is available: use it to load d3/LDAvis\n",
              "   require.config({paths: {d3: \"https://d3js.org/d3.v5\"}});\n",
              "   require([\"d3\"], function(d3){\n",
              "      window.d3 = d3;\n",
              "      LDAvis_load_lib(\"https://cdn.jsdelivr.net/gh/bmabey/pyLDAvis@3.3.1/pyLDAvis/js/ldavis.v3.0.0.js\", function(){\n",
              "        new LDAvis(\"#\" + \"ldavis_el611406418203072805182391827\", ldavis_el611406418203072805182391827_data);\n",
              "      });\n",
              "    });\n",
              "}else{\n",
              "    // require.js not available: dynamically load d3 & LDAvis\n",
              "    LDAvis_load_lib(\"https://d3js.org/d3.v5.js\", function(){\n",
              "         LDAvis_load_lib(\"https://cdn.jsdelivr.net/gh/bmabey/pyLDAvis@3.3.1/pyLDAvis/js/ldavis.v3.0.0.js\", function(){\n",
              "                 new LDAvis(\"#\" + \"ldavis_el611406418203072805182391827\", ldavis_el611406418203072805182391827_data);\n",
              "            })\n",
              "         });\n",
              "}\n",
              "</script>"
            ]
          },
          "metadata": {},
          "execution_count": 76
        }
      ],
      "source": [
        "import pyLDAvis\n",
        "import pyLDAvis.gensim_models as gensimvis\n",
        "pyLDAvis.enable_notebook()\n",
        "lda_display = gensimvis.prepare(lda, corpus, dictionary, sort_topics=False)\n",
        "pyLDAvis.display(lda_display)"
      ]
    },
    {
      "cell_type": "code",
      "execution_count": null,
      "metadata": {
        "id": "CC_nctYy9cAB",
        "outputId": "cf2e7aec-0897-480f-b43f-7facae3eba34",
        "colab": {
          "base_uri": "https://localhost:8080/",
          "height": 861
        }
      },
      "outputs": [
        {
          "output_type": "execute_result",
          "data": {
            "text/plain": [
              "<IPython.core.display.HTML object>"
            ],
            "text/html": [
              "\n",
              "<link rel=\"stylesheet\" type=\"text/css\" href=\"https://cdn.jsdelivr.net/gh/bmabey/pyLDAvis@3.3.1/pyLDAvis/js/ldavis.v1.0.0.css\">\n",
              "\n",
              "\n",
              "<div id=\"ldavis_el611406418098444324725660901\"></div>\n",
              "<script type=\"text/javascript\">\n",
              "\n",
              "var ldavis_el611406418098444324725660901_data = {\"mdsDat\": {\"x\": [-0.09482456963140386, 0.07205767204396761, 0.022766897587436292], \"y\": [-0.02745816236171959, -0.06550608374180118, 0.0929642461035208], \"topics\": [1, 2, 3], \"cluster\": [1, 1, 1], \"Freq\": [27.980580928558307, 35.706621794472824, 36.31279727696887]}, \"tinfo\": {\"Term\": [\"really\", \"group\", \"research\", \"better\", \"tcuarch\", \"seminar\", \"thinking\", \"activity\", \"vision\", \"things\", \"human\", \"conference\", \"reviewer\", \"instagram\", \"great\", \"social\", \"tweet\", \"person\", \"together\", \"lecture\", \"explain\", \"collaboration\", \"privacy\", \"python\", \"student\", \"would\", \"management\", \"never\", \"computer\", \"invest\", \"thinking\", \"activity\", \"vision\", \"things\", \"human\", \"instagram\", \"management\", \"never\", \"computer\", \"invest\", \"sorry\", \"aamas\", \"tuesday\", \"welcome\", \"least\", \"people\", \"something\", \"communism\", \"gender\", \"dream\", \"extremist\", \"zhoubolei\", \"million\", \"findings\", \"markgatiss\", \"example\", \"confirm\", \"ghostoftsushima\", \"robot\", \"ps5share\", \"social\", \"looking\", \"learning\", \"thank\", \"interest\", \"thanks\", \"paper\", \"though\", \"application\", \"nicolacullum\", \"interview\", \"model\", \"please\", \"present\", \"talks\", \"discussion\", \"system\", \"decision\", \"victorasal\", \"really\", \"better\", \"tcuarch\", \"seminar\", \"person\", \"together\", \"lecture\", \"explain\", \"descriptor\", \"power\", \"medium\", \"check\", \"attack\", \"product\", \"election\", \"certainly\", \"leonyin\", \"kudos\", \"reading\", \"actually\", \"srchvrs\", \"guilty\", \"perfect\", \"school\", \"seattle\", \"hcrcs\", \"series\", \"three\", \"friend\", \"trylks\", \"student\", \"would\", \"please\", \"place\", \"already\", \"future\", \"university\", \"visualization\", \"health\", \"today\", \"author\", \"world\", \"paper\", \"excite\", \"member\", \"great\", \"think\", \"research\", \"interest\", \"background\", \"practice\", \"challenge\", \"conference\", \"reviewer\", \"collaboration\", \"privacy\", \"python\", \"workshop\", \"morning\", \"change\", \"another\", \"hotcrp\", \"ajlamesa\", \"stanford\", \"opportunity\", \"wonderful\", \"frequentist\", \"consider\", \"black\", \"bayesian\", \"peterpaws\", \"receive\", \"result\", \"follow\", \"names\", \"feature\", \"aware\", \"paradox\", \"underrepresented\", \"southamptoncc\", \"innovative\", \"group\", \"tweet\", \"research\", \"great\", \"review\", \"learn\", \"papers\", \"running\", \"devices\", \"chair\", \"thanks\", \"paper\", \"think\", \"first\", \"thank\", \"control\", \"colleague\", \"important\", \"forward\", \"study\", \"keynote\", \"india\", \"every\", \"lesson\", \"article\"], \"Freq\": [4.0, 6.0, 9.0, 3.0, 2.0, 2.0, 2.0, 2.0, 2.0, 2.0, 2.0, 3.0, 3.0, 2.0, 9.0, 2.0, 3.0, 2.0, 2.0, 2.0, 2.0, 2.0, 2.0, 2.0, 3.0, 3.0, 1.0, 1.0, 1.0, 1.0, 1.805001605715455, 1.804806852939277, 1.8047591717117946, 1.8041527056882687, 1.8037879116396536, 1.801759608830403, 1.263467725369331, 1.2634522670718364, 1.2634137301893509, 1.2633456919081258, 1.2633229399068844, 1.2633059575518906, 1.2632879954456473, 1.2632714485356533, 1.263264481415656, 1.2632379192706658, 1.2632115748481756, 1.2632028659481787, 1.263191326655683, 1.263175324051939, 1.2631382023657025, 1.2631348276669538, 1.2631204579819593, 1.2630487184182357, 1.262893591137043, 1.2627323676258526, 1.262422548508467, 1.2624130775797207, 1.2624141661922201, 1.2623992522009757, 1.8085327380804002, 1.823867804639733, 1.8113542039568573, 1.8131311461399506, 1.8135376340473004, 1.7855277432939016, 1.7783622780990496, 1.2824715249135579, 1.2755199720748769, 1.273317055820691, 1.2685319507174593, 1.271227572988963, 1.2703803058805263, 1.2685161658362152, 1.2663414446457688, 1.266111203102104, 1.265813467583464, 1.2638230484891995, 1.2633391602331283, 3.778653761138604, 3.1807621227134297, 2.5847064534538693, 2.5835084057780024, 1.9885822965430793, 1.9882880635911446, 1.9882593071128394, 1.9879033935987425, 1.3921659904831305, 1.39216487912165, 1.3921544601077713, 1.3921473751783338, 1.3920740253206276, 1.3920281816595614, 1.3919498306751934, 1.3919339937740978, 1.391931493210767, 1.3919237136804041, 1.3919130168261553, 1.3919050983756076, 1.391909404901344, 1.3918092434479234, 1.3916860212437845, 1.3915847484288835, 1.3915764132177804, 1.3915797473022216, 1.3915457118568846, 1.3915112596509922, 1.391233002520338, 1.39116757111318, 2.602499350755006, 2.589863170722906, 3.189361837848732, 2.596659701856266, 1.998100551941929, 1.9975800180085486, 1.996370995638063, 1.9865668424983816, 1.993717481183433, 1.9919349962890633, 1.9910711905784257, 1.990903513915071, 4.3963598633977545, 1.9934240817526085, 1.9881387243922164, 3.160315016356738, 2.0373013275995593, 2.594325287066695, 1.991768430987189, 1.4087962647555878, 1.405898667535826, 1.4018851244695616, 2.6238993758385663, 2.6232814233671724, 2.0187323326010755, 2.0186876885725065, 2.0186084312939396, 1.4130927125421824, 1.4130890392993254, 1.4130662934493268, 1.413066010892184, 1.4130493400207562, 1.413025746499329, 1.4129627362564754, 1.412866525549338, 1.4127803456207713, 1.412732169627917, 1.4126873843207766, 1.4126683117136347, 1.4126547489707784, 1.4126386432136364, 1.4125804364422112, 1.412502168113644, 1.4124525793350755, 1.4122836101636564, 1.4122369882350876, 1.4121197270208083, 1.4120972637279525, 1.4119879141136729, 1.411978872285102, 1.4116985755994034, 5.06285379940179, 2.6483131606514827, 6.055105762117573, 5.692983353423595, 2.030001982964729, 2.0270903728863208, 2.025815757614964, 2.02402830112935, 2.0439792371496597, 2.035338074607287, 2.643838868294591, 3.2398253474040253, 2.236237192117449, 2.0167702558011853, 2.0432701599996994, 1.6959749373763184, 1.4190615909061335, 1.4203501927560611, 1.4202367460632104, 1.4178737206776286, 1.4166283500705557, 1.4165027534205625, 1.416201547506294, 1.416194907413437, 1.4160799066563006], \"Total\": [4.0, 6.0, 9.0, 3.0, 2.0, 2.0, 2.0, 2.0, 2.0, 2.0, 2.0, 3.0, 3.0, 2.0, 9.0, 2.0, 3.0, 2.0, 2.0, 2.0, 2.0, 2.0, 2.0, 2.0, 3.0, 3.0, 1.0, 1.0, 1.0, 1.0, 2.206051694775923, 2.2060716128236324, 2.2060802641945267, 2.206150891573427, 2.2061958028691637, 2.206415759586014, 1.664483811131511, 1.6644855884266607, 1.664490223364121, 1.6644956808657243, 1.664499002804707, 1.664500455801202, 1.6645037110579566, 1.66450548962393, 1.6645060618298364, 1.6645103040286457, 1.6645113065836046, 1.6645141245775812, 1.6645135896560272, 1.6645172919175693, 1.6645226895082599, 1.664520315846186, 1.664522522570831, 1.664532355659557, 1.6645507244021458, 1.66456165635444, 1.6646079867304733, 1.6645997203333107, 1.6646089296983768, 1.664601132123635, 2.8024203249627093, 4.012295566859353, 4.004462723381748, 4.619449873603111, 5.206604842434476, 5.8246248264706395, 9.41454748890083, 2.2679331739653907, 2.259988919410401, 2.2690283018829867, 2.260700649512695, 2.866134574830315, 5.252901306109778, 3.463082761539351, 2.2698561746838433, 2.2698839294020696, 2.8756264454793126, 2.875869069827747, 2.2612294173750773, 4.1616506117001615, 3.564817110301222, 2.9681568833279863, 2.968243423302587, 2.371501962606453, 2.3714495130909836, 2.3715002681268027, 2.3714906724366425, 1.7747758205726456, 1.7747770165347838, 1.7747769525835384, 1.7747757670562845, 1.7747738316741917, 1.7747767802777714, 1.7747586280869647, 1.774769351487011, 1.774768892127541, 1.774765811938665, 1.774763412589342, 1.7747586300096065, 1.7747678081722653, 1.774758883889325, 1.7747533526998693, 1.774769783067792, 1.7747691572918198, 1.7747796425742797, 1.774779700718225, 1.774780654234229, 1.774771315396895, 1.7746890319357895, 3.5736540919185757, 3.5737322871010004, 5.252901306109778, 4.17946557909444, 2.9139487225111766, 2.913963768035732, 2.91386520544425, 2.9129954924113752, 2.9770762390667396, 2.977076601350213, 2.9771445678321906, 2.9771629147458323, 9.41454748890083, 3.58284461936284, 3.582844966386382, 9.560100609920383, 4.7576763402037185, 9.004567390363338, 5.206604842434476, 2.317910705902236, 2.3176326975541546, 2.9215434166458287, 3.0041119695431737, 3.004047650780827, 2.398460277126275, 2.3984609571507898, 2.3984406193884595, 1.7927501673175392, 1.7927487442968348, 1.7927472550432286, 1.7927469658812147, 1.7927462333481436, 1.792745039883556, 1.7927436236732728, 1.792735647994057, 1.7927317079609866, 1.792718118922452, 1.7927226549351227, 1.792719785273675, 1.792709771740665, 1.7927434270777751, 1.792738454189835, 1.7927404472534219, 1.7927419630638988, 1.7926614065775408, 1.7927151016537985, 1.7926565416160674, 1.7926419961351807, 1.7926306060098223, 1.7926340421763745, 1.7925998916641324, 6.6205949449653865, 3.5483589145959455, 9.004567390363338, 9.560100609920383, 2.9412403618323193, 2.995148868459217, 2.9952011732488475, 2.9952418262645057, 3.5378714756337573, 3.5381543733771137, 5.8246248264706395, 9.41454748890083, 4.7576763402037185, 4.133644538168495, 4.619449873603111, 2.961720266778311, 2.334975623884891, 2.9311819789739038, 3.528727927514901, 2.8764356950349432, 2.389498485554018, 2.389515557200085, 2.389321900639022, 2.3895094086436055, 2.9862131359557296], \"Category\": [\"Default\", \"Default\", \"Default\", \"Default\", \"Default\", \"Default\", \"Default\", \"Default\", \"Default\", \"Default\", \"Default\", \"Default\", \"Default\", \"Default\", \"Default\", \"Default\", \"Default\", \"Default\", \"Default\", \"Default\", \"Default\", \"Default\", \"Default\", \"Default\", \"Default\", \"Default\", \"Default\", \"Default\", \"Default\", \"Default\", \"Topic1\", \"Topic1\", \"Topic1\", \"Topic1\", \"Topic1\", \"Topic1\", \"Topic1\", \"Topic1\", \"Topic1\", \"Topic1\", \"Topic1\", \"Topic1\", \"Topic1\", \"Topic1\", \"Topic1\", \"Topic1\", \"Topic1\", \"Topic1\", \"Topic1\", \"Topic1\", \"Topic1\", \"Topic1\", \"Topic1\", \"Topic1\", \"Topic1\", \"Topic1\", \"Topic1\", \"Topic1\", \"Topic1\", \"Topic1\", \"Topic1\", \"Topic1\", \"Topic1\", \"Topic1\", \"Topic1\", \"Topic1\", \"Topic1\", \"Topic1\", \"Topic1\", \"Topic1\", \"Topic1\", \"Topic1\", \"Topic1\", \"Topic1\", \"Topic1\", \"Topic1\", \"Topic1\", \"Topic1\", \"Topic1\", \"Topic2\", \"Topic2\", \"Topic2\", \"Topic2\", \"Topic2\", \"Topic2\", \"Topic2\", \"Topic2\", \"Topic2\", \"Topic2\", \"Topic2\", \"Topic2\", \"Topic2\", \"Topic2\", \"Topic2\", \"Topic2\", \"Topic2\", \"Topic2\", \"Topic2\", \"Topic2\", \"Topic2\", \"Topic2\", \"Topic2\", \"Topic2\", \"Topic2\", \"Topic2\", \"Topic2\", \"Topic2\", \"Topic2\", \"Topic2\", \"Topic2\", \"Topic2\", \"Topic2\", \"Topic2\", \"Topic2\", \"Topic2\", \"Topic2\", \"Topic2\", \"Topic2\", \"Topic2\", \"Topic2\", \"Topic2\", \"Topic2\", \"Topic2\", \"Topic2\", \"Topic2\", \"Topic2\", \"Topic2\", \"Topic2\", \"Topic2\", \"Topic2\", \"Topic2\", \"Topic3\", \"Topic3\", \"Topic3\", \"Topic3\", \"Topic3\", \"Topic3\", \"Topic3\", \"Topic3\", \"Topic3\", \"Topic3\", \"Topic3\", \"Topic3\", \"Topic3\", \"Topic3\", \"Topic3\", \"Topic3\", \"Topic3\", \"Topic3\", \"Topic3\", \"Topic3\", \"Topic3\", \"Topic3\", \"Topic3\", \"Topic3\", \"Topic3\", \"Topic3\", \"Topic3\", \"Topic3\", \"Topic3\", \"Topic3\", \"Topic3\", \"Topic3\", \"Topic3\", \"Topic3\", \"Topic3\", \"Topic3\", \"Topic3\", \"Topic3\", \"Topic3\", \"Topic3\", \"Topic3\", \"Topic3\", \"Topic3\", \"Topic3\", \"Topic3\", \"Topic3\", \"Topic3\", \"Topic3\", \"Topic3\", \"Topic3\", \"Topic3\", \"Topic3\", \"Topic3\", \"Topic3\"], \"logprob\": [30.0, 29.0, 28.0, 27.0, 26.0, 25.0, 24.0, 23.0, 22.0, 21.0, 20.0, 19.0, 18.0, 17.0, 16.0, 15.0, 14.0, 13.0, 12.0, 11.0, 10.0, 9.0, 8.0, 7.0, 6.0, 5.0, 4.0, 3.0, 2.0, 1.0, -5.557, -5.5571, -5.5571, -5.5574, -5.5576, -5.5588, -5.9137, -5.9137, -5.9137, -5.9138, -5.9138, -5.9138, -5.9138, -5.9138, -5.9138, -5.9138, -5.9139, -5.9139, -5.9139, -5.9139, -5.9139, -5.9139, -5.9139, -5.914, -5.9141, -5.9142, -5.9145, -5.9145, -5.9145, -5.9145, -5.555, -5.5466, -5.5534, -5.5525, -5.5522, -5.5678, -5.5718, -5.8987, -5.9042, -5.9059, -5.9097, -5.9075, -5.9082, -5.9097, -5.9114, -5.9116, -5.9118, -5.9134, -5.9138, -5.062, -5.2342, -5.4417, -5.4422, -5.7039, -5.7041, -5.7041, -5.7043, -6.0605, -6.0605, -6.0605, -6.0605, -6.0605, -6.0606, -6.0606, -6.0606, -6.0607, -6.0607, -6.0607, -6.0607, -6.0607, -6.0607, -6.0608, -6.0609, -6.0609, -6.0609, -6.0609, -6.061, -6.0612, -6.0612, -5.4349, -5.4397, -5.2315, -5.4371, -5.6991, -5.6994, -5.7, -5.7049, -5.7013, -5.7022, -5.7027, -5.7028, -4.9106, -5.7015, -5.7041, -5.2407, -5.6797, -5.438, -5.7023, -6.0486, -6.0507, -6.0535, -5.4435, -5.4438, -5.7057, -5.7057, -5.7058, -6.0624, -6.0624, -6.0624, -6.0624, -6.0624, -6.0624, -6.0625, -6.0626, -6.0626, -6.0627, -6.0627, -6.0627, -6.0627, -6.0627, -6.0628, -6.0628, -6.0628, -6.063, -6.063, -6.0631, -6.0631, -6.0632, -6.0632, -6.0634, -4.7862, -5.4343, -4.6073, -4.6689, -5.7001, -5.7016, -5.7022, -5.7031, -5.6933, -5.6975, -5.4359, -5.2327, -5.6034, -5.7067, -5.6936, -5.8799, -6.0582, -6.0573, -6.0574, -6.059, -6.0599, -6.06, -6.0602, -6.0602, -6.0603], \"loglift\": [30.0, 29.0, 28.0, 27.0, 26.0, 25.0, 24.0, 23.0, 22.0, 21.0, 20.0, 19.0, 18.0, 17.0, 16.0, 15.0, 14.0, 13.0, 12.0, 11.0, 10.0, 9.0, 8.0, 7.0, 6.0, 5.0, 4.0, 3.0, 2.0, 1.0, 1.073, 1.0729, 1.0729, 1.0725, 1.0723, 1.0711, 0.998, 0.998, 0.998, 0.9979, 0.9979, 0.9979, 0.9979, 0.9978, 0.9978, 0.9978, 0.9978, 0.9978, 0.9978, 0.9978, 0.9977, 0.9977, 0.9977, 0.9976, 0.9975, 0.9974, 0.9971, 0.9971, 0.9971, 0.9971, 0.8357, 0.4853, 0.4803, 0.3384, 0.219, 0.0913, -0.3929, 0.7036, 0.7017, 0.6959, 0.6958, 0.4607, -0.1458, 0.2693, 0.6901, 0.6899, 0.4531, 0.4514, 0.6915, 0.9333, 0.9158, 0.8915, 0.891, 0.8537, 0.8536, 0.8536, 0.8534, 0.787, 0.787, 0.787, 0.787, 0.787, 0.7869, 0.7869, 0.7869, 0.7869, 0.7869, 0.7868, 0.7868, 0.7868, 0.7868, 0.7867, 0.7866, 0.7866, 0.7866, 0.7866, 0.7865, 0.7864, 0.7864, 0.7127, 0.7078, 0.5309, 0.5539, 0.6525, 0.6523, 0.6517, 0.6471, 0.6289, 0.628, 0.6275, 0.6275, 0.2684, 0.4435, 0.4409, -0.0771, 0.1817, -0.2146, 0.0689, 0.5319, 0.53, 0.2955, 0.8777, 0.8775, 0.8406, 0.8406, 0.8406, 0.775, 0.775, 0.775, 0.775, 0.775, 0.775, 0.7749, 0.7749, 0.7748, 0.7748, 0.7748, 0.7747, 0.7747, 0.7747, 0.7747, 0.7746, 0.7746, 0.7745, 0.7744, 0.7744, 0.7744, 0.7743, 0.7743, 0.7741, 0.7447, 0.7204, 0.6162, 0.4946, 0.6422, 0.6226, 0.622, 0.6211, 0.4644, 0.4601, 0.2231, -0.0537, 0.258, 0.2953, 0.1973, 0.4555, 0.515, 0.2885, 0.1029, 0.3056, 0.4902, 0.4901, 0.49, 0.4899, 0.2669]}, \"token.table\": {\"Topic\": [1, 1, 2, 3, 1, 2, 3, 1, 2, 2, 3, 2, 2, 3, 3, 1, 2, 3, 2, 3, 2, 1, 2, 3, 1, 2, 3, 3, 2, 3, 1, 3, 1, 1, 3, 1, 3, 2, 3, 1, 3, 2, 1, 2, 3, 1, 3, 1, 2, 2, 3, 1, 2, 3, 2, 1, 3, 1, 1, 2, 3, 3, 1, 2, 3, 3, 2, 1, 2, 1, 1, 1, 2, 3, 2, 3, 2, 2, 2, 3, 3, 1, 1, 2, 3, 2, 3, 3, 1, 1, 2, 3, 1, 2, 1, 2, 3, 2, 2, 3, 1, 2, 3, 1, 2, 2, 2, 3, 1, 2, 3, 1, 1, 2, 2, 3, 1, 1, 2, 3, 3, 3, 1, 1, 3, 3, 1, 2, 3, 2, 3, 3, 1, 2, 2, 3, 2, 3, 1, 2, 3, 2, 1, 2, 1, 2, 3, 3, 2, 1, 3, 2, 2, 3, 2, 3, 3, 1, 3, 3, 1, 2, 3, 2, 2, 2, 2, 1, 2, 1, 1, 3, 2, 3, 2, 3, 1, 3, 1, 3, 1, 3, 2, 1, 2, 3, 1, 2, 3, 1, 2, 3, 1, 1, 3, 2, 2, 3, 2, 2, 1, 1, 3, 3, 1, 2, 1, 2, 1, 1, 2, 1, 3, 3, 2, 3, 2, 3, 1], \"Freq\": [0.600780850804065, 0.9065888833228429, 0.5634569023025893, 0.5578038024107169, 0.3431769379724095, 0.686353875944819, 0.5578032031466613, 0.44248004554857984, 0.44248004554857984, 0.33487227953002513, 0.33487227953002513, 0.5634520760635022, 0.6717846427781305, 0.3358923213890653, 0.557831339570773, 0.43142300411039974, 0.43142300411039974, 0.5578147761358111, 0.8415578996551956, 0.5578116603690749, 0.5634534984290428, 0.2826332303430603, 0.2826332303430603, 0.5652664606861206, 0.34228483283951394, 0.34228483283951394, 0.34228483283951394, 0.5578031131755307, 0.5634514616224678, 0.8338683025412905, 0.42826999552835493, 0.42826999552835493, 0.6007759172688181, 0.6007845440983655, 0.9986312196133624, 0.600742041352416, 0.5578107674643009, 0.33764161025503475, 0.6752832205100695, 0.34772097606651337, 0.34772097606651337, 0.5634514446322252, 0.28265583045830256, 0.28265583045830256, 0.5653116609166051, 0.4405511608090987, 0.4405511608090987, 0.6007747740775782, 0.5634569029129967, 0.4185287883279984, 0.4185287883279984, 0.6007587620335446, 0.5582156672916708, 0.2791078336458354, 0.8433514089874341, 0.6007728259297109, 0.5578131176992315, 0.6007693371654277, 0.2419172695587107, 0.2419172695587107, 0.4838345391174214, 0.5578047597496645, 0.2833882409019411, 0.2833882409019411, 0.2833882409019411, 0.5578121788611528, 0.5634528749279275, 0.34317516606395143, 0.6863503321279029, 0.6007761103390274, 0.6007450246355714, 0.10460140962975996, 0.3138042288892799, 0.6276084577785598, 0.151043827376941, 0.755219136884705, 0.5634568216999333, 0.563450231235198, 0.6718000613336541, 0.33590003066682705, 0.5578034310703273, 0.9065378500851985, 0.3411593026885565, 0.3411593026885565, 0.3411593026885565, 0.4184948689648834, 0.4184948689648834, 0.5578489682221645, 0.9064474776844672, 0.38412748048397133, 0.38412748048397133, 0.19206374024198566, 0.4423407407856298, 0.4423407407856298, 0.600782574262907, 0.4184978588794312, 0.4184978588794312, 0.563454622166544, 0.33387322097095834, 0.6677464419419167, 0.49944278125556146, 0.24972139062778073, 0.24972139062778073, 0.6007788273841869, 0.8433479965742349, 0.5634536442664538, 0.4184959458132645, 0.4184959458132645, 0.49846776406991156, 0.24923388203495578, 0.24923388203495578, 0.6007868585517832, 0.6007627075222767, 0.5634510852444317, 0.5582156132245872, 0.2791078066122936, 0.6007728861821072, 0.34890197019419555, 0.34890197019419555, 0.34890197019419555, 0.5578026498031253, 0.5578298257165862, 0.6007862170469379, 0.4407172881757954, 0.4407172881757954, 0.5578067246662544, 0.21243718854866647, 0.42487437709733294, 0.3186557828229997, 0.33386739058843107, 0.6677347811768621, 0.5578358658091994, 0.6007772962292159, 0.5634585777672911, 0.8433473939873339, 0.5578043042277554, 0.7177951207460371, 0.23926504024867906, 0.19037098580871403, 0.5711129574261421, 0.19037098580871403, 0.5634510649413749, 0.43147475484589104, 0.43147475484589104, 0.28876006404059973, 0.28876006404059973, 0.28876006404059973, 0.8338680661184769, 0.5634511399475766, 0.6007445151285209, 0.8338751369670967, 0.5634553839156631, 0.9611570920332204, 0.5578058515244572, 0.33316425653170095, 0.6663285130634019, 0.5578052313886573, 0.3399926143326229, 0.6799852286652458, 0.9986526010065869, 0.600741701043979, 0.3338628591625748, 0.6677257183251496, 0.5634533614108768, 0.5634535600821088, 1.0106987777512126, 0.5634502127758819, 0.7136688176947951, 0.35683440884739753, 0.6007769343739043, 0.600781375245635, 0.5578383409398691, 0.5634539884007951, 0.5578042430579297, 0.8394768835585316, 0.2798256278528439, 0.34765247897810275, 0.34765247897810275, 0.3477503142218178, 0.3477503142218178, 0.440556547658481, 0.440556547658481, 1.0107282458184321, 0.43295198664858026, 0.21647599332429013, 0.43295198664858026, 0.3433697550631558, 0.1716848775315779, 0.5150546325947337, 0.906556304756471, 0.4203732782533841, 0.4203732782533841, 0.9065970687523475, 0.44093009947534734, 0.44093009947534734, 0.563449910057462, 0.6717999795816227, 0.33589998979081137, 0.8433660463608897, 0.5634789994217878, 0.6007796758617024, 0.28182042010647923, 0.8454612603194377, 0.5578394102206469, 0.343186774093601, 0.686373548187202, 0.44223730344037304, 0.44223730344037304, 0.9065853280411945, 0.3432892370088087, 0.6865784740176174, 0.6007790339135108, 0.5578079506037062, 0.5578022070394129, 0.6717805028720589, 0.33589025143602946, 0.8394585153533114, 0.2798195051177705, 0.6007736826520099], \"Term\": [\"aamas\", \"activity\", \"actually\", \"ajlamesa\", \"already\", \"already\", \"another\", \"application\", \"application\", \"article\", \"article\", \"attack\", \"author\", \"author\", \"aware\", \"background\", \"background\", \"bayesian\", \"better\", \"black\", \"certainly\", \"chair\", \"chair\", \"chair\", \"challenge\", \"challenge\", \"challenge\", \"change\", \"check\", \"collaboration\", \"colleague\", \"colleague\", \"communism\", \"computer\", \"conference\", \"confirm\", \"consider\", \"control\", \"control\", \"decision\", \"decision\", \"descriptor\", \"devices\", \"devices\", \"devices\", \"discussion\", \"discussion\", \"dream\", \"election\", \"every\", \"every\", \"example\", \"excite\", \"excite\", \"explain\", \"extremist\", \"feature\", \"findings\", \"first\", \"first\", \"first\", \"follow\", \"forward\", \"forward\", \"forward\", \"frequentist\", \"friend\", \"future\", \"future\", \"gender\", \"ghostoftsushima\", \"great\", \"great\", \"great\", \"group\", \"group\", \"guilty\", \"hcrcs\", \"health\", \"health\", \"hotcrp\", \"human\", \"important\", \"important\", \"important\", \"india\", \"india\", \"innovative\", \"instagram\", \"interest\", \"interest\", \"interest\", \"interview\", \"interview\", \"invest\", \"keynote\", \"keynote\", \"kudos\", \"learn\", \"learn\", \"learning\", \"learning\", \"learning\", \"least\", \"lecture\", \"leonyin\", \"lesson\", \"lesson\", \"looking\", \"looking\", \"looking\", \"management\", \"markgatiss\", \"medium\", \"member\", \"member\", \"million\", \"model\", \"model\", \"model\", \"morning\", \"names\", \"never\", \"nicolacullum\", \"nicolacullum\", \"opportunity\", \"paper\", \"paper\", \"paper\", \"papers\", \"papers\", \"paradox\", \"people\", \"perfect\", \"person\", \"peterpaws\", \"place\", \"place\", \"please\", \"please\", \"please\", \"power\", \"practice\", \"practice\", \"present\", \"present\", \"present\", \"privacy\", \"product\", \"ps5share\", \"python\", \"reading\", \"really\", \"receive\", \"research\", \"research\", \"result\", \"review\", \"review\", \"reviewer\", \"robot\", \"running\", \"running\", \"school\", \"seattle\", \"seminar\", \"series\", \"social\", \"social\", \"something\", \"sorry\", \"southamptoncc\", \"srchvrs\", \"stanford\", \"student\", \"student\", \"study\", \"study\", \"system\", \"system\", \"talks\", \"talks\", \"tcuarch\", \"thank\", \"thank\", \"thank\", \"thanks\", \"thanks\", \"thanks\", \"things\", \"think\", \"think\", \"thinking\", \"though\", \"though\", \"three\", \"today\", \"today\", \"together\", \"trylks\", \"tuesday\", \"tweet\", \"tweet\", \"underrepresented\", \"university\", \"university\", \"victorasal\", \"victorasal\", \"vision\", \"visualization\", \"visualization\", \"welcome\", \"wonderful\", \"workshop\", \"world\", \"world\", \"would\", \"would\", \"zhoubolei\"]}, \"R\": 30, \"lambda.step\": 0.01, \"plot.opts\": {\"xlab\": \"PC1\", \"ylab\": \"PC2\"}, \"topic.order\": [1, 2, 3]};\n",
              "\n",
              "function LDAvis_load_lib(url, callback){\n",
              "  var s = document.createElement('script');\n",
              "  s.src = url;\n",
              "  s.async = true;\n",
              "  s.onreadystatechange = s.onload = callback;\n",
              "  s.onerror = function(){console.warn(\"failed to load library \" + url);};\n",
              "  document.getElementsByTagName(\"head\")[0].appendChild(s);\n",
              "}\n",
              "\n",
              "if(typeof(LDAvis) !== \"undefined\"){\n",
              "   // already loaded: just create the visualization\n",
              "   !function(LDAvis){\n",
              "       new LDAvis(\"#\" + \"ldavis_el611406418098444324725660901\", ldavis_el611406418098444324725660901_data);\n",
              "   }(LDAvis);\n",
              "}else if(typeof define === \"function\" && define.amd){\n",
              "   // require.js is available: use it to load d3/LDAvis\n",
              "   require.config({paths: {d3: \"https://d3js.org/d3.v5\"}});\n",
              "   require([\"d3\"], function(d3){\n",
              "      window.d3 = d3;\n",
              "      LDAvis_load_lib(\"https://cdn.jsdelivr.net/gh/bmabey/pyLDAvis@3.3.1/pyLDAvis/js/ldavis.v3.0.0.js\", function(){\n",
              "        new LDAvis(\"#\" + \"ldavis_el611406418098444324725660901\", ldavis_el611406418098444324725660901_data);\n",
              "      });\n",
              "    });\n",
              "}else{\n",
              "    // require.js not available: dynamically load d3 & LDAvis\n",
              "    LDAvis_load_lib(\"https://d3js.org/d3.v5.js\", function(){\n",
              "         LDAvis_load_lib(\"https://cdn.jsdelivr.net/gh/bmabey/pyLDAvis@3.3.1/pyLDAvis/js/ldavis.v3.0.0.js\", function(){\n",
              "                 new LDAvis(\"#\" + \"ldavis_el611406418098444324725660901\", ldavis_el611406418098444324725660901_data);\n",
              "            })\n",
              "         });\n",
              "}\n",
              "</script>"
            ]
          },
          "metadata": {},
          "execution_count": 77
        }
      ],
      "source": [
        "import pyLDAvis\n",
        "import pyLDAvis.gensim_models as gensimvis\n",
        "pyLDAvis.enable_notebook()\n",
        "lda3 = gensim.models.ldamodel.LdaModel.load('model3.gensim')\n",
        "lda_display = gensimvis.prepare(lda3, corpus, dictionary, sort_topics=False)\n",
        "pyLDAvis.display(lda_display)"
      ]
    },
    {
      "cell_type": "code",
      "execution_count": null,
      "metadata": {
        "id": "8Xk2UMI79cAC",
        "outputId": "e3523ad1-5d1d-441b-e014-340edd623ac8",
        "colab": {
          "base_uri": "https://localhost:8080/",
          "height": 861
        }
      },
      "outputs": [
        {
          "output_type": "execute_result",
          "data": {
            "text/plain": [
              "<IPython.core.display.HTML object>"
            ],
            "text/html": [
              "\n",
              "<link rel=\"stylesheet\" type=\"text/css\" href=\"https://cdn.jsdelivr.net/gh/bmabey/pyLDAvis@3.3.1/pyLDAvis/js/ldavis.v1.0.0.css\">\n",
              "\n",
              "\n",
              "<div id=\"ldavis_el611406417628935208879459859\"></div>\n",
              "<script type=\"text/javascript\">\n",
              "\n",
              "var ldavis_el611406417628935208879459859_data = {\"mdsDat\": {\"x\": [0.06463913719532506, -0.00666701432166901, -0.01809732717597835, 0.010051738550741873, -0.0458352424126633, 0.1602960523207012, -0.011287119129771225, -0.012442397523523439, -0.018881253941797106, -0.12177657356136604], \"y\": [0.15104162252996492, 0.006356670206657696, 0.08012476464041061, -0.01193596633178784, -0.0325489538919552, -0.1012216731911602, -0.0127036131812834, -0.01757785907233037, -0.01237055077742483, -0.04916444093109175], \"topics\": [1, 2, 3, 4, 5, 6, 7, 8, 9, 10], \"cluster\": [1, 1, 1, 1, 1, 1, 1, 1, 1, 1], \"Freq\": [10.687579273967534, 9.400817521798395, 10.215024437037115, 5.617657574174387, 10.070200778538139, 13.87956940358884, 7.963774038912256, 9.714280360014186, 8.673052016307649, 13.778044595661495]}, \"tinfo\": {\"Term\": [\"paper\", \"challenge\", \"tcuarch\", \"award\", \"better\", \"reviewer\", \"really\", \"great\", \"running\", \"student\", \"member\", \"advisor\", \"seminar\", \"vision\", \"definitely\", \"lesson\", \"model\", \"group\", \"python\", \"first\", \"learning\", \"congrats\", \"thanks\", \"study\", \"please\", \"protect\", \"author\", \"learn\", \"would\", \"think\", \"python\", \"innovative\", \"paradox\", \"underrepresented\", \"descriptor\", \"frequentist\", \"bayesian\", \"product\", \"compsci\", \"incentive\", \"need\", \"chance\", \"central\", \"droplet\", \"extraction\", \"population\", \"process\", \"quantify\", \"thermofluidic\", \"performance\", \"global\", \"pandemic\", \"understanding\", \"adopt\", \"development\", \"produce\", \"found\", \"travel\", \"distinguish\", \"force\", \"every\", \"nicolacullum\", \"future\", \"study\", \"university\", \"group\", \"learning\", \"research\", \"transform\", \"similar\", \"lecture\", \"college\", \"talking\", \"automate\", \"ocramzyo\", \"cycle\", \"discipline\", \"effort\", \"challenge\", \"opportunity\", \"zhoubolei\", \"raise\", \"ps5share\", \"ghostoftsushima\", \"invest\", \"adapt\", \"admirably\", \"blame\", \"cabal\", \"comment\", \"ieeessp\", \"rememberthe\", \"somewhere\", \"smart\", \"handle\", \"develop\", \"stepssession\", \"majors\", \"raiseaisummit\", \"summit\", \"princetoncs\", \"particularly\", \"treesouthsideruns\", \"sitting\", \"double\", \"light\", \"candid\", \"chicago\", \"harness\", \"study\", \"conference\", \"devices\", \"place\", \"great\", \"better\", \"amaze\", \"person\", \"victorasal\", \"science\", \"forward\", \"think\", \"chair\", \"security\", \"mistake\", \"either\", \"suggest\", \"google\", \"interest\", \"community\", \"decision\", \"try\", \"tcuarch\", \"lesson\", \"academic\", \"confirm\", \"academia\", \"thought\", \"point\", \"running\", \"seminar\", \"acceptance\", \"degree\", \"experimentally\", \"however\", \"judgement\", \"kahneman\", \"noise\", \"randomness\", \"saying\", \"substantial\", \"merging\", \"easily\", \"ultra\", \"imperfect\", \"semester\", \"seralinardi\", \"serve\", \"society\", \"explainable\", \"explanatory\", \"guide\", \"interview\", \"could\", \"first\", \"decision\", \"already\", \"member\", \"research\", \"great\", \"paper\", \"user\", \"algorithm\", \"update\", \"chair\", \"looking\", \"explain\", \"something\", \"think\", \"truly\", \"interest\", \"harvard\", \"please\", \"plottertwitter\", \"quilting\", \"foundation\", \"foundationpaperpiecing\", \"design\", \"healingmachine\", \"james\", \"rectangular\", \"single\", \"plot\", \"venue\", \"block\", \"make\", \"pieceable\", \"axidraw\", \"section\", \"dinner\", \"recsys2019\", \"umuai\", \"allow\", \"legislation\", \"matter\", \"unless\", \"jhasomesh\", \"texture\", \"almost\", \"andrewcwarrilo\", \"greenhouse\", \"perpetual\", \"tomcopley\", \"congrats\", \"definitely\", \"better\", \"award\", \"paper\", \"though\", \"markgatiss\", \"colleague\", \"using\", \"think\", \"receive\", \"perfect\", \"mistake\", \"actually\", \"together\", \"congratulations\", \"mlittmancs\", \"vision\", \"hotcrp\", \"building\", \"guilty\", \"clear\", \"decade\", \"grateful\", \"inspiration\", \"jeffdean\", \"talk\", \"detecting\", \"disinformation\", \"expert\", \"guest\", \"uctnews\", \"visseho09\", \"general\", \"sic\", \"susan\", \"problem\", \"lifelong\", \"precision\", \"sometimes\", \"uwcse\", \"modsim\", \"snooze\", \"adjust\", \"jlowepower\", \"seeing\", \"webcam\", \"background\", \"student\", \"model\", \"visualization\", \"thanks\", \"excite\", \"looking\", \"learning\", \"great\", \"think\", \"interest\", \"please\", \"continue\", \"postdoc\", \"group\", \"welcome\", \"things\", \"feature\", \"lecture\", \"working\", \"agree\", \"thinking\", \"computer\", \"contact\", \"reading\", \"medium\", \"application\", \"instagram\", \"experience\", \"extremist\", \"contribution\", \"lifetime\", \"dream\", \"host\", \"researcher\", \"others\", \"boston\", \"aamas\", \"award\", \"atrium\", \"arpitabiswas777\", \"bandit\", \"fooobar\", \"ijcai2021\", \"ijcaiconf\", \"intervention\", \"multiarmed\", \"restless\", \"action\", \"europe\", \"feel\", \"handful\", \"happen\", \"saurabh\", \"computing\", \"seminal\", \"public\", \"india\", \"prevent\", \"important\", \"world\", \"health\", \"social\", \"visualization\", \"really\", \"learning\", \"thank\", \"group\", \"research\", \"paper\", \"finding\", \"example\", \"communism\", \"complicate\", \"extremely\", \"historical\", \"parks\", \"quiet\", \"reflection\", \"significance\", \"speak\", \"stateway\", \"stop\", \"target\", \"taylor\", \"violence\", \"perfectly\", \"throw\", \"chicagopolice\", \"digitaltrends\", \"slideshare\", \"whether\", \"risk\", \"window\", \"transparent\", \"without\", \"transparency\", \"ponzi\", \"triathlon\", \"install\", \"fairumap\", \"slide\", \"iamsimonhill\", \"privacy\", \"protect\", \"learn\", \"control\", \"member\", \"please\", \"black\", \"place\", \"devices\", \"keynote\", \"explain\", \"morning\", \"around\", \"workshop\", \"friend\", \"engineer\", \"doctorow\", \"oligopoly\", \"refer\", \"realbillms\", \"advisor\", \"consider\", \"publish\", \"management\", \"alanchartock\", \"bite\", \"cancel\", \"enckj\", \"franberman\", \"joecdonahue\", \"photo\", \"r2croak\", \"right\", \"sarahladuke\", \"tboug\", \"terrygipsonny\", \"wamcroundtable\", \"eccariusv\", \"rosemary\", \"actnext\", \"seankandel\", \"arvindsatya\", \"framework\", \"information\", \"impact\", \"diana\", \"skairam\", \"edm20\", \"modeling\", \"audio\", \"recommendation\", \"science\", \"activity\", \"really\", \"today\", \"better\", \"present\", \"would\", \"thank\", \"search\", \"user\", \"senate\", \"attention\", \"together\", \"tweet\", \"keynote\", \"stanford\", \"chi2020\", \"leake\", \"mackenzie\", \"slideshows\", \"valentina\", \"visual\", \"advisee\", \"aware\", \"least\", \"change\", \"previous\", \"serious\", \"create\", \"difference\", \"distribution\", \"exact\", \"notably\", \"separation\", \"shadow\", \"significant\", \"train\", \"adversary\", \"sample\", \"concern\", \"unusual\", \"oblivious\", \"categorisation\", \"faculty\", \"inadequate\", \"depression\", \"remind\", \"insult\", \"prof\", \"questions-\", \"cfd1951\", \"sigmetrics\", \"urgent\", \"stand\", \"author\", \"paper\", \"model\", \"research\", \"great\", \"group\", \"stuff\", \"cizcg\", \"victorasal\", \"topic\", \"security\", \"access\", \"forward\", \"training\", \"result\", \"network\", \"attack\", \"three\", \"different\", \"odihq\", \"opendata\", \"potential\", \"realise\", \"reviewer\", \"later\", \"names\", \"southamptoncc\", \"robot\", \"white\", \"power\", \"nsfcise\", \"arvind\", \"buildsys2020\", \"crossing\", \"death\", \"journey\", \"occupancy\", \"superheros\", \"aied19\", \"austen\", \"iaiedsociety\", \"literary\", \"meet\", \"metaphor\", \"poster\", \"report\", \"towards\", \"combine\", \"sensys2020\", \"years\", \"sensing\", \"usability\", \"arvindsatya1\", \"discussion\", \"talks\", \"message\", \"practice\", \"human\", \"remember\", \"article\", \"system\", \"review\", \"amaze\", \"group\", \"would\", \"tweet\", \"research\", \"paper\", \"think\", \"thank\", \"please\", \"thanks\", \"great\", \"check\", \"follow\", \"place\"], \"Freq\": [9.0, 2.0, 2.0, 3.0, 3.0, 3.0, 4.0, 9.0, 2.0, 3.0, 3.0, 2.0, 2.0, 2.0, 2.0, 2.0, 2.0, 6.0, 2.0, 4.0, 4.0, 2.0, 5.0, 2.0, 5.0, 2.0, 2.0, 2.0, 3.0, 4.0, 1.8544024620759032, 1.256931008170601, 1.256931008170601, 1.256931008170601, 1.256931008170601, 1.256931008170601, 1.256931008170601, 1.255942376025893, 0.6583924585919458, 0.6583924585919458, 0.6583924585919458, 0.6583924585919458, 0.6583924585919458, 0.6583924585919458, 0.6583924585919458, 0.6583924585919458, 0.6583924585919458, 0.6583924585919458, 0.6583924585919458, 0.6583924585919458, 0.6583924585919458, 0.6583924585919458, 0.6583924585919458, 0.6583924585919458, 0.6583924585919458, 0.6583924585919458, 0.6583924585919458, 0.6583924585919458, 0.6583924585919458, 0.6583924585919458, 1.256943399337287, 1.2569359979021524, 1.2569354157668047, 1.2569258521146647, 1.2569354157668047, 1.855002726781531, 1.2569294280889431, 1.2569316734681413, 0.6583932486327748, 0.658392957565101, 0.6583928328218123, 0.6583926664974272, 0.6583925417541384, 0.6583924585919458, 0.6583924585919458, 0.6583924585919458, 0.6583924585919458, 0.6583924585919458, 2.3291069817331453, 1.1936009942142254, 1.1936009942142254, 1.1930724149018908, 1.1925469078745157, 1.1925467615752319, 1.192493069738081, 0.6252196450308857, 0.6252196450308857, 0.6252196450308857, 0.6252196450308857, 0.6252196450308857, 0.6252196450308857, 0.6252196450308857, 0.6252196450308857, 0.6252196450308857, 0.6252196450308857, 0.6252196450308857, 0.6252196450308857, 0.6252196450308857, 0.6252196450308857, 0.6252196450308857, 0.6252196450308857, 0.6252196450308857, 0.6252196450308857, 0.6252196450308857, 0.6252196450308857, 0.6252196450308857, 0.6252196450308857, 0.6252196450308857, 1.1936028229552726, 1.1936057489409484, 1.1936068461855769, 1.1936146000476178, 1.1936564416427817, 1.7616135229031293, 0.625635354445776, 0.6255145843870071, 0.625296159556308, 0.6252287887361226, 0.6252271794440009, 0.6252232293633385, 0.6252230830640548, 0.6252222784179939, 0.6252218395201425, 0.6252217663705006, 0.6252217663705006, 0.6252215469215749, 0.625221473771933, 0.6252209617244399, 0.6252202302280209, 0.6252199376294533, 0.6252198644798114, 2.4182091117473403, 1.8284019647932679, 1.2385948973243441, 1.2385948973243441, 1.2385948973243441, 1.2385948973243441, 1.2385948973243441, 1.8284041903774342, 1.8284064159616005, 0.6487878298554204, 0.6487878298554204, 0.6487878298554204, 0.6487878298554204, 0.6487878298554204, 0.6487878298554204, 0.6487878298554204, 0.6487878298554204, 0.6487878298554204, 0.6487878298554204, 0.6487878298554204, 0.6487878298554204, 0.6487878298554204, 0.6487878298554204, 0.6487878298554204, 0.6487878298554204, 0.6487878298554204, 0.6487878298554204, 0.6487878298554204, 0.6487878298554204, 0.6487878298554204, 1.2385981562154447, 1.2385978382748495, 1.8284127747735042, 1.2386000638590158, 1.2385992690075278, 1.2385964075421712, 1.8284092774269571, 1.8284199284368958, 1.2386020509877358, 0.6487921220534553, 0.648791287459393, 0.6487905720930538, 0.648790095182161, 0.648789896469289, 0.6487897374989914, 0.6487897374989914, 0.6487896182712682, 0.6487895387861194, 0.6487894593009707, 0.648789101617801, 0.6487889029049291, 0.49547357313021917, 0.49547357313021917, 0.49547357313021917, 0.49547357313021917, 0.49547357313021917, 0.49547357313021917, 0.49547357313021917, 0.49547357313021917, 0.49547357313021917, 0.49547357313021917, 0.49547357313021917, 0.49547357313021917, 0.49547357313021917, 0.49547357313021917, 0.49547357313021917, 0.49547357313021917, 0.49547357313021917, 0.49547357313021917, 0.49547357313021917, 0.49547357313021917, 0.49547357313021917, 0.49547357313021917, 0.49547357313021917, 0.49547357313021917, 0.49547357313021917, 0.49547357313021917, 0.49547357313021917, 0.49547357313021917, 0.49547357313021917, 0.49547357313021917, 0.945610686503736, 0.9459123001142892, 0.9455683731740236, 0.9455991465047237, 0.9459135240535783, 0.49547759464502655, 0.49547685153902954, 0.4954751030543307, 0.4954744036604511, 0.4954742725240987, 0.49547414138774626, 0.4954738791150414, 0.4954737916908065, 0.49547370426657156, 0.49547357313021917, 0.49547357313021917, 0.49547357313021917, 1.8147660288569143, 1.2294500623229312, 1.2294499056064374, 1.2294499056064374, 0.6439976349019111, 0.6439976349019111, 0.6439976349019111, 0.6439976349019111, 0.6439976349019111, 0.6439976349019111, 0.6439976349019111, 0.6439976349019111, 0.6439976349019111, 0.6439976349019111, 0.6439976349019111, 0.6439976349019111, 0.6439976349019111, 0.6439976349019111, 0.6439976349019111, 0.6439976349019111, 0.6439976349019111, 0.6439976349019111, 0.6439976349019111, 0.6439976349019111, 0.6439976349019111, 0.6439976349019111, 0.6439976349019111, 0.6439976349019111, 0.6439976349019111, 0.6439976349019111, 1.2294568011321676, 1.81491083489725, 1.2294509242636475, 1.2293561107848563, 1.8149368498352323, 1.2294564876991798, 1.2294616593434775, 1.2294521779955985, 1.8148931259334427, 1.229441834707003, 1.2294705921836282, 1.2294593085960697, 0.6445933142951099, 0.6444842004362531, 0.6442446984544967, 0.6440010434856528, 0.6440009259482823, 0.6440009259482823, 0.644000064007566, 0.6439996722163314, 0.6439995154998375, 0.643998966992109, 0.6439984184843804, 0.6439984184843804, 0.6439982617678865, 0.6439981050513927, 2.0173139864047562, 2.016106549688087, 1.3665675879514763, 1.3665675879514763, 1.3665675879514763, 1.3665675879514763, 1.3665675879514763, 1.3661918569731855, 1.3660932532413144, 1.3660785652812546, 1.3660658213159087, 1.365630582499435, 2.01685239565994, 0.7158211894981966, 0.7158211894981966, 0.7158211894981966, 0.7158211894981966, 0.7158211894981966, 0.7158211894981966, 0.7158211894981966, 0.7158211894981966, 0.7158211894981966, 0.7158211894981966, 0.7158211894981966, 0.7158211894981966, 0.7158211894981966, 0.7158211894981966, 0.7158211894981966, 0.7158211894981966, 0.7158211894981966, 1.3665689919476585, 1.366318864627819, 1.3665687759482459, 1.3669354349512057, 1.3665703959438407, 1.3665699639450153, 1.3659761815596623, 1.3665712599414912, 1.3665589479749707, 1.3665669399532383, 1.3659745615640675, 1.3665643479602867, 1.3664098003805414, 1.3665440440154983, 0.716188334499835, 0.7158237274912951, 0.715822323495113, 0.5822907643245043, 0.5822907643245043, 0.5822907643245043, 0.5822907643245043, 0.5822907643245043, 0.5822907643245043, 0.5822907643245043, 0.5822907643245043, 0.5822907643245043, 0.5822907643245043, 0.5822907643245043, 0.5822907643245043, 0.5822907643245043, 0.5822907643245043, 0.5822907643245043, 0.5822907643245043, 0.5822907643245043, 0.5822907643245043, 0.5822907643245043, 0.5822907643245043, 0.5822907643245043, 0.5822907643245043, 0.5822907643245043, 0.5822907643245043, 0.5822907643245043, 0.5822907643245043, 0.5822907643245043, 0.5822907643245043, 0.5822907643245043, 0.5822907643245043, 1.1116483312256873, 1.111652297159707, 1.1116498184509447, 1.111679315085215, 1.1116473397421824, 1.111656882770917, 0.5822962174837812, 0.5822929331946712, 0.5822929331946712, 0.5822924374529188, 0.5822920656466045, 0.5822918177757282, 0.5822911980985377, 0.5822911980985377, 0.5822910741630997, 0.5822908262922234, 0.5822907643245043, 0.5822907643245043, 0.5822907643245043, 0.5822907643245043, 1.7815579603667409, 1.207046580607936, 1.2064650762853204, 1.2063916796003782, 0.632262514401213, 0.632262514401213, 0.632262514401213, 0.632262514401213, 0.632262514401213, 0.632262514401213, 0.632262514401213, 0.632262514401213, 0.632262514401213, 0.632262514401213, 0.632262514401213, 0.632262514401213, 0.632262514401213, 0.632262514401213, 0.632262514401213, 0.632262514401213, 0.632262514401213, 0.632262514401213, 0.632262514401213, 0.632262514401213, 0.632262514401213, 0.632262514401213, 0.632262514401213, 0.632262514401213, 0.632262514401213, 0.632262514401213, 1.2064904741083282, 1.207038870554523, 1.207048092383115, 1.7818393017275593, 1.2067450570484777, 1.207035998181683, 1.2067812640640154, 1.207053156829965, 1.207038870554523, 0.6324462328798451, 0.6322653489796736, 0.6322652733909147, 0.6322642529426689, 0.6322634214663203, 0.6322632702888025, 0.6322630057281461, 0.6322627411674898, 0.632262514401213, 0.632262514401213, 0.632262514401213, 0.632262514401213, 0.632262514401213, 0.632262514401213, 0.632262514401213, 1.159888343326776, 1.159888343326776, 1.1596553790557727, 0.6075606957637217, 0.6075606957637217, 0.6075606282769689, 0.6075606282769689, 0.6075606282769689, 0.6075606282769689, 0.6075606282769689, 0.6075606282769689, 0.6075606282769689, 0.6075606282769689, 0.6075606282769689, 0.6075606282769689, 0.6075606282769689, 0.6075606282769689, 0.6075606282769689, 0.6075606282769689, 0.6075606282769689, 0.6075606282769689, 0.6075606282769689, 0.6075606282769689, 0.6075606282769689, 0.6075606282769689, 0.6075606282769689, 0.6075606282769689, 0.6075606282769689, 0.6075606282769689, 0.6075606282769689, 1.1598918526379265, 1.1598932023729844, 2.8167661416549237, 1.1598873985122353, 1.1592287278039526, 1.159762817966386, 0.6079927459557737, 0.6079244493618411, 0.607575677822865, 0.6075687941740695, 0.6075623829325442, 0.6075621804722855, 0.6075615730915094, 0.6075613031444979, 0.6075613031444979, 0.6075608307372276, 0.6075607632504746, 0.6075606957637217, 0.6075606957637217, 0.6075606282769689, 0.6075606282769689, 0.6075606282769689, 0.6075606282769689, 0.6075606282769689, 2.6784822245137696, 2.024975932781976, 1.3719055557777167, 1.3719055557777167, 1.3719055557777167, 1.371453666801682, 1.3712974622374867, 0.71861722140969, 0.71861722140969, 0.71861722140969, 0.71861722140969, 0.71861722140969, 0.71861722140969, 0.71861722140969, 0.71861722140969, 0.71861722140969, 0.71861722140969, 0.71861722140969, 0.71861722140969, 0.71861722140969, 0.71861722140969, 0.71861722140969, 0.71861722140969, 0.71861722140969, 0.71861722140969, 0.71861722140969, 0.71861722140969, 0.71861722140969, 0.71861722140969, 0.71861722140969, 1.3719069495040959, 1.371906091826324, 1.3714282580976913, 1.3719078071818676, 1.3719066278749315, 1.371906306245767, 1.371264441643271, 1.3719066278749315, 1.3719142397651565, 1.3719109162637906, 2.0249208269851358, 1.3719081288110322, 1.371620163499139, 2.0259251676559527, 2.0253796845930667, 1.3719078071818676, 1.3725168656095907, 1.3718864724472932, 1.3719204579290023, 1.3724962813430668, 0.7191231440853503, 0.7190989682931567, 0.7190563524288687], \"Total\": [9.0, 2.0, 2.0, 3.0, 3.0, 3.0, 4.0, 9.0, 2.0, 3.0, 3.0, 2.0, 2.0, 2.0, 2.0, 2.0, 2.0, 6.0, 2.0, 4.0, 4.0, 2.0, 5.0, 2.0, 5.0, 2.0, 2.0, 2.0, 3.0, 4.0, 2.3708447607963477, 1.7723884528452583, 1.7723884528452583, 1.7723884528452583, 1.7723884528452583, 1.7723884663593306, 1.7723884875097489, 1.7723493052746353, 1.173849871256645, 1.173849871256645, 1.173849871256645, 1.173849871256645, 1.173849871256645, 1.173849871256645, 1.173849871256645, 1.173849871256645, 1.173849871256645, 1.173849871256645, 1.173849871256645, 1.1738498751296276, 1.1738498761540355, 1.1738498761540355, 1.1738498761540355, 1.173849876224467, 1.1738498778616349, 1.1738498778616349, 1.1738498780066267, 1.173849878560505, 1.1738498788860428, 1.1738498800464197, 2.3471732091398665, 2.3471729222338182, 2.8127304045780424, 2.9091509565791775, 2.978004369770869, 6.770001308624517, 4.2447861516089755, 9.051094269165123, 1.8271382190421366, 1.7636569530552149, 2.3340865119085046, 1.7636570242425633, 1.8245962749199525, 1.1738499032666032, 1.1738499032666032, 1.1738499032666032, 1.1738498914192836, 1.173849894151291, 2.848960748145065, 1.7120741629922054, 1.7120742115938754, 1.7120801891849904, 1.7121060178446725, 1.7121059337084867, 1.7120866569030564, 1.1436927710076643, 1.1436927710076643, 1.1436927710076643, 1.1436927710076643, 1.1436927710076643, 1.1436927710076643, 1.1436927710076643, 1.1436927710076643, 1.143692777612654, 1.1436927779575936, 1.1436927867279665, 1.1436927867279665, 1.1436927888025208, 1.143692790816372, 1.1436927910461874, 1.1436927914958406, 1.1436927919256035, 1.1436927921410267, 1.143692793477948, 1.1436927968934254, 1.1436927997704245, 1.1436928009113996, 1.1436928036434069, 2.3106127379616725, 2.9091509565791775, 2.9508147001205876, 3.4801684925205, 3.9960412480459864, 9.443074815467895, 3.194210562164018, 3.453120073962313, 2.1465879118259723, 2.2708043909343854, 2.2932611000026526, 3.5855074964134768, 4.66141203878043, 3.524568308872529, 2.225376150054434, 2.1926618716966586, 1.7422312618234448, 1.7944390337844593, 2.3798917156947477, 5.214186637548147, 2.386788209814528, 2.974052835622193, 1.7969812407224048, 2.9345397106258293, 2.3447325594538344, 1.7549254919849107, 1.7549254919849107, 1.7549254919849107, 1.7549254965567633, 1.7549255113976496, 2.874088121010228, 2.943271283479558, 1.1651183922762136, 1.1651183922762136, 1.1651183922762136, 1.1651183922762136, 1.1651183922762136, 1.1651183922762136, 1.1651183922762136, 1.1651183922762136, 1.1651183922762136, 1.1651183922762136, 1.1651183922762136, 1.1651183922762136, 1.1651183922762136, 1.1651183922762136, 1.1651183922762136, 1.1651183922762136, 1.1651183922762136, 1.1651183922762136, 1.1651183922762136, 1.1651183922762136, 1.1651183922762136, 2.3233071207781273, 2.35346402251117, 4.116188344100557, 2.974052835622193, 2.993665961176595, 3.3820175059929856, 9.051094269165123, 9.443074815467895, 9.264256570641669, 2.3931901246010616, 1.7174465231195686, 1.7636570796411464, 3.524568308872529, 4.192385049542539, 2.3477616226092692, 1.6944739144503167, 4.66141203878043, 1.8158647740277392, 5.214186637548147, 1.7636570811129881, 5.276091911609292, 1.0257417973989011, 1.025741810811558, 1.0257418113863128, 1.0257418124617503, 1.0257418129386573, 1.0257418192117318, 1.0257418217794616, 1.0257418221049994, 1.025741822405246, 1.0257418228038695, 1.0257418266768519, 1.0257418273026364, 1.0257418273026364, 1.025741827656567, 1.025741831874489, 1.025741831874489, 1.025741831874489, 1.025741831874489, 1.025741831874489, 1.025741831874489, 1.025741831874489, 1.025741831874489, 1.025741831874489, 1.025741831874489, 1.025741831874489, 1.025741831874489, 1.025741831874489, 1.025741831874489, 1.025741831874489, 1.025741831874489, 2.1269933693201577, 2.7149094668396354, 3.194210562164018, 3.4284931189334364, 9.264256570641669, 2.2644813224978106, 1.6764868652524203, 2.1678764121627703, 1.6005257455796023, 4.66141203878043, 1.676488097435357, 1.594123219048124, 2.1926618716966586, 1.5550969108766077, 2.129881331537705, 1.600525961070422, 1.0257418728775916, 2.3316696287505234, 1.7462161308020225, 1.7462159713535215, 1.7462160196604841, 1.1607636683387903, 1.1607636683387903, 1.1607636683387903, 1.1607636683387903, 1.1607636683387903, 1.1607636683387903, 1.1607636683387903, 1.1607636683387903, 1.1607636683387903, 1.1607636683387903, 1.1607636683387903, 1.1607636683387903, 1.1607636729106428, 1.160763673306612, 1.1607636750887718, 1.1607636750887718, 1.16076367810828, 1.1607636791617022, 1.160763681751447, 1.160763682326202, 1.1607636823772316, 1.160763684828394, 1.160763690026031, 1.1607636911093206, 1.1607636911093206, 1.1607636915783757, 2.275571824227415, 3.4587807357312346, 2.8508716775997685, 3.047709965443583, 5.821655284253273, 3.4947623620836556, 4.192385049542539, 4.2447861516089755, 9.443074815467895, 4.66141203878043, 5.214186637548147, 5.276091911609292, 2.3638715420768657, 1.7131189911729197, 6.770001308624517, 1.713091698145251, 2.3491094642637704, 1.8140516561589264, 2.3340865119085046, 2.3039923939878637, 2.401317258862896, 2.3491094826332195, 1.7355479079671308, 1.8140518578770526, 1.7505708415736112, 1.814050192584585, 2.5275506956117004, 2.5271793074765783, 1.8768042424606994, 1.8768042424606994, 1.876804265181856, 1.8768042744780062, 1.876804296241463, 1.8768058065627171, 1.8768061333333481, 1.8768061532069538, 1.8768062627397561, 1.8768077945958026, 3.4284931189334364, 1.2260578135498061, 1.2260578135498061, 1.2260578135498061, 1.2260578135498061, 1.2260578135498061, 1.2260578135498061, 1.2260578135498061, 1.2260578135498061, 1.2260578135498061, 1.2260578135498061, 1.2260578135498061, 1.2260578135498061, 1.2260578135498061, 1.2260578135498061, 1.2260578135498061, 1.2260578135498061, 1.2260578135498061, 2.4451858892518876, 2.4451869286211267, 2.4753428335655085, 2.9809867331545745, 3.0046693361140737, 3.0199704221135844, 3.037043593364701, 3.047709965443583, 4.1866081655219185, 4.2447861516089755, 4.931491926162542, 6.770001308624517, 9.051094269165123, 9.264256570641669, 1.8008848077856632, 1.8245966084853433, 1.7783859708133016, 1.1046665154626472, 1.1046665154626472, 1.1046665154626472, 1.1046665154626472, 1.1046665154626472, 1.1046665154626472, 1.1046665154626472, 1.1046665154626472, 1.1046665154626472, 1.1046665154626472, 1.1046665154626472, 1.1046665154626472, 1.1046665203600374, 1.1046665222126286, 1.1046665222126286, 1.1046665224125765, 1.104666523092045, 1.1046665231624762, 1.1046665250023215, 1.1046665291498121, 1.1046665344178805, 1.1046665362000403, 1.1046665393280168, 1.1046665393280168, 1.1046665420472783, 1.1046665420472783, 1.1046665435996228, 1.1046665435996228, 1.1046665438998695, 1.1046665442254073, 2.202403129629163, 2.7377398081660074, 2.7611633869466994, 2.8858443687935087, 3.3820175059929856, 5.276091911609292, 1.656994029714572, 3.9960412480459864, 3.4801684925205, 2.3301969262018956, 2.3477616226092692, 1.6730479181931315, 1.6901188219799235, 1.7554142812046434, 1.7554130613396672, 1.7579548772874602, 1.10466654879726, 1.10466654879726, 1.10466654879726, 1.1046665669721465, 2.2996984918334173, 1.724879545366763, 1.7249563939506904, 1.7249661147575657, 1.1500953746494014, 1.1500953746494014, 1.1500953746494014, 1.1500953746494014, 1.1500953746494014, 1.1500953746494014, 1.1500953746494014, 1.1500953746494014, 1.1500953746494014, 1.1500953746494014, 1.1500953746494014, 1.1500953746494014, 1.1500953746494014, 1.1500953792212538, 1.1500953819532613, 1.1500953909390574, 1.1500953970161105, 1.150095405107015, 1.150095405107015, 1.1500954066593596, 1.1500954068891749, 1.1500954072851441, 1.1500954076390748, 1.1500954076390748, 1.1500954079840142, 1.1500954118569968, 2.2543087063466425, 2.2932611000026526, 2.3756275224390047, 4.1866081655219185, 2.9001793208580113, 3.194210562164018, 3.5320376145924564, 3.583784641564626, 4.931491926162542, 2.3384569731338067, 2.3931901246010616, 1.7024234164359775, 1.6794508081041728, 2.129881331537705, 3.6449877172786858, 2.3301969262018956, 1.7355478498881582, 1.1500954118569968, 1.1500954118569968, 1.1500954160749188, 1.1500954118569968, 1.1500954118569968, 1.1500954118569968, 1.1500954118569968, 1.6799668697238428, 1.6799668904628915, 1.6800094880419016, 1.1276391968709443, 1.1276391968709443, 1.1276391216843622, 1.1276391216843622, 1.1276391216843622, 1.1276391216843622, 1.1276391216843622, 1.1276391216843622, 1.1276391216843622, 1.1276391216843622, 1.1276391216843622, 1.1276391262562149, 1.127639126652184, 1.1276391293841914, 1.1276391311663512, 1.1276391314538519, 1.1276391357228037, 1.127639138299556, 1.1276391402946562, 1.1276391412613787, 1.1276391428714088, 1.1276391440510716, 1.1276391445790082, 1.127639147924054, 1.127639147924054, 1.1276391480690457, 1.1276391494763984, 2.333254587317284, 2.698779632212562, 9.264256570641669, 2.8508716775997685, 9.051094269165123, 9.443074815467895, 6.770001308624517, 2.3009316900585963, 2.2814723939996133, 2.2708043909343854, 1.7174461037043296, 2.225376150054434, 1.7783854921945905, 3.5855074964134768, 1.656994455757582, 1.7809273564719412, 1.7024231465026387, 1.7809255974738905, 1.7261776833796139, 1.7261777192176921, 1.1276391734028006, 1.1276391776642993, 1.1276391665722802, 1.127639158547018, 3.1884649051701963, 2.535153845075725, 1.8818880262441877, 1.8818880262441877, 1.8818880262441877, 1.8818863205439889, 1.8818857030567124, 1.2285996546685658, 1.2285996546685658, 1.2285996546685658, 1.2285996546685658, 1.2285996546685658, 1.2285996546685658, 1.2285996546685658, 1.2285996546685658, 1.2285996546685658, 1.2285996546685658, 1.2285996546685658, 1.2285996546685658, 1.2285996546685658, 1.2285996546685658, 1.2285996546685658, 1.2285996546685658, 1.2285996546685658, 1.2285996585415484, 1.2285996598662028, 1.22859966259821, 1.228599663783878, 1.2285996640841248, 1.2285996641505548, 2.411186595927828, 2.4112433127811252, 2.4112428977795677, 2.4502697715069717, 2.471695291473689, 2.532634488808526, 2.985960914129541, 3.04216146835152, 3.1311739309801396, 3.453120073962313, 6.770001308624517, 3.583784641564626, 3.6449877172786858, 9.051094269165123, 9.264256570641669, 4.66141203878043, 4.931491926162542, 5.276091911609292, 5.821655284253273, 9.443074815467895, 1.7970469594954561, 1.8793482307670804, 3.9960412480459864], \"Category\": [\"Default\", \"Default\", \"Default\", \"Default\", \"Default\", \"Default\", \"Default\", \"Default\", \"Default\", \"Default\", \"Default\", \"Default\", \"Default\", \"Default\", \"Default\", \"Default\", \"Default\", \"Default\", \"Default\", \"Default\", \"Default\", \"Default\", \"Default\", \"Default\", \"Default\", \"Default\", \"Default\", \"Default\", \"Default\", \"Default\", \"Topic1\", \"Topic1\", \"Topic1\", \"Topic1\", \"Topic1\", \"Topic1\", \"Topic1\", \"Topic1\", \"Topic1\", \"Topic1\", \"Topic1\", \"Topic1\", \"Topic1\", \"Topic1\", \"Topic1\", \"Topic1\", \"Topic1\", \"Topic1\", \"Topic1\", \"Topic1\", \"Topic1\", \"Topic1\", \"Topic1\", \"Topic1\", \"Topic1\", \"Topic1\", \"Topic1\", \"Topic1\", \"Topic1\", \"Topic1\", \"Topic1\", \"Topic1\", \"Topic1\", \"Topic1\", \"Topic1\", \"Topic1\", \"Topic1\", \"Topic1\", \"Topic1\", \"Topic1\", \"Topic1\", \"Topic1\", \"Topic1\", \"Topic1\", \"Topic1\", \"Topic1\", \"Topic1\", \"Topic1\", \"Topic2\", \"Topic2\", \"Topic2\", \"Topic2\", \"Topic2\", \"Topic2\", \"Topic2\", \"Topic2\", \"Topic2\", \"Topic2\", \"Topic2\", \"Topic2\", \"Topic2\", \"Topic2\", \"Topic2\", \"Topic2\", \"Topic2\", \"Topic2\", \"Topic2\", \"Topic2\", \"Topic2\", \"Topic2\", \"Topic2\", \"Topic2\", \"Topic2\", \"Topic2\", \"Topic2\", \"Topic2\", \"Topic2\", \"Topic2\", \"Topic2\", \"Topic2\", \"Topic2\", \"Topic2\", \"Topic2\", \"Topic2\", \"Topic2\", \"Topic2\", \"Topic2\", \"Topic2\", \"Topic2\", \"Topic2\", \"Topic2\", \"Topic2\", \"Topic2\", \"Topic2\", \"Topic2\", \"Topic2\", \"Topic2\", \"Topic2\", \"Topic2\", \"Topic2\", \"Topic2\", \"Topic3\", \"Topic3\", \"Topic3\", \"Topic3\", \"Topic3\", \"Topic3\", \"Topic3\", \"Topic3\", \"Topic3\", \"Topic3\", \"Topic3\", \"Topic3\", \"Topic3\", \"Topic3\", \"Topic3\", \"Topic3\", \"Topic3\", \"Topic3\", \"Topic3\", \"Topic3\", \"Topic3\", \"Topic3\", \"Topic3\", \"Topic3\", \"Topic3\", \"Topic3\", \"Topic3\", \"Topic3\", \"Topic3\", \"Topic3\", \"Topic3\", \"Topic3\", \"Topic3\", \"Topic3\", \"Topic3\", \"Topic3\", \"Topic3\", \"Topic3\", \"Topic3\", \"Topic3\", \"Topic3\", \"Topic3\", \"Topic3\", \"Topic3\", \"Topic3\", \"Topic3\", \"Topic3\", \"Topic3\", \"Topic3\", \"Topic3\", \"Topic3\", \"Topic4\", \"Topic4\", \"Topic4\", \"Topic4\", \"Topic4\", \"Topic4\", \"Topic4\", \"Topic4\", \"Topic4\", \"Topic4\", \"Topic4\", \"Topic4\", \"Topic4\", \"Topic4\", \"Topic4\", \"Topic4\", \"Topic4\", \"Topic4\", \"Topic4\", \"Topic4\", \"Topic4\", \"Topic4\", \"Topic4\", \"Topic4\", \"Topic4\", \"Topic4\", \"Topic4\", \"Topic4\", \"Topic4\", \"Topic4\", \"Topic4\", \"Topic4\", \"Topic4\", \"Topic4\", \"Topic4\", \"Topic4\", \"Topic4\", \"Topic4\", \"Topic4\", \"Topic4\", \"Topic4\", \"Topic4\", \"Topic4\", \"Topic4\", \"Topic4\", \"Topic4\", \"Topic4\", \"Topic5\", \"Topic5\", \"Topic5\", \"Topic5\", \"Topic5\", \"Topic5\", \"Topic5\", \"Topic5\", \"Topic5\", \"Topic5\", \"Topic5\", \"Topic5\", \"Topic5\", \"Topic5\", \"Topic5\", \"Topic5\", \"Topic5\", \"Topic5\", \"Topic5\", \"Topic5\", \"Topic5\", \"Topic5\", \"Topic5\", \"Topic5\", \"Topic5\", \"Topic5\", \"Topic5\", \"Topic5\", \"Topic5\", \"Topic5\", \"Topic5\", \"Topic5\", \"Topic5\", \"Topic5\", \"Topic5\", \"Topic5\", \"Topic5\", \"Topic5\", \"Topic5\", \"Topic5\", \"Topic5\", \"Topic5\", \"Topic5\", \"Topic5\", \"Topic5\", \"Topic5\", \"Topic5\", \"Topic5\", \"Topic5\", \"Topic5\", \"Topic5\", \"Topic5\", \"Topic5\", \"Topic5\", \"Topic5\", \"Topic5\", \"Topic6\", \"Topic6\", \"Topic6\", \"Topic6\", \"Topic6\", \"Topic6\", \"Topic6\", \"Topic6\", \"Topic6\", \"Topic6\", \"Topic6\", \"Topic6\", \"Topic6\", \"Topic6\", \"Topic6\", \"Topic6\", \"Topic6\", \"Topic6\", \"Topic6\", \"Topic6\", \"Topic6\", \"Topic6\", \"Topic6\", \"Topic6\", \"Topic6\", \"Topic6\", \"Topic6\", \"Topic6\", \"Topic6\", \"Topic6\", \"Topic6\", \"Topic6\", \"Topic6\", \"Topic6\", \"Topic6\", \"Topic6\", \"Topic6\", \"Topic6\", \"Topic6\", \"Topic6\", \"Topic6\", \"Topic6\", \"Topic6\", \"Topic6\", \"Topic6\", \"Topic6\", \"Topic6\", \"Topic7\", \"Topic7\", \"Topic7\", \"Topic7\", \"Topic7\", \"Topic7\", \"Topic7\", \"Topic7\", \"Topic7\", \"Topic7\", \"Topic7\", \"Topic7\", \"Topic7\", \"Topic7\", \"Topic7\", \"Topic7\", \"Topic7\", \"Topic7\", \"Topic7\", \"Topic7\", \"Topic7\", \"Topic7\", \"Topic7\", \"Topic7\", \"Topic7\", \"Topic7\", \"Topic7\", \"Topic7\", \"Topic7\", \"Topic7\", \"Topic7\", \"Topic7\", \"Topic7\", \"Topic7\", \"Topic7\", \"Topic7\", \"Topic7\", \"Topic7\", \"Topic7\", \"Topic7\", \"Topic7\", \"Topic7\", \"Topic7\", \"Topic7\", \"Topic7\", \"Topic7\", \"Topic7\", \"Topic7\", \"Topic7\", \"Topic7\", \"Topic8\", \"Topic8\", \"Topic8\", \"Topic8\", \"Topic8\", \"Topic8\", \"Topic8\", \"Topic8\", \"Topic8\", \"Topic8\", \"Topic8\", \"Topic8\", \"Topic8\", \"Topic8\", \"Topic8\", \"Topic8\", \"Topic8\", \"Topic8\", \"Topic8\", \"Topic8\", \"Topic8\", \"Topic8\", \"Topic8\", \"Topic8\", \"Topic8\", \"Topic8\", \"Topic8\", \"Topic8\", \"Topic8\", \"Topic8\", \"Topic8\", \"Topic8\", \"Topic8\", \"Topic8\", \"Topic8\", \"Topic8\", \"Topic8\", \"Topic8\", \"Topic8\", \"Topic8\", \"Topic8\", \"Topic8\", \"Topic8\", \"Topic8\", \"Topic8\", \"Topic8\", \"Topic8\", \"Topic8\", \"Topic8\", \"Topic8\", \"Topic8\", \"Topic8\", \"Topic8\", \"Topic8\", \"Topic9\", \"Topic9\", \"Topic9\", \"Topic9\", \"Topic9\", \"Topic9\", \"Topic9\", \"Topic9\", \"Topic9\", \"Topic9\", \"Topic9\", \"Topic9\", \"Topic9\", \"Topic9\", \"Topic9\", \"Topic9\", \"Topic9\", \"Topic9\", \"Topic9\", \"Topic9\", \"Topic9\", \"Topic9\", \"Topic9\", \"Topic9\", \"Topic9\", \"Topic9\", \"Topic9\", \"Topic9\", \"Topic9\", \"Topic9\", \"Topic9\", \"Topic9\", \"Topic9\", \"Topic9\", \"Topic9\", \"Topic9\", \"Topic9\", \"Topic9\", \"Topic9\", \"Topic9\", \"Topic9\", \"Topic9\", \"Topic9\", \"Topic9\", \"Topic9\", \"Topic9\", \"Topic9\", \"Topic9\", \"Topic9\", \"Topic9\", \"Topic9\", \"Topic9\", \"Topic9\", \"Topic9\", \"Topic10\", \"Topic10\", \"Topic10\", \"Topic10\", \"Topic10\", \"Topic10\", \"Topic10\", \"Topic10\", \"Topic10\", \"Topic10\", \"Topic10\", \"Topic10\", \"Topic10\", \"Topic10\", \"Topic10\", \"Topic10\", \"Topic10\", \"Topic10\", \"Topic10\", \"Topic10\", \"Topic10\", \"Topic10\", \"Topic10\", \"Topic10\", \"Topic10\", \"Topic10\", \"Topic10\", \"Topic10\", \"Topic10\", \"Topic10\", \"Topic10\", \"Topic10\", \"Topic10\", \"Topic10\", \"Topic10\", \"Topic10\", \"Topic10\", \"Topic10\", \"Topic10\", \"Topic10\", \"Topic10\", \"Topic10\", \"Topic10\", \"Topic10\", \"Topic10\", \"Topic10\", \"Topic10\", \"Topic10\", \"Topic10\", \"Topic10\", \"Topic10\", \"Topic10\", \"Topic10\"], \"logprob\": [30.0, 29.0, 28.0, 27.0, 26.0, 25.0, 24.0, 23.0, 22.0, 21.0, 20.0, 19.0, 18.0, 17.0, 16.0, 15.0, 14.0, 13.0, 12.0, 11.0, 10.0, 9.0, 8.0, 7.0, 6.0, 5.0, 4.0, 3.0, 2.0, 1.0, -4.5675, -4.9564, -4.9564, -4.9564, -4.9564, -4.9564, -4.9564, -4.9572, -5.603, -5.603, -5.603, -5.603, -5.603, -5.603, -5.603, -5.603, -5.603, -5.603, -5.603, -5.603, -5.603, -5.603, -5.603, -5.603, -5.603, -5.603, -5.603, -5.603, -5.603, -5.603, -4.9564, -4.9564, -4.9564, -4.9564, -4.9564, -4.5672, -4.9564, -4.9564, -5.603, -5.603, -5.603, -5.603, -5.603, -5.603, -5.603, -5.603, -5.603, -5.603, -4.2113, -4.8798, -4.8798, -4.8803, -4.8807, -4.8807, -4.8808, -5.5265, -5.5265, -5.5265, -5.5265, -5.5265, -5.5265, -5.5265, -5.5265, -5.5265, -5.5265, -5.5265, -5.5265, -5.5265, -5.5265, -5.5265, -5.5265, -5.5265, -5.5265, -5.5265, -5.5265, -5.5265, -5.5265, -5.5265, -4.8798, -4.8798, -4.8798, -4.8798, -4.8798, -4.4906, -5.5258, -5.526, -5.5263, -5.5264, -5.5264, -5.5265, -5.5265, -5.5265, -5.5265, -5.5265, -5.5265, -5.5265, -5.5265, -5.5265, -5.5265, -5.5265, -5.5265, -4.2568, -4.5364, -4.9259, -4.9259, -4.9259, -4.9259, -4.9259, -4.5364, -4.5364, -5.5725, -5.5725, -5.5725, -5.5725, -5.5725, -5.5725, -5.5725, -5.5725, -5.5725, -5.5725, -5.5725, -5.5725, -5.5725, -5.5725, -5.5725, -5.5725, -5.5725, -5.5725, -5.5725, -5.5725, -5.5725, -4.9259, -4.9259, -4.5364, -4.9259, -4.9259, -4.9259, -4.5364, -4.5364, -4.9259, -5.5725, -5.5725, -5.5725, -5.5725, -5.5725, -5.5725, -5.5725, -5.5725, -5.5725, -5.5725, -5.5725, -5.5725, -5.2442, -5.2442, -5.2442, -5.2442, -5.2442, -5.2442, -5.2442, -5.2442, -5.2442, -5.2442, -5.2442, -5.2442, -5.2442, -5.2442, -5.2442, -5.2442, -5.2442, -5.2442, -5.2442, -5.2442, -5.2442, -5.2442, -5.2442, -5.2442, -5.2442, -5.2442, -5.2442, -5.2442, -5.2442, -5.2442, -4.5978, -4.5975, -4.5979, -4.5979, -4.5975, -5.2442, -5.2442, -5.2442, -5.2442, -5.2442, -5.2442, -5.2442, -5.2442, -5.2442, -5.2442, -5.2442, -5.2442, -4.5296, -4.919, -4.919, -4.919, -5.5656, -5.5656, -5.5656, -5.5656, -5.5656, -5.5656, -5.5656, -5.5656, -5.5656, -5.5656, -5.5656, -5.5656, -5.5656, -5.5656, -5.5656, -5.5656, -5.5656, -5.5656, -5.5656, -5.5656, -5.5656, -5.5656, -5.5656, -5.5656, -5.5656, -5.5656, -4.919, -4.5296, -4.919, -4.9191, -4.5295, -4.919, -4.919, -4.919, -4.5296, -4.919, -4.919, -4.919, -5.5647, -5.5649, -5.5653, -5.5656, -5.5656, -5.5656, -5.5656, -5.5656, -5.5656, -5.5656, -5.5656, -5.5656, -5.5656, -5.5656, -4.7447, -4.7453, -5.1341, -5.1341, -5.1341, -5.1341, -5.1341, -5.1344, -5.1345, -5.1345, -5.1345, -5.1348, -4.7449, -5.7808, -5.7808, -5.7808, -5.7808, -5.7808, -5.7808, -5.7808, -5.7808, -5.7808, -5.7808, -5.7808, -5.7808, -5.7808, -5.7808, -5.7808, -5.7808, -5.7808, -5.1341, -5.1343, -5.1341, -5.1339, -5.1341, -5.1341, -5.1346, -5.1341, -5.1341, -5.1341, -5.1346, -5.1341, -5.1342, -5.1341, -5.7802, -5.7807, -5.7807, -5.4317, -5.4317, -5.4317, -5.4317, -5.4317, -5.4317, -5.4317, -5.4317, -5.4317, -5.4317, -5.4317, -5.4317, -5.4317, -5.4317, -5.4317, -5.4317, -5.4317, -5.4317, -5.4317, -5.4317, -5.4317, -5.4317, -5.4317, -5.4317, -5.4317, -5.4317, -5.4317, -5.4317, -5.4317, -5.4317, -4.7851, -4.7851, -4.7851, -4.785, -4.7851, -4.7851, -5.4317, -5.4317, -5.4317, -5.4317, -5.4317, -5.4317, -5.4317, -5.4317, -5.4317, -5.4317, -5.4317, -5.4317, -5.4317, -5.4317, -4.5121, -4.9014, -4.9019, -4.902, -5.5481, -5.5481, -5.5481, -5.5481, -5.5481, -5.5481, -5.5481, -5.5481, -5.5481, -5.5481, -5.5481, -5.5481, -5.5481, -5.5481, -5.5481, -5.5481, -5.5481, -5.5481, -5.5481, -5.5481, -5.5481, -5.5481, -5.5481, -5.5481, -5.5481, -5.5481, -4.9019, -4.9014, -4.9014, -4.512, -4.9017, -4.9014, -4.9016, -4.9014, -4.9014, -5.5478, -5.5481, -5.5481, -5.5481, -5.5481, -5.5481, -5.5481, -5.5481, -5.5481, -5.5481, -5.5481, -5.5481, -5.5481, -5.5481, -5.5481, -4.8279, -4.8279, -4.8281, -5.4745, -5.4745, -5.4745, -5.4745, -5.4745, -5.4745, -5.4745, -5.4745, -5.4745, -5.4745, -5.4745, -5.4745, -5.4745, -5.4745, -5.4745, -5.4745, -5.4745, -5.4745, -5.4745, -5.4745, -5.4745, -5.4745, -5.4745, -5.4745, -5.4745, -5.4745, -5.4745, -4.8279, -4.8279, -3.9406, -4.8279, -4.8285, -4.828, -5.4738, -5.4739, -5.4745, -5.4745, -5.4745, -5.4745, -5.4745, -5.4745, -5.4745, -5.4745, -5.4745, -5.4745, -5.4745, -5.4745, -5.4745, -5.4745, -5.4745, -5.4745, -4.4538, -4.7335, -5.1229, -5.1229, -5.1229, -5.1232, -5.1233, -5.7695, -5.7695, -5.7695, -5.7695, -5.7695, -5.7695, -5.7695, -5.7695, -5.7695, -5.7695, -5.7695, -5.7695, -5.7695, -5.7695, -5.7695, -5.7695, -5.7695, -5.7695, -5.7695, -5.7695, -5.7695, -5.7695, -5.7695, -5.1229, -5.1229, -5.1232, -5.1229, -5.1229, -5.1229, -5.1234, -5.1229, -5.1229, -5.1229, -4.7336, -5.1229, -5.1231, -4.7331, -4.7333, -5.1229, -5.1224, -5.1229, -5.1229, -5.1225, -5.7688, -5.7688, -5.7689], \"loglift\": [30.0, 29.0, 28.0, 27.0, 26.0, 25.0, 24.0, 23.0, 22.0, 21.0, 20.0, 19.0, 18.0, 17.0, 16.0, 15.0, 14.0, 13.0, 12.0, 11.0, 10.0, 9.0, 8.0, 7.0, 6.0, 5.0, 4.0, 3.0, 2.0, 1.0, 1.9904, 1.8924, 1.8924, 1.8924, 1.8924, 1.8924, 1.8924, 1.8917, 1.6578, 1.6578, 1.6578, 1.6578, 1.6578, 1.6578, 1.6578, 1.6578, 1.6578, 1.6578, 1.6578, 1.6578, 1.6578, 1.6578, 1.6578, 1.6578, 1.6578, 1.6578, 1.6578, 1.6578, 1.6578, 1.6578, 1.6116, 1.6116, 1.4306, 1.3969, 1.3735, 0.9415, 1.0191, 0.2619, 1.2154, 1.2507, 0.9705, 1.2507, 1.2168, 1.6578, 1.6578, 1.6578, 1.6578, 1.6578, 2.1629, 2.0036, 2.0036, 2.0032, 2.0027, 2.0027, 2.0027, 1.7605, 1.7605, 1.7605, 1.7605, 1.7605, 1.7605, 1.7605, 1.7605, 1.7605, 1.7605, 1.7605, 1.7605, 1.7605, 1.7605, 1.7605, 1.7605, 1.7605, 1.7605, 1.7605, 1.7605, 1.7605, 1.7605, 1.7605, 1.7038, 1.4735, 1.4593, 1.2943, 1.1561, 0.6853, 0.734, 0.6559, 1.131, 1.0746, 1.0648, 0.6178, 0.3554, 0.635, 1.0948, 1.1096, 1.3396, 1.31, 1.0277, 0.2433, 1.0248, 0.8048, 1.3086, 2.0878, 2.0326, 1.9329, 1.9329, 1.9329, 1.9329, 1.9329, 1.829, 1.8052, 1.6958, 1.6958, 1.6958, 1.6958, 1.6958, 1.6958, 1.6958, 1.6958, 1.6958, 1.6958, 1.6958, 1.6958, 1.6958, 1.6958, 1.6958, 1.6958, 1.6958, 1.6958, 1.6958, 1.6958, 1.6958, 1.6523, 1.6394, 1.4698, 1.4054, 1.3988, 1.2768, 0.6819, 0.6395, 0.2691, 0.976, 1.3078, 1.2813, 0.5889, 0.4154, 0.9952, 1.3213, 0.3093, 1.2521, 0.1973, 1.2813, 0.1855, 2.1516, 2.1516, 2.1516, 2.1516, 2.1516, 2.1516, 2.1516, 2.1516, 2.1516, 2.1516, 2.1516, 2.1516, 2.1516, 2.1516, 2.1516, 2.1516, 2.1516, 2.1516, 2.1516, 2.1516, 2.1516, 2.1516, 2.1516, 2.1516, 2.1516, 2.1516, 2.1516, 2.1516, 2.1516, 2.1516, 2.0686, 1.8249, 1.6619, 1.5912, 0.5975, 1.3597, 1.6603, 1.4033, 1.7067, 0.6377, 1.6603, 1.7107, 1.3919, 1.7355, 1.4209, 1.7067, 2.1516, 2.045, 1.9447, 1.9447, 1.9447, 1.7065, 1.7065, 1.7065, 1.7065, 1.7065, 1.7065, 1.7065, 1.7065, 1.7065, 1.7065, 1.7065, 1.7065, 1.7065, 1.7065, 1.7065, 1.7065, 1.7065, 1.7065, 1.7065, 1.7065, 1.7065, 1.7065, 1.7065, 1.7065, 1.7065, 1.7065, 1.6799, 1.6507, 1.4545, 1.3877, 1.1301, 1.2509, 1.0689, 1.0565, 0.6463, 0.9628, 0.8508, 0.839, 0.9962, 1.318, -0.0566, 1.3172, 1.0015, 1.26, 1.0079, 1.0209, 0.9795, 1.0015, 1.3042, 1.26, 1.2956, 1.26, 1.7493, 1.7488, 1.6575, 1.6575, 1.6575, 1.6575, 1.6575, 1.6572, 1.6571, 1.6571, 1.6571, 1.6568, 1.4442, 1.4366, 1.4366, 1.4366, 1.4366, 1.4366, 1.4366, 1.4366, 1.4366, 1.4366, 1.4366, 1.4366, 1.4366, 1.4366, 1.4366, 1.4366, 1.4366, 1.4366, 1.3929, 1.3928, 1.3807, 1.1951, 1.1869, 1.1818, 1.1757, 1.1727, 0.8552, 0.8414, 0.691, 0.3746, 0.0841, 0.0609, 1.0527, 1.0391, 1.0647, 1.8899, 1.8899, 1.8899, 1.8899, 1.8899, 1.8899, 1.8899, 1.8899, 1.8899, 1.8899, 1.8899, 1.8899, 1.8899, 1.8899, 1.8899, 1.8899, 1.8899, 1.8899, 1.8899, 1.8899, 1.8899, 1.8899, 1.8899, 1.8899, 1.8899, 1.8899, 1.8899, 1.8899, 1.8899, 1.8899, 1.8466, 1.629, 1.6205, 1.5763, 1.4176, 0.9729, 1.4845, 0.6042, 0.7424, 1.1435, 1.136, 1.4748, 1.4647, 1.4268, 1.4268, 1.4253, 1.8899, 1.8899, 1.8899, 1.8899, 2.0763, 1.9746, 1.9741, 1.974, 1.7333, 1.7333, 1.7333, 1.7333, 1.7333, 1.7333, 1.7333, 1.7333, 1.7333, 1.7333, 1.7333, 1.7333, 1.7333, 1.7333, 1.7333, 1.7333, 1.7333, 1.7333, 1.7333, 1.7333, 1.7333, 1.7333, 1.7333, 1.7333, 1.7333, 1.7333, 1.7064, 1.6898, 1.6545, 1.4773, 1.4547, 1.3584, 1.2577, 1.2433, 0.9241, 1.0239, 1.0005, 1.3411, 1.3547, 1.1171, 0.5798, 1.0272, 1.3218, 1.7333, 1.7333, 1.7333, 1.7333, 1.7333, 1.7333, 1.7333, 2.0745, 2.0745, 2.0743, 1.8265, 1.8265, 1.8265, 1.8265, 1.8265, 1.8265, 1.8265, 1.8265, 1.8265, 1.8265, 1.8265, 1.8265, 1.8265, 1.8265, 1.8265, 1.8265, 1.8265, 1.8265, 1.8265, 1.8265, 1.8265, 1.8265, 1.8265, 1.8265, 1.8265, 1.8265, 1.8265, 1.746, 1.6005, 1.2544, 1.5456, 0.3898, 0.3479, 0.0349, 1.1139, 1.1218, 1.1265, 1.4058, 1.1467, 1.3709, 0.6697, 1.4416, 1.3695, 1.4146, 1.3695, 1.4007, 1.4007, 1.8265, 1.8265, 1.8265, 1.8265, 1.8078, 1.7574, 1.666, 1.666, 1.666, 1.6657, 1.6656, 1.4458, 1.4458, 1.4458, 1.4458, 1.4458, 1.4458, 1.4458, 1.4458, 1.4458, 1.4458, 1.4458, 1.4458, 1.4458, 1.4458, 1.4458, 1.4458, 1.4458, 1.4458, 1.4458, 1.4458, 1.4458, 1.4458, 1.4458, 1.4182, 1.4182, 1.4178, 1.4021, 1.3934, 1.369, 1.2039, 1.1857, 1.1569, 1.059, 0.7751, 1.0219, 1.0047, 0.4852, 0.4617, 0.759, 0.7031, 0.6351, 0.5367, 0.0534, 1.0662, 1.0214, 0.267]}, \"token.table\": {\"Topic\": [6, 3, 3, 3, 6, 9, 6, 6, 8, 8, 7, 2, 5, 2, 1, 9, 8, 8, 3, 5, 6, 10, 8, 3, 9, 3, 5, 10, 2, 9, 10, 6, 5, 7, 6, 7, 8, 10, 10, 8, 10, 6, 9, 10, 7, 8, 8, 10, 2, 9, 1, 4, 6, 9, 5, 7, 6, 1, 2, 4, 8, 8, 7, 9, 2, 6, 5, 10, 2, 8, 2, 9, 1, 9, 2, 3, 5, 9, 10, 2, 1, 9, 2, 10, 8, 2, 7, 2, 5, 9, 5, 3, 9, 1, 3, 10, 2, 6, 9, 2, 3, 10, 7, 1, 5, 8, 6, 9, 2, 5, 10, 3, 4, 6, 8, 8, 5, 10, 5, 6, 9, 6, 1, 7, 10, 1, 3, 9, 10, 1, 10, 5, 2, 3, 6, 4, 5, 10, 3, 9, 1, 5, 2, 1, 2, 5, 7, 10, 8, 9, 1, 9, 7, 1, 7, 10, 5, 1, 9, 7, 2, 6, 1, 3, 8, 8, 1, 1, 2, 8, 7, 10, 6, 1, 8, 9, 1, 6, 2, 5, 6, 7, 6, 3, 5, 3, 7, 10, 3, 3, 1, 7, 6, 9, 7, 5, 10, 6, 6, 8, 2, 3, 6, 9, 6, 10, 6, 1, 2, 5, 6, 9, 10, 1, 8, 8, 1, 6, 7, 1, 3, 5, 2, 1, 2, 5, 6, 5, 2, 3, 5, 6, 8, 9, 10, 1, 5, 6, 9, 10, 5, 3, 5, 6, 2, 6, 1, 2, 1, 3, 2, 6, 8, 7, 6, 5, 3, 3, 10, 10, 7, 2, 6, 6, 8, 3, 6, 7, 8, 9, 1, 2, 6, 8, 1, 5, 6, 7, 9, 2, 3, 5, 7, 8, 9, 10, 6, 2, 3, 2, 5, 5, 8, 10, 3, 3, 6, 7, 8, 10, 8, 7, 8, 9, 1, 5, 6, 9, 1, 5, 8, 3, 5, 6, 2, 10, 3, 5, 6, 9, 10, 8, 2, 8, 6, 5, 10, 10, 2, 3, 7, 3, 7, 10, 10, 1, 2, 5, 9, 8, 5, 2, 7, 6, 10, 1, 8, 9, 1, 8, 3, 9, 10, 9, 10, 1, 9, 7, 9, 2, 6, 1, 3, 4, 5, 6, 9, 10, 1, 7, 2, 2, 7, 1, 2, 9, 8, 2, 6, 7, 10, 3, 5, 7, 8, 10, 3, 7, 1, 5, 9, 10, 9, 10, 2, 10, 5, 2, 5, 8, 10, 1, 6, 9, 2, 2, 7, 5, 1, 1, 1, 9, 7, 10, 2, 2, 6, 8, 1, 1, 9, 7, 8, 2, 2, 3, 3, 5, 7, 9, 5, 6, 8, 6, 7, 8, 7, 7, 6, 10, 2, 9, 10, 1, 2, 3, 6, 8, 9, 10, 6, 6, 9, 10, 1, 6, 10, 10, 8, 7, 10, 8, 3, 7, 9, 8, 6, 3, 2, 8, 8, 1, 3, 8, 2, 7, 9, 5, 3, 6, 1, 3, 8, 9, 10, 10, 9, 3, 9, 3, 9, 5, 9, 7, 9, 1, 3, 2, 8, 7, 7, 8, 2, 5, 5, 6, 8, 3, 3, 7, 5, 2, 10, 7, 9, 10, 5, 8, 7, 2, 7, 5, 8, 9, 1, 2, 1, 8, 9, 3, 2, 6, 2, 10, 5, 5, 8, 10, 5, 1, 6, 7, 10, 7, 7, 8, 3, 8, 1, 6, 8, 10, 2, 3, 5, 8, 10, 1, 1, 3, 5, 2, 3, 5, 10, 1, 3, 5, 5, 10, 3, 1, 9, 7, 3, 5, 8, 7, 8, 3, 9, 10, 9, 7, 9, 1, 10, 7, 7, 1, 2, 7, 3, 6, 2, 10, 1, 3, 8, 10, 5, 3, 1, 1, 1, 9, 10, 9, 1, 3, 9, 10, 3, 8, 10, 8, 5, 8, 2, 8, 9, 7, 5, 5, 8, 5, 6, 8, 5, 5, 9, 7, 10, 7, 7, 2, 5, 8, 6, 7, 1, 6, 7, 8, 9, 10, 10, 2], \"Freq\": [0.5328196115124108, 0.5698247615452601, 0.5698247615452601, 0.8582818764420731, 0.5623077810683018, 0.5623077810683018, 0.8156222234779446, 0.42094141045028893, 0.42094141045028893, 0.869493094119346, 0.6430467406923857, 0.8743606896447705, 0.8615017928219088, 0.8743606896447705, 0.8518976917358189, 0.8868085336130723, 0.8694930783050027, 0.8696792240818991, 0.4164381013417333, 0.4164381013417333, 0.4164381013417333, 0.8139347884399054, 0.8694931064346234, 0.5822597597878045, 0.5822597597878045, 0.33403860449646555, 0.33403860449646555, 0.33403860449646555, 0.2895931732986456, 0.2895931732986456, 0.2895931732986456, 0.7912798756014561, 0.5916743763781827, 0.5916743763781827, 0.8156222234779446, 0.33490056593440615, 0.33490056593440615, 0.33490056593440615, 0.8139347884399054, 0.8694930834081119, 0.8139347821581842, 0.8156222234779446, 0.5615057706051421, 0.5615057706051421, 0.5954327421645875, 0.5954327421645875, 0.8694930783050027, 0.8139347884399054, 0.37053784905741344, 0.37053784905741344, 0.8518976721105385, 0.2916733285762254, 0.5833466571524508, 0.5952498338043908, 0.43944998323202233, 0.43944998323202233, 0.8156222234779446, 0.5642103901301151, 0.31306639951829557, 0.31306639951829557, 0.31306639951829557, 0.8694931064346234, 0.603502476211249, 0.603502476211249, 0.8743606896447705, 0.532820046401701, 0.572666850151922, 0.8139347884399054, 0.8743606896447705, 0.8694931064346234, 0.8743606667831677, 0.8868085261682688, 0.8518976953411147, 0.8868085165728474, 0.2837226895227601, 0.2837226895227601, 0.2837226895227601, 0.2837226895227601, 0.2837226895227601, 0.7020103738888588, 0.8518976953411147, 0.5952347335642302, 0.5564684855429503, 0.5564684855429503, 0.8694930783050027, 0.8743606646945302, 0.9052505708383501, 0.4383134341796333, 0.4383134341796333, 0.4383134341796333, 0.8615018089178611, 0.4612809080764689, 0.4612809080764689, 0.5670036669569977, 0.5670036669569977, 0.8139347858740938, 0.8743606896447705, 0.5623076297338728, 0.5623076297338728, 0.4189730768268324, 0.4189730768268324, 0.4189730768268324, 0.9052505765336686, 0.8518976953411147, 0.5761869179234083, 0.5761869179234083, 0.8156222234779446, 0.8868085311531396, 0.33888945990377983, 0.33888945990377983, 0.33888945990377983, 0.5698247615452601, 0.4701472108112993, 0.4701472108112993, 0.6247946139725257, 0.5797506282024865, 0.5512521572400247, 0.5512521572400247, 0.4230348317156919, 0.4230348317156919, 0.4230348317156919, 0.532820613503403, 0.346519032978231, 0.346519032978231, 0.346519032978231, 0.4249055819145218, 0.4249055819145218, 0.8868085372085116, 0.8139347884399054, 0.8518976721105385, 0.8139347884399054, 0.8615018089178611, 0.3362415045295565, 0.3362415045295565, 0.3362415045295565, 0.36833640760922953, 0.36833640760922953, 0.36833640760922953, 0.8582818764420731, 0.8868085218125709, 0.5642104011649792, 0.8615018089178611, 0.8743606776264957, 0.8518976905476775, 0.28734240946930517, 0.28734240946930517, 0.28734240946930517, 0.28734240946930517, 0.8694930817614065, 0.8868085372085116, 0.5793146261053598, 0.5793146261053598, 0.9052505702815403, 0.8518976807084895, 0.4147335596875275, 0.4147335596875275, 0.8615018089178611, 0.8518976898042343, 0.8868085372085116, 0.9052505492166673, 0.8743606698549354, 0.5328206046856488, 0.8518976953411147, 0.8582818764420731, 0.8694931029782195, 0.8694930814938285, 0.8518976787257908, 0.5739766137323155, 0.5739766137323155, 0.8694931064346234, 0.5688428144088709, 0.5688428144088709, 0.8156222234779446, 0.4260443993251163, 0.4260443993251163, 0.8868085372085116, 0.5480663481174244, 0.5480663481174244, 0.2861424887853541, 0.2861424887853541, 0.2861424887853541, 0.2861424887853541, 0.5328206199538896, 0.8582818764420731, 0.8615018089178611, 0.4259376209108547, 0.4259376209108547, 0.4259376209108547, 0.8582818764420731, 0.8582818764420731, 0.8518976953411147, 0.9052505765336686, 0.5328206199538896, 0.8868085241418351, 0.9052505534760196, 0.5512522185379221, 0.5512522185379221, 0.8156222234779446, 0.5552826009063748, 0.5552826009063748, 0.24294320774539618, 0.48588641549079237, 0.24294320774539618, 0.24294320774539618, 0.5320993648909, 0.5320993648909, 0.8156222234779446, 0.8518976889621143, 0.27890054643597406, 0.27890054643597406, 0.27890054643597406, 0.27890054643597406, 0.27890054643597406, 0.8518976904424526, 0.8694930834081119, 0.8694931064346234, 0.564210396862999, 0.5696664916215426, 0.5696664916215426, 0.35552643025168174, 0.35552643025168174, 0.8615018055246991, 0.5840760085644712, 0.851897691786933, 0.420187184738393, 0.420187184738393, 0.420187184738393, 0.8615018089178611, 0.21179542035651042, 0.21179542035651042, 0.21179542035651042, 0.10589771017825521, 0.10589771017825521, 0.10589771017825521, 0.10589771017825521, 0.295420917785073, 0.1477104588925365, 0.1477104588925365, 0.1477104588925365, 0.295420917785073, 0.8615018089178611, 0.8582818764420731, 0.5726668343097835, 0.8156222234779446, 0.8743606843315036, 0.8156222234779446, 0.4327856345508416, 0.4327856345508416, 0.5670036486735458, 0.5670036486735458, 0.33112907089339333, 0.33112907089339333, 0.33112907089339333, 0.9052505765336686, 0.5328201759091175, 0.572666797861218, 0.8582818764420731, 0.40458061454807154, 0.40458061454807154, 0.8139347884399054, 0.9052505529632026, 0.8743606896447705, 0.8156222234779446, 0.8156222234779446, 0.8694930820607665, 0.8582818764420731, 0.3354593929848753, 0.3354593929848753, 0.3354593929848753, 0.8868085225728298, 0.8518976953411147, 0.4089666881067098, 0.4089666881067098, 0.869493082234511, 0.5642104011649792, 0.8615018089178611, 0.7913961601707741, 0.9052505534760196, 0.8868085196186745, 0.1917844660179305, 0.1917844660179305, 0.1917844660179305, 0.1917844660179305, 0.1917844660179305, 0.1917844660179305, 0.1917844660179305, 0.8156222234779446, 0.43042092500671103, 0.43042092500671103, 0.5840825848201345, 0.8615018089178611, 0.861501792017907, 0.8694931064346234, 0.8139347884399054, 0.8582818764420731, 0.8582818764420731, 0.4291482787379477, 0.4291482787379477, 0.4291482787379477, 0.788906757625299, 0.8694930783050027, 0.36216618137393247, 0.36216618137393247, 0.36216618137393247, 0.23558312816794139, 0.23558312816794139, 0.23558312816794139, 0.595249826456082, 0.4284331342895827, 0.4284331342895827, 0.4284331342895827, 0.8529757442639283, 0.8615018016670889, 0.5328206108642464, 0.8743606676554506, 0.8139347884399054, 0.23852770873446302, 0.23852770873446302, 0.23852770873446302, 0.23852770873446302, 0.23852770873446302, 0.8694930751161768, 0.8743606760404853, 0.5797215327563373, 0.5964854367346535, 0.5512526632878005, 0.5512526632878005, 0.8139347884399054, 0.29568149728024323, 0.29568149728024323, 0.29568149728024323, 0.8582818764420731, 0.41472387577413555, 0.41472387577413555, 0.8139347884399054, 0.4560666707932539, 0.4560666707932539, 0.35076990937800784, 0.35076990937800784, 0.869493081233048, 0.8615017984987355, 0.5977115115029019, 0.5977115115029019, 0.8156222234779446, 0.5313812437585717, 0.8518976953411147, 0.5873980285420479, 0.5873980285420479, 0.4260444514025384, 0.4260444514025384, 0.8582818764420731, 0.8868085372085116, 0.8139347884399054, 0.8868085295254979, 0.8139347884399054, 0.8518976721105385, 0.8868084965356139, 0.9052505492166673, 0.8868084931842464, 0.5840868471797345, 0.532820077497759, 0.851897691786933, 0.10794174280200632, 0.10794174280200632, 0.10794174280200632, 0.10794174280200632, 0.3238252284060189, 0.21588348560401263, 0.5642104011649792, 0.9052505765336686, 0.874360673652868, 0.6273040804192763, 0.9052505710022032, 0.8518976925303763, 0.4658556001786857, 0.4658556001786857, 0.8694931064346234, 0.25024766711029006, 0.25024766711029006, 0.25024766711029006, 0.25024766711029006, 0.1895342266118681, 0.1895342266118681, 0.1895342266118681, 0.1895342266118681, 0.1895342266118681, 0.5698247552419388, 0.9052505547481325, 0.8518976953411147, 0.5837306136658557, 0.5837306136658557, 0.8139347884399054, 0.8868085019073353, 0.5313818997485971, 0.4081183270628104, 0.4081183270628104, 0.8615018008852543, 0.2831226926543886, 0.2831226926543886, 0.2831226926543886, 0.2831226926543886, 0.403984444675726, 0.403984444675726, 0.8868084780795783, 0.8743606739814245, 0.4540494819258536, 0.4540494819258536, 0.8615018039081237, 0.8518976953411147, 0.8518976905476775, 0.5642228634185881, 0.8868085192034897, 0.3652648060335189, 0.3652648060335189, 0.5840759798618517, 0.4089668619451886, 0.4089668619451886, 0.5797247997148999, 0.8435811711806116, 0.8518976953411147, 0.8868085165728474, 0.9052505765336686, 0.8694931064346234, 0.5840847913064369, 0.8743606745008826, 0.8582818764420731, 0.5712422349621035, 0.5712422349621035, 0.9052505343227377, 0.8868085082186369, 0.23885684077992433, 0.23885684077992433, 0.47771368155984867, 0.5964849983306002, 0.44359496868581544, 0.44359496868581544, 0.9052505492166673, 0.9052505765336686, 0.39484576413173955, 0.39484576413173955, 0.8743606896447705, 0.8868085205463959, 0.8139347884399054, 0.11048387855231569, 0.11048387855231569, 0.22096775710463137, 0.11048387855231569, 0.11048387855231569, 0.11048387855231569, 0.22096775710463137, 0.5328200831398208, 0.8156222234779446, 0.5615052160134276, 0.5615052160134276, 0.31936903603658123, 0.31936903603658123, 0.31936903603658123, 0.9408916482459648, 0.8694931064346234, 0.9052505653173298, 0.5313812437585717, 0.8694931009127719, 0.6958728876054815, 0.34793644380274075, 0.8868085333016706, 0.8694931064346234, 0.8156222234779446, 0.8582818764420731, 0.43606024625754275, 0.43606024625754275, 0.8694930895249832, 0.42763241380485295, 0.42763241380485295, 0.42763241380485295, 0.4493622347734514, 0.4493622347734514, 0.4493622347734514, 0.861501792017907, 0.8582818764420731, 0.8156222234779446, 0.3397580119824335, 0.679516023964867, 0.5873979354052233, 0.5873979354052233, 0.8139347824011037, 0.8139347849965237, 0.8868085372085116, 0.8582818764420731, 0.8868084780795783, 0.8582818764420731, 0.8868085372085116, 0.8615018052308165, 0.8868085164588216, 0.9052505765336686, 0.8868085372085116, 0.5670036898432441, 0.5670036898432441, 0.8743606724660904, 0.8694930814938285, 0.9052505532299738, 0.9052505702238235, 0.8694930783050027, 0.8743606845952123, 0.8615017966795186, 0.329267581863095, 0.329267581863095, 0.329267581863095, 0.8582818764420731, 0.5901536703941516, 0.5901536703941516, 0.8615017989631836, 0.8743606896447705, 0.5313812437585717, 0.9052505765336686, 0.4285858926135336, 0.4285858926135336, 0.5761869372051261, 0.5761869372051261, 0.9052505765336686, 0.8743606776264957, 0.9052505765336686, 0.57823844666961, 0.289119223334805, 0.289119223334805, 0.34374290469129987, 0.34374290469129987, 0.43460655712666274, 0.43460655712666274, 0.43460655712666274, 0.8582818764420731, 0.557277222113814, 0.557277222113814, 0.8743606743251874, 0.8139347884399054, 0.8615018039081237, 0.32871364995030256, 0.32871364995030256, 0.32871364995030256, 0.8615018089178611, 0.5480664483127213, 0.5480664483127213, 0.41472380439558426, 0.41472380439558426, 0.9052505765336686, 0.9052505765336686, 0.8694931064346234, 0.6815378891476898, 0.8694931064346234, 0.2027783914021641, 0.2027783914021641, 0.2027783914021641, 0.2027783914021641, 0.17177245150616421, 0.17177245150616421, 0.34354490301232843, 0.17177245150616421, 0.17177245150616421, 0.8518976953411147, 0.4256932319300871, 0.4256932319300871, 0.4256932319300871, 0.2145272702092285, 0.2145272702092285, 0.2145272702092285, 0.2145272702092285, 0.42569322860127246, 0.42569322860127246, 0.42569322860127246, 0.44160222920141434, 0.44160222920141434, 0.5698247600607784, 0.5793146381328139, 0.5793146381328139, 0.9052505710022032, 0.3448062651878203, 0.3448062651878203, 0.3448062651878203, 0.46950972582027967, 0.46950972582027967, 0.5822599019806894, 0.5822599019806894, 0.8139347884399054, 0.8868085372085116, 0.6035023210399322, 0.6035023210399322, 0.5473039694414813, 0.5473039694414813, 0.905250556976509, 0.9052505595398188, 0.8518976900404868, 0.8743606734881755, 0.9052505547481325, 0.5507018002127531, 0.5507018002127531, 0.5564888365768302, 0.5564888365768302, 0.2743493469839703, 0.2743493469839703, 0.2743493469839703, 0.2743493469839703, 0.8615018089178611, 0.8582818764420731, 0.5642104011649792, 0.851897691786933, 0.33579534340204514, 0.33579534340204514, 0.33579534340204514, 0.8868085297515969, 0.5670036491467328, 0.5670036491467328, 0.8868085153520382, 0.8139347822021933, 0.41785230087672093, 0.41785230087672093, 0.41785230087672093, 0.6247946980933241, 0.8615017985366089, 0.8694930783050027, 0.4403725851474694, 0.4403725851474694, 0.4403725851474694, 0.905250572520362, 0.8577544500040274, 0.8615018089178611, 0.8694930783050027, 0.32811521153209655, 0.32811521153209655, 0.8694931064346234, 0.8615017916697812, 0.58373991367928, 0.58373991367928, 0.9052505687161095, 0.5313817253907953, 0.9052505610002606, 0.905250556976509, 0.4340292106039251, 0.4340292106039251, 0.4340292106039251, 0.5696660957513434, 0.5696660957513434, 0.33281532446205736, 0.33281532446205736, 0.33281532446205736, 0.2790346240122886, 0.2790346240122886, 0.2790346240122886, 0.8139347831865967, 0.5840868305989133], \"Term\": [\"aamas\", \"academia\", \"academic\", \"acceptance\", \"access\", \"access\", \"action\", \"activity\", \"activity\", \"actnext\", \"actually\", \"adapt\", \"adjust\", \"admirably\", \"adopt\", \"adversary\", \"advisee\", \"advisor\", \"agree\", \"agree\", \"agree\", \"aied19\", \"alanchartock\", \"algorithm\", \"algorithm\", \"already\", \"already\", \"already\", \"amaze\", \"amaze\", \"amaze\", \"application\", \"around\", \"around\", \"arpitabiswas777\", \"article\", \"article\", \"article\", \"arvind\", \"arvindsatya\", \"arvindsatya1\", \"atrium\", \"attack\", \"attack\", \"attention\", \"attention\", \"audio\", \"austen\", \"author\", \"author\", \"automate\", \"award\", \"award\", \"aware\", \"background\", \"background\", \"bandit\", \"bayesian\", \"better\", \"better\", \"better\", \"bite\", \"black\", \"black\", \"blame\", \"boston\", \"building\", \"buildsys2020\", \"cabal\", \"cancel\", \"candid\", \"categorisation\", \"central\", \"cfd1951\", \"chair\", \"chair\", \"chair\", \"chair\", \"chair\", \"challenge\", \"chance\", \"change\", \"check\", \"check\", \"chi2020\", \"chicago\", \"chicagopolice\", \"cizcg\", \"cizcg\", \"cizcg\", \"clear\", \"colleague\", \"colleague\", \"college\", \"college\", \"combine\", \"comment\", \"communism\", \"communism\", \"community\", \"community\", \"community\", \"complicate\", \"compsci\", \"computer\", \"computer\", \"computing\", \"concern\", \"conference\", \"conference\", \"conference\", \"confirm\", \"congrats\", \"congrats\", \"congratulations\", \"consider\", \"contact\", \"contact\", \"continue\", \"continue\", \"continue\", \"contribution\", \"control\", \"control\", \"control\", \"could\", \"could\", \"create\", \"crossing\", \"cycle\", \"death\", \"decade\", \"decision\", \"decision\", \"decision\", \"definitely\", \"definitely\", \"definitely\", \"degree\", \"depression\", \"descriptor\", \"detecting\", \"develop\", \"development\", \"devices\", \"devices\", \"devices\", \"devices\", \"diana\", \"difference\", \"different\", \"different\", \"digitaltrends\", \"discipline\", \"discussion\", \"discussion\", \"disinformation\", \"distinguish\", \"distribution\", \"doctorow\", \"double\", \"dream\", \"droplet\", \"easily\", \"eccariusv\", \"edm20\", \"effort\", \"either\", \"either\", \"enckj\", \"engineer\", \"engineer\", \"europe\", \"every\", \"every\", \"exact\", \"example\", \"example\", \"excite\", \"excite\", \"excite\", \"excite\", \"experience\", \"experimentally\", \"expert\", \"explain\", \"explain\", \"explain\", \"explainable\", \"explanatory\", \"extraction\", \"extremely\", \"extremist\", \"faculty\", \"fairumap\", \"feature\", \"feature\", \"feel\", \"finding\", \"finding\", \"first\", \"first\", \"first\", \"first\", \"follow\", \"follow\", \"fooobar\", \"force\", \"forward\", \"forward\", \"forward\", \"forward\", \"forward\", \"found\", \"framework\", \"franberman\", \"frequentist\", \"friend\", \"friend\", \"future\", \"future\", \"general\", \"ghostoftsushima\", \"global\", \"google\", \"google\", \"google\", \"grateful\", \"great\", \"great\", \"great\", \"great\", \"great\", \"great\", \"great\", \"group\", \"group\", \"group\", \"group\", \"group\", \"guest\", \"guide\", \"guilty\", \"handful\", \"handle\", \"happen\", \"harness\", \"harness\", \"harvard\", \"harvard\", \"health\", \"health\", \"health\", \"historical\", \"host\", \"hotcrp\", \"however\", \"human\", \"human\", \"iaiedsociety\", \"iamsimonhill\", \"ieeessp\", \"ijcai2021\", \"ijcaiconf\", \"impact\", \"imperfect\", \"important\", \"important\", \"important\", \"inadequate\", \"incentive\", \"india\", \"india\", \"information\", \"innovative\", \"inspiration\", \"instagram\", \"install\", \"insult\", \"interest\", \"interest\", \"interest\", \"interest\", \"interest\", \"interest\", \"interest\", \"intervention\", \"interview\", \"interview\", \"invest\", \"jeffdean\", \"jlowepower\", \"joecdonahue\", \"journey\", \"judgement\", \"kahneman\", \"keynote\", \"keynote\", \"keynote\", \"later\", \"leake\", \"learn\", \"learn\", \"learn\", \"learning\", \"learning\", \"learning\", \"least\", \"lecture\", \"lecture\", \"lecture\", \"lesson\", \"lifelong\", \"lifetime\", \"light\", \"literary\", \"looking\", \"looking\", \"looking\", \"looking\", \"looking\", \"mackenzie\", \"majors\", \"management\", \"markgatiss\", \"medium\", \"medium\", \"meet\", \"member\", \"member\", \"member\", \"merging\", \"message\", \"message\", \"metaphor\", \"mistake\", \"mistake\", \"model\", \"model\", \"modeling\", \"modsim\", \"morning\", \"morning\", \"multiarmed\", \"names\", \"need\", \"network\", \"network\", \"nicolacullum\", \"nicolacullum\", \"noise\", \"notably\", \"nsfcise\", \"oblivious\", \"occupancy\", \"ocramzyo\", \"odihq\", \"oligopoly\", \"opendata\", \"opportunity\", \"others\", \"pandemic\", \"paper\", \"paper\", \"paper\", \"paper\", \"paper\", \"paper\", \"paradox\", \"parks\", \"particularly\", \"perfect\", \"perfectly\", \"performance\", \"person\", \"person\", \"photo\", \"place\", \"place\", \"place\", \"place\", \"please\", \"please\", \"please\", \"please\", \"please\", \"point\", \"ponzi\", \"population\", \"postdoc\", \"postdoc\", \"poster\", \"potential\", \"power\", \"practice\", \"practice\", \"precision\", \"present\", \"present\", \"present\", \"present\", \"prevent\", \"prevent\", \"previous\", \"princetoncs\", \"privacy\", \"privacy\", \"problem\", \"process\", \"produce\", \"product\", \"prof\", \"protect\", \"protect\", \"ps5share\", \"public\", \"public\", \"publish\", \"python\", \"quantify\", \"questions-\", \"quiet\", \"r2croak\", \"raise\", \"raiseaisummit\", \"randomness\", \"reading\", \"reading\", \"realbillms\", \"realise\", \"really\", \"really\", \"really\", \"receive\", \"recommendation\", \"recommendation\", \"refer\", \"reflection\", \"remember\", \"remember\", \"rememberthe\", \"remind\", \"report\", \"research\", \"research\", \"research\", \"research\", \"research\", \"research\", \"research\", \"researcher\", \"restless\", \"result\", \"result\", \"review\", \"review\", \"review\", \"reviewer\", \"right\", \"risk\", \"robot\", \"rosemary\", \"running\", \"running\", \"sample\", \"sarahladuke\", \"saurabh\", \"saying\", \"science\", \"science\", \"seankandel\", \"search\", \"search\", \"search\", \"security\", \"security\", \"security\", \"seeing\", \"semester\", \"seminal\", \"seminar\", \"seminar\", \"senate\", \"senate\", \"sensing\", \"sensys2020\", \"separation\", \"seralinardi\", \"serious\", \"serve\", \"shadow\", \"sic\", \"sigmetrics\", \"significance\", \"significant\", \"similar\", \"similar\", \"sitting\", \"skairam\", \"slide\", \"slideshare\", \"slideshows\", \"smart\", \"snooze\", \"social\", \"social\", \"social\", \"society\", \"something\", \"something\", \"sometimes\", \"somewhere\", \"southamptoncc\", \"speak\", \"stand\", \"stand\", \"stanford\", \"stanford\", \"stateway\", \"stepssession\", \"stop\", \"student\", \"student\", \"student\", \"study\", \"study\", \"stuff\", \"stuff\", \"stuff\", \"substantial\", \"suggest\", \"suggest\", \"summit\", \"superheros\", \"susan\", \"system\", \"system\", \"system\", \"talk\", \"talking\", \"talking\", \"talks\", \"talks\", \"target\", \"taylor\", \"tboug\", \"tcuarch\", \"terrygipsonny\", \"thank\", \"thank\", \"thank\", \"thank\", \"thanks\", \"thanks\", \"thanks\", \"thanks\", \"thanks\", \"thermofluidic\", \"things\", \"things\", \"things\", \"think\", \"think\", \"think\", \"think\", \"thinking\", \"thinking\", \"thinking\", \"though\", \"though\", \"thought\", \"three\", \"three\", \"throw\", \"today\", \"today\", \"today\", \"together\", \"together\", \"topic\", \"topic\", \"towards\", \"train\", \"training\", \"training\", \"transform\", \"transform\", \"transparency\", \"transparent\", \"travel\", \"treesouthsideruns\", \"triathlon\", \"truly\", \"truly\", \"try\", \"try\", \"tweet\", \"tweet\", \"tweet\", \"tweet\", \"uctnews\", \"ultra\", \"underrepresented\", \"understanding\", \"university\", \"university\", \"university\", \"unusual\", \"update\", \"update\", \"urgent\", \"usability\", \"user\", \"user\", \"user\", \"using\", \"uwcse\", \"valentina\", \"victorasal\", \"victorasal\", \"victorasal\", \"violence\", \"vision\", \"visseho09\", \"visual\", \"visualization\", \"visualization\", \"wamcroundtable\", \"webcam\", \"welcome\", \"welcome\", \"whether\", \"white\", \"window\", \"without\", \"working\", \"working\", \"working\", \"workshop\", \"workshop\", \"world\", \"world\", \"world\", \"would\", \"would\", \"would\", \"years\", \"zhoubolei\"]}, \"R\": 30, \"lambda.step\": 0.01, \"plot.opts\": {\"xlab\": \"PC1\", \"ylab\": \"PC2\"}, \"topic.order\": [1, 2, 3, 4, 5, 6, 7, 8, 9, 10]};\n",
              "\n",
              "function LDAvis_load_lib(url, callback){\n",
              "  var s = document.createElement('script');\n",
              "  s.src = url;\n",
              "  s.async = true;\n",
              "  s.onreadystatechange = s.onload = callback;\n",
              "  s.onerror = function(){console.warn(\"failed to load library \" + url);};\n",
              "  document.getElementsByTagName(\"head\")[0].appendChild(s);\n",
              "}\n",
              "\n",
              "if(typeof(LDAvis) !== \"undefined\"){\n",
              "   // already loaded: just create the visualization\n",
              "   !function(LDAvis){\n",
              "       new LDAvis(\"#\" + \"ldavis_el611406417628935208879459859\", ldavis_el611406417628935208879459859_data);\n",
              "   }(LDAvis);\n",
              "}else if(typeof define === \"function\" && define.amd){\n",
              "   // require.js is available: use it to load d3/LDAvis\n",
              "   require.config({paths: {d3: \"https://d3js.org/d3.v5\"}});\n",
              "   require([\"d3\"], function(d3){\n",
              "      window.d3 = d3;\n",
              "      LDAvis_load_lib(\"https://cdn.jsdelivr.net/gh/bmabey/pyLDAvis@3.3.1/pyLDAvis/js/ldavis.v3.0.0.js\", function(){\n",
              "        new LDAvis(\"#\" + \"ldavis_el611406417628935208879459859\", ldavis_el611406417628935208879459859_data);\n",
              "      });\n",
              "    });\n",
              "}else{\n",
              "    // require.js not available: dynamically load d3 & LDAvis\n",
              "    LDAvis_load_lib(\"https://d3js.org/d3.v5.js\", function(){\n",
              "         LDAvis_load_lib(\"https://cdn.jsdelivr.net/gh/bmabey/pyLDAvis@3.3.1/pyLDAvis/js/ldavis.v3.0.0.js\", function(){\n",
              "                 new LDAvis(\"#\" + \"ldavis_el611406417628935208879459859\", ldavis_el611406417628935208879459859_data);\n",
              "            })\n",
              "         });\n",
              "}\n",
              "</script>"
            ]
          },
          "metadata": {},
          "execution_count": 78
        }
      ],
      "source": [
        "import pyLDAvis\n",
        "import pyLDAvis.gensim_models as gensimvis\n",
        "pyLDAvis.enable_notebook()\n",
        "lda10 = gensim.models.ldamodel.LdaModel.load('model10.gensim')\n",
        "lda_display = gensimvis.prepare(lda10, corpus, dictionary, sort_topics=False)\n",
        "pyLDAvis.display(lda_display)"
      ]
    }
  ],
  "metadata": {
    "kernelspec": {
      "display_name": "Python 3",
      "language": "python",
      "name": "python3"
    },
    "language_info": {
      "codemirror_mode": {
        "name": "ipython",
        "version": 3
      },
      "file_extension": ".py",
      "mimetype": "text/x-python",
      "name": "python",
      "nbconvert_exporter": "python",
      "pygments_lexer": "ipython3",
      "version": "3.6.4"
    },
    "colab": {
      "name": "topic_modeling_Gensim.ipynb",
      "provenance": [],
      "collapsed_sections": []
    }
  },
  "nbformat": 4,
  "nbformat_minor": 0
}